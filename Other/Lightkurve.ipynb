{
 "cells": [
  {
   "cell_type": "code",
   "execution_count": 8,
   "id": "e527f9ad-8317-4de2-8f74-22ecbd6e9319",
   "metadata": {},
   "outputs": [],
   "source": [
    "#normalize X values to help model converge\n",
    "def normalize(data):\n",
    "    mean = np.mean(data, axis=0)\n",
    "    std = np.std(data, axis=0)\n",
    "    data = (data - mean) / std\n",
    "    return data"
   ]
  },
  {
   "cell_type": "code",
   "execution_count": 9,
   "id": "74f77034-45e3-4765-842c-cd58f92c88a1",
   "metadata": {},
   "outputs": [],
   "source": [
    "import lightkurve as lk\n",
    "import pandas as pd\n",
    "import numpy as np\n",
    "from tsfresh import extract_features\n",
    "from tsfresh.feature_extraction import MinimalFCParameters, EfficientFCParameters\n",
    "\n",
    "pixelfile = lk.search_targetpixelfile(\"Trappist-1\")[1].download()\n",
    "lc = pixelfile.to_lightcurve(method=\"pld\")\n",
    "matrix = np.zeros((2,3197))\n",
    "matrix[0] = np.array(lc.flux)[:3197]\n",
    "ts = lk.read(\"Lightcurves/HAT-P-7b-lc.fits\")\n",
    "lc = lk.LightCurve(ts)\n",
    "matrix[1] = np.array(lc.flux)[:3197]\n",
    "inference = normalize(matrix)"
   ]
  },
  {
   "cell_type": "code",
   "execution_count": 14,
   "id": "e561eeb7-6940-4a57-9779-e3e6f7db4bd5",
   "metadata": {},
   "outputs": [
    {
     "name": "stdout",
     "output_type": "stream",
     "text": [
      "18424 758\n",
      "19182\n",
      "<class 'numpy.ndarray'>\n",
      "19182\n",
      "6\n",
      "[[15093.22  15069.889 15082.259 ... 15098.509 15102.568 15069.43 ]\n",
      " [15047.939 15085.095 15090.239 ... 15109.166 15079.969 15102.488]\n",
      " [15085.565 15103.742 15087.44  ... 15095.961 15081.653 15133.081]\n",
      " [15092.11  15091.476 15077.059 ... 15083.673 15113.691 15091.122]\n",
      " [15077.417 15079.411 15085.794 ... 15002.069 14969.357 14988.887]\n",
      " [14973.506 14973.703 14993.971 ... 15085.748 15085.748 15085.748]]\n",
      "       id   time          flux\n",
      "0       0      0  15093.219727\n",
      "1       0      1  15069.888672\n",
      "2       0      2  15082.258789\n",
      "3       0      3  15110.080078\n",
      "4       0      4  15098.575195\n",
      "...    ..    ...           ...\n",
      "18419   0  18419  15101.319336\n",
      "18420   0  18420  15103.712891\n",
      "18421   0  18421  15087.833984\n",
      "18422   0  18422  15135.316406\n",
      "18423   0  18423  15078.958008\n",
      "\n",
      "[18424 rows x 3 columns]\n"
     ]
    }
   ],
   "source": [
    "flux_copy = np.array(lc.flux)\n",
    "amt_pad = 3197-(len(lc.flux)%3197)\n",
    "print(len(flux_copy), amt_pad)\n",
    "print(len(flux_copy) + amt_pad)\n",
    "print(type(flux_copy))\n",
    "flux_median = np.full(shape=amt_pad,fill_value=np.median(np.array(lc.flux)))\n",
    "flux_copy = np.append(flux_copy,flux_median)\n",
    "print(len(flux_copy))\n",
    "tim_size = len(flux_copy)//3197\n",
    "print(tim_size)\n",
    "tim_matrix = np.reshape(flux_copy, (tim_size,3197))\n",
    "print(tim_matrix)\n",
    "\n",
    "matr = pd.DataFrame({\"id\" : np.zeros(len(lc.flux), dtype=int),\n",
    "                \"time\" : list(range(0, len(lc.flux))),\n",
    "                \"flux\" : np.array(lc.flux).byteswap().newbyteorder()})\n",
    "print(matr)"
   ]
  },
  {
   "cell_type": "code",
   "execution_count": 15,
   "id": "9c4722aa-1f01-4c8d-acd3-147b6c0c28b4",
   "metadata": {},
   "outputs": [
    {
     "name": "stderr",
     "output_type": "stream",
     "text": [
      "Feature Extraction: 100%|██████████| 1/1 [00:14<00:00, 14.26s/it]\n"
     ]
    },
    {
     "data": {
      "text/html": [
       "<div>\n",
       "<style scoped>\n",
       "    .dataframe tbody tr th:only-of-type {\n",
       "        vertical-align: middle;\n",
       "    }\n",
       "\n",
       "    .dataframe tbody tr th {\n",
       "        vertical-align: top;\n",
       "    }\n",
       "\n",
       "    .dataframe thead th {\n",
       "        text-align: right;\n",
       "    }\n",
       "</style>\n",
       "<table border=\"1\" class=\"dataframe\">\n",
       "  <thead>\n",
       "    <tr style=\"text-align: right;\">\n",
       "      <th></th>\n",
       "      <th>flux__variance_larger_than_standard_deviation</th>\n",
       "      <th>flux__has_duplicate_max</th>\n",
       "      <th>flux__has_duplicate_min</th>\n",
       "      <th>flux__has_duplicate</th>\n",
       "      <th>flux__sum_values</th>\n",
       "      <th>flux__abs_energy</th>\n",
       "      <th>flux__mean_abs_change</th>\n",
       "      <th>flux__mean_change</th>\n",
       "      <th>flux__mean_second_derivative_central</th>\n",
       "      <th>flux__median</th>\n",
       "      <th>...</th>\n",
       "      <th>flux__permutation_entropy__dimension_5__tau_1</th>\n",
       "      <th>flux__permutation_entropy__dimension_6__tau_1</th>\n",
       "      <th>flux__permutation_entropy__dimension_7__tau_1</th>\n",
       "      <th>flux__query_similarity_count__query_None__threshold_0.0</th>\n",
       "      <th>flux__matrix_profile__feature_\"min\"__threshold_0.98</th>\n",
       "      <th>flux__matrix_profile__feature_\"max\"__threshold_0.98</th>\n",
       "      <th>flux__matrix_profile__feature_\"mean\"__threshold_0.98</th>\n",
       "      <th>flux__matrix_profile__feature_\"median\"__threshold_0.98</th>\n",
       "      <th>flux__matrix_profile__feature_\"25\"__threshold_0.98</th>\n",
       "      <th>flux__matrix_profile__feature_\"75\"__threshold_0.98</th>\n",
       "    </tr>\n",
       "  </thead>\n",
       "  <tbody>\n",
       "    <tr>\n",
       "      <th>0</th>\n",
       "      <td>1.0</td>\n",
       "      <td>0.0</td>\n",
       "      <td>0.0</td>\n",
       "      <td>1.0</td>\n",
       "      <td>277856320.0</td>\n",
       "      <td>4.190426e+12</td>\n",
       "      <td>19.163937</td>\n",
       "      <td>-0.000774</td>\n",
       "      <td>-0.000896</td>\n",
       "      <td>15085.748047</td>\n",
       "      <td>...</td>\n",
       "      <td>4.784825</td>\n",
       "      <td>6.559999</td>\n",
       "      <td>8.378373</td>\n",
       "      <td>NaN</td>\n",
       "      <td>0.96803</td>\n",
       "      <td>2.484583</td>\n",
       "      <td>1.941508</td>\n",
       "      <td>1.965132</td>\n",
       "      <td>1.816393</td>\n",
       "      <td>2.091379</td>\n",
       "    </tr>\n",
       "  </tbody>\n",
       "</table>\n",
       "<p>1 rows × 781 columns</p>\n",
       "</div>"
      ],
      "text/plain": [
       "   flux__variance_larger_than_standard_deviation  flux__has_duplicate_max  \\\n",
       "0                                            1.0                      0.0   \n",
       "\n",
       "   flux__has_duplicate_min  flux__has_duplicate  flux__sum_values  \\\n",
       "0                      0.0                  1.0       277856320.0   \n",
       "\n",
       "   flux__abs_energy  flux__mean_abs_change  flux__mean_change  \\\n",
       "0      4.190426e+12              19.163937          -0.000774   \n",
       "\n",
       "   flux__mean_second_derivative_central  flux__median  ...  \\\n",
       "0                             -0.000896  15085.748047  ...   \n",
       "\n",
       "   flux__permutation_entropy__dimension_5__tau_1  \\\n",
       "0                                       4.784825   \n",
       "\n",
       "   flux__permutation_entropy__dimension_6__tau_1  \\\n",
       "0                                       6.559999   \n",
       "\n",
       "   flux__permutation_entropy__dimension_7__tau_1  \\\n",
       "0                                       8.378373   \n",
       "\n",
       "   flux__query_similarity_count__query_None__threshold_0.0  \\\n",
       "0                                                NaN         \n",
       "\n",
       "   flux__matrix_profile__feature_\"min\"__threshold_0.98  \\\n",
       "0                                            0.96803     \n",
       "\n",
       "   flux__matrix_profile__feature_\"max\"__threshold_0.98  \\\n",
       "0                                           2.484583     \n",
       "\n",
       "   flux__matrix_profile__feature_\"mean\"__threshold_0.98  \\\n",
       "0                                           1.941508      \n",
       "\n",
       "   flux__matrix_profile__feature_\"median\"__threshold_0.98  \\\n",
       "0                                           1.965132        \n",
       "\n",
       "   flux__matrix_profile__feature_\"25\"__threshold_0.98  \\\n",
       "0                                           1.816393    \n",
       "\n",
       "   flux__matrix_profile__feature_\"75\"__threshold_0.98  \n",
       "0                                           2.091379   \n",
       "\n",
       "[1 rows x 781 columns]"
      ]
     },
     "execution_count": 15,
     "metadata": {},
     "output_type": "execute_result"
    }
   ],
   "source": [
    "extracted_features = extract_features(matr, column_id= \"id\", column_sort= \"time\", \n",
    "                                      column_value= \"flux\", \n",
    "                                      default_fc_parameters= EfficientFCParameters())\n",
    "extracted_features"
   ]
  },
  {
   "cell_type": "code",
   "execution_count": 3,
   "id": "5acfe6fe-6631-43b6-9b11-0bc430ba5872",
   "metadata": {},
   "outputs": [],
   "source": [
    "with open('Models/lk.npy', 'wb') as f:\n",
    "    np.save(f, inference)"
   ]
  },
  {
   "cell_type": "code",
   "execution_count": 4,
   "id": "d0799dfa-47d7-4525-b19d-a1cf602dd8b1",
   "metadata": {},
   "outputs": [
    {
     "name": "stdout",
     "output_type": "stream",
     "text": [
      "5.76290272130122\n"
     ]
    }
   ],
   "source": []
  },
  {
   "cell_type": "code",
   "execution_count": null,
   "id": "183e744b-dabe-43ae-b479-e1340845e4b6",
   "metadata": {},
   "outputs": [],
   "source": []
  }
 ],
 "metadata": {
  "environment": {
   "kernel": "python3",
   "name": "tf2-gpu.2-6.m87",
   "type": "gcloud",
   "uri": "gcr.io/deeplearning-platform-release/tf2-gpu.2-6:m87"
  },
  "kernelspec": {
   "display_name": "Python 3",
   "language": "python",
   "name": "python3"
  },
  "language_info": {
   "codemirror_mode": {
    "name": "ipython",
    "version": 3
   },
   "file_extension": ".py",
   "mimetype": "text/x-python",
   "name": "python",
   "nbconvert_exporter": "python",
   "pygments_lexer": "ipython3",
   "version": "3.7.12"
  }
 },
 "nbformat": 4,
 "nbformat_minor": 5
}
