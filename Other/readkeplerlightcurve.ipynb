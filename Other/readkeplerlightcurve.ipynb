{
 "cells": [
  {
   "cell_type": "code",
   "execution_count": 3,
   "id": "98622728-295a-424f-8888-97eaaa1bc150",
   "metadata": {},
   "outputs": [
    {
     "name": "stdout",
     "output_type": "stream",
     "text": [
      "  131.5121783 131.5326127 131.5530469 131.5734811 131.5939153 131.6143497  \\\n",
      "0    0.000346    0.000323    0.000007    0.000216    0.000168   -0.000377   \n",
      "1          --          --          --          --          --          --   \n",
      "2   -0.000403   -0.000068    0.000111    0.000065    0.000168    0.000091   \n",
      "3          --          --    0.000103   -0.000105    0.000006   -0.000031   \n",
      "4   -0.001675    0.000907          --          --          --          --   \n",
      "\n",
      "  131.6347839 131.6552181 131.6756525 131.6960867  ...   kepid_y tce_plnt_num  \\\n",
      "0    0.000691    0.000132   -0.000102   -0.000381  ...  11502172            2   \n",
      "1          --          --          --          --  ...  10268907            1   \n",
      "2    0.000157    0.000803   -0.000013   -0.000009  ...   6867766            1   \n",
      "3   -0.000031    0.000009   -0.000138    0.000012  ...   9958053            4   \n",
      "4          --          --          --          --  ...   6061584            2   \n",
      "\n",
      "  tce_period tce_period_err tce_time0bk tce_time0bk_err tce_duration  \\\n",
      "0  25.432000       0.000005     146.866        0.000156        5.609   \n",
      "1   1.103960       0.000005     131.582        0.000965        1.127   \n",
      "2  12.964700       0.000003     136.143        0.000203        1.792   \n",
      "3   0.911299       0.000010     132.002        0.002763        2.655   \n",
      "4   0.561995       0.000011     131.842        0.002135        1.427   \n",
      "\n",
      "  tce_duration_err av_training_set     new_id  \n",
      "0          0.21760               0  115021722  \n",
      "1          0.06320               0  102689071  \n",
      "2          0.02414               1   68677661  \n",
      "3          0.43080               0   99580534  \n",
      "4          0.54230               0   60615842  \n",
      "\n",
      "[5 rows x 71439 columns]\n",
      "Index([       1590.878872,       1590.8993064,       1590.9197405,\n",
      "             1590.9401749,       1590.9606091,       1590.9810433,\n",
      "             1591.0014776,          'kepid_x',        'loc_rowid',\n",
      "                'kepid_y',     'tce_plnt_num',       'tce_period',\n",
      "         'tce_period_err',      'tce_time0bk',  'tce_time0bk_err',\n",
      "           'tce_duration', 'tce_duration_err',  'av_training_set',\n",
      "                 'new_id'],\n",
      "      dtype='object')\n"
     ]
    }
   ],
   "source": [
    "import pandas\n",
    "import numpy\n",
    "\n",
    "dataset = pandas.read_pickle('./kepler_dataset.pkl')\n",
    "print(dataset)\n",
    "print(dataset.columns[71420:])"
   ]
  },
  {
   "cell_type": "code",
   "execution_count": null,
   "id": "3741ef7f-d699-4a91-9b6f-3f64e6917146",
   "metadata": {},
   "outputs": [],
   "source": [
    "def read_kepler_light_curve(dataset, interpolate_missing_time=False):\n",
    "    all_flux = []\n",
    "    all_time = []\n",
    "    for index, row in dataset.iterrows:\n",
    "        time = numpy.array(dataset.columns[:-12]).astype('float')\n",
    "        flux = row.iloc[index, 0:71427].to_numpy()\n",
    "        \n",
    "        all_time.append(time)\n",
    "        all_flux.append(flux)\n",
    "    \n",
    "        for i, (time, flux) in enumerate(zip(all_time, all_flux)):\n",
    "            flux_and_time_finite = np.logical_and(np.isfinite(flux), np.isfinite(time))\n",
    "            all_time[i] = time[flux_and_time_finite]\n",
    "            all_flux[i] = flux[flux_and_time_finite]\n",
    "        "
   ]
  }
 ],
 "metadata": {
  "environment": {
   "kernel": "python3",
   "name": "tf2-gpu.2-6.m87",
   "type": "gcloud",
   "uri": "gcr.io/deeplearning-platform-release/tf2-gpu.2-6:m87"
  },
  "kernelspec": {
   "display_name": "Python 3",
   "language": "python",
   "name": "python3"
  },
  "language_info": {
   "codemirror_mode": {
    "name": "ipython",
    "version": 3
   },
   "file_extension": ".py",
   "mimetype": "text/x-python",
   "name": "python",
   "nbconvert_exporter": "python",
   "pygments_lexer": "ipython3",
   "version": "3.7.12"
  }
 },
 "nbformat": 4,
 "nbformat_minor": 5
}
