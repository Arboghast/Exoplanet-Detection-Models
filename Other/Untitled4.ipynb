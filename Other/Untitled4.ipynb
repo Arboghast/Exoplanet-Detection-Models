{
 "cells": [
  {
   "cell_type": "code",
   "execution_count": 54,
   "id": "e7c89e77-e4d0-410a-845b-28f6d976ddf4",
   "metadata": {},
   "outputs": [],
   "source": [
    "import pandas as pd\n",
    "import numpy as np\n",
    "import csv \n",
    "\n",
    "df = pd.read_csv('./q1_q17_dr24_tce.csv', skiprows=17)\n",
    "df_2 = df[df['av_training_set'] != 'UNK']\n",
    "listofkepid = df_2['kepid'].reset_index()\n",
    "temp = np.array(listofkepid['kepid'], dtype=int)\n",
    "temp = np.unique(temp)\n",
    "np.savetxt(\"listofkepid2.csv\", temp, delimiter=\",\", fmt='%i')\n"
   ]
  },
  {
   "cell_type": "code",
   "execution_count": 48,
   "id": "cd87a460-1aef-426d-8736-46b17ad31cee",
   "metadata": {},
   "outputs": [],
   "source": [
    "listofkepid['kepid'].to_csv('listofkepid.csv')"
   ]
  },
  {
   "cell_type": "code",
   "execution_count": 34,
   "id": "65f95ee0-3f30-4f5b-a501-fc4940a0f7b6",
   "metadata": {},
   "outputs": [
    {
     "data": {
      "text/plain": [
       "1.162345000000000000e+06    1160891.0\n",
       "Name: 5, dtype: float64"
      ]
     },
     "execution_count": 45,
     "metadata": {},
     "output_type": "execute_result"
    }
   ],
   "source": [
    "dftest = pd.read_csv('./listofkepid.csv')\n",
    "\n",
    "dftest.iloc[5]"
   ]
  },
  {
   "cell_type": "code",
   "execution_count": null,
   "id": "80a0ae7f-4f35-42e7-ab5a-e818daaada3d",
   "metadata": {},
   "outputs": [],
   "source": []
  }
 ],
 "metadata": {
  "environment": {
   "kernel": "python3",
   "name": "tf2-gpu.2-6.m87",
   "type": "gcloud",
   "uri": "gcr.io/deeplearning-platform-release/tf2-gpu.2-6:m87"
  },
  "kernelspec": {
   "display_name": "Python 3",
   "language": "python",
   "name": "python3"
  },
  "language_info": {
   "codemirror_mode": {
    "name": "ipython",
    "version": 3
   },
   "file_extension": ".py",
   "mimetype": "text/x-python",
   "name": "python",
   "nbconvert_exporter": "python",
   "pygments_lexer": "ipython3",
   "version": "3.7.12"
  }
 },
 "nbformat": 4,
 "nbformat_minor": 5
}
