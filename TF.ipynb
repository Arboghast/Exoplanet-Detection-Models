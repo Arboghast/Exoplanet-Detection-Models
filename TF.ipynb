{
 "cells": [
  {
   "cell_type": "code",
   "execution_count": null,
   "metadata": {
    "cell_id": "00001-f8eed0cb-219b-4384-9aad-0cef14c223d7",
    "deepnote_cell_type": "code",
    "deepnote_to_be_reexecuted": false,
    "execution_millis": 12811,
    "execution_start": 1632772754654,
    "source_hash": "c179791d",
    "tags": []
   },
   "outputs": [
    {
     "name": "stderr",
     "output_type": "stream",
     "text": [
      "2021-09-27 19:59:15.235514: W tensorflow/stream_executor/platform/default/dso_loader.cc:60] Could not load dynamic library 'libcudart.so.11.0'; dlerror: libcudart.so.11.0: cannot open shared object file: No such file or directory\n",
      "2021-09-27 19:59:15.235569: I tensorflow/stream_executor/cuda/cudart_stub.cc:29] Ignore above cudart dlerror if you do not have a GPU set up on your machine.\n",
      "2021-09-27 19:59:25.880388: I tensorflow/compiler/jit/xla_cpu_device.cc:41] Not creating XLA devices, tf_xla_enable_xla_devices not set\n",
      "2021-09-27 19:59:25.884035: W tensorflow/stream_executor/platform/default/dso_loader.cc:60] Could not load dynamic library 'libcuda.so.1'; dlerror: libcuda.so.1: cannot open shared object file: No such file or directory\n",
      "2021-09-27 19:59:25.884063: W tensorflow/stream_executor/cuda/cuda_driver.cc:326] failed call to cuInit: UNKNOWN ERROR (303)\n",
      "2021-09-27 19:59:25.884083: I tensorflow/stream_executor/cuda/cuda_diagnostics.cc:156] kernel driver does not appear to be running on this host (p-1c58af11-5d4f-40f3-a808-e868f2c28485): /proc/driver/nvidia/version does not exist\n",
      "2021-09-27 19:59:25.885420: I tensorflow/core/platform/cpu_feature_guard.cc:142] This TensorFlow binary is optimized with oneAPI Deep Neural Network Library (oneDNN) to use the following CPU instructions in performance-critical operations:  AVX2 AVX512F FMA\n",
      "To enable them in other operations, rebuild TensorFlow with the appropriate compiler flags.\n",
      "2021-09-27 19:59:25.886548: I tensorflow/compiler/jit/xla_gpu_device.cc:99] Not creating XLA devices, tf_xla_enable_xla_devices not set\n",
      "tf.Tensor([1. 3. 5. 7. 9.], shape=(5,), dtype=float64)\n",
      "tf.Tensor(\n",
      "[[ 0.11388295  0.38582164 -0.21863289 -1.1502359 ]\n",
      " [ 0.22158252  3.8322136   1.6625063   1.6587142 ]], shape=(2, 4), dtype=float32)\n",
      "tf.Tensor([0 1 1 2 3 1 2 3], shape=(8,), dtype=int32)\n",
      "tf.Tensor([1 1 2 3 1 2 3], shape=(7,), dtype=int32)\n",
      "tf.Tensor([1 1], shape=(2,), dtype=int32)\n",
      "tf.Tensor([0 1 3 2], shape=(4,), dtype=int32)\n",
      "tf.Tensor([3 2 1 3 2 1 1 0], shape=(8,), dtype=int32)\n",
      "tf.Tensor([0 2], shape=(2,), dtype=int32)\n",
      "tf.Tensor([1 2], shape=(2,), dtype=int32)\n",
      "tf.Tensor(\n",
      "[[1 2]\n",
      " [3 4]], shape=(2, 2), dtype=int32)\n",
      "tf.Tensor([0 1 2 3 4 5 6 7 8], shape=(9,), dtype=int32)\n",
      "tf.Tensor(\n",
      "[[0 1 2]\n",
      " [3 4 5]\n",
      " [6 7 8]], shape=(3, 3), dtype=int32)\n",
      "tf.Tensor(\n",
      "[[0 3 6]\n",
      " [1 4 7]\n",
      " [2 5 8]], shape=(3, 3), dtype=int32)\n"
     ]
    }
   ],
   "source": [
    "import tensorflow as tf\n",
    "\n",
    "#Initialization of Tensors\n",
    "x = tf.constant(4,shape=(1,1),dtype=tf.float32) #shape syntax(x,y) == dimensions, dtype == unit\n",
    "x = tf.constant([[1,2,3],[4,5,6]])\n",
    "\n",
    "x = tf.ones((3,3))\n",
    "x = tf.zeros((2,3))\n",
    "x = tf.eye(3) #I for the identity matrix (eye)\n",
    "x = tf.random.normal((3,3), mean=0, stddev=1) #Standard Normal Distribution & metrics\n",
    "x = tf.random.uniform((1,3), minval=0, maxval=1) #Have values between 0 and 1\n",
    "x = tf.range(start=1, limit=10, delta=2) #Start at 1, increase step by delta => [start, start+delta until limit]\n",
    "x = tf.cast(x, dtype=tf.float64)\n",
    "\n",
    "print(x)\n",
    "\n",
    "#Mathematical Operations\n",
    "x = tf.constant([1,2,3])\n",
    "y = tf.constant([9,8,7])\n",
    "\n",
    "#Pairwise operations:\n",
    "z = tf.add(x,y) #z = x + y\n",
    "z = tf.subtract(x,y) #z = x - y\n",
    "z = tf.divide(x,y) #z = x / y\n",
    "z = tf.multiply(x,y) #z = x * y\n",
    "\n",
    "#pairwise multiplication and then a summation of values\n",
    "z = tf.tensordot(x,y, axes=1) #z = tf.reduce_sum(x*y,axis=0)\n",
    "\n",
    "z = x ** 5 #scale by constant\n",
    "\n",
    "x = tf.random.normal((2,3))\n",
    "y = tf.random.normal((3,4))\n",
    "\n",
    "# pairwise multiplication\n",
    "z = tf.matmul(x,y) #z = x @ y\n",
    "print(z)\n",
    "\n",
    "#Indexing\n",
    "x = tf.constant([0,1,1,2,3,1,2,3])\n",
    "print(x[:]) #prints all of the set\n",
    "print(x[1:]) #prints all of the set except the last element\n",
    "\n",
    "print(x[1:3]) #third element not inclusive (1,3]\n",
    "print(x[::2]) #prints every other number, step distance == 2\n",
    "print(x[::-1]) #prints in reverse order, with step distance == 1\n",
    "\n",
    "indices = tf.constant([0,3]) \n",
    "x_ind = tf.gather(x,indices) #extract values at the specified indicies from matrix x\n",
    "print(x_ind)\n",
    "\n",
    "x = tf.constant([[1,2],\n",
    "                [3,4],\n",
    "                [5,6]])\n",
    "print(x[0,:]) # x[0] == prints all the values in first vector\n",
    "print(x[0:2,:]) #prints all the values in first two vector\n",
    "\n",
    "#Reshaping\n",
    "x = tf.range(9)\n",
    "print(x)\n",
    "\n",
    "x = tf.reshape(x,(3,3)) #changes the vector into a matrix with the given dimensions\n",
    "print(x)\n",
    "\n",
    "x = tf.transpose(x, perm=[1,0]) #perm(1,0) converts the rows to columns and vice versa\n",
    "print(x)\n",
    "\n"
   ]
  },
  {
   "cell_type": "code",
   "execution_count": null,
   "metadata": {
    "cell_id": "00002-5523b179-cd9d-4b32-9b04-7c1715d3f63f",
    "deepnote_cell_type": "code",
    "deepnote_to_be_reexecuted": false,
    "execution_millis": 9317,
    "execution_start": 1632772767480,
    "source_hash": "5f34cb78",
    "tags": []
   },
   "outputs": [
    {
     "name": "stdout",
     "output_type": "stream",
     "text": [
      "WARNING:tensorflow:From /shared-libs/python3.7/py/lib/python3.7/site-packages/tensorflow/python/compat/v2_compat.py:96: disable_resource_variables (from tensorflow.python.ops.variable_scope) is deprecated and will be removed in a future version.\n",
      "Instructions for updating:\n",
      "non-resource variables are not supported in the long term\n",
      "2021-09-27 19:59:30.478218: I tensorflow/compiler/jit/xla_gpu_device.cc:99] Not creating XLA devices, tf_xla_enable_xla_devices not set\n",
      "2021-09-27 19:59:30.480890: I tensorflow/compiler/mlir/mlir_graph_optimization_pass.cc:196] None of the MLIR optimization passes are enabled (registered 0 passes)\n",
      "2021-09-27 19:59:30.490113: I tensorflow/core/platform/profile_utils/cpu_utils.cc:112] CPU Frequency: 2499990000 Hz\n",
      "Epoch: 0050 error= 86.006935120 W= 0.354869 b= 2.9841974\n",
      "Epoch: 0100 error= 68.701316833 W= 0.25485182 b= 5.64286\n",
      "Epoch: 0150 error= 54.934597015 W= 0.16564226 b= 8.014235\n",
      "Epoch: 0200 error= 43.983203888 W= 0.08607241 b= 10.129365\n",
      "Epoch: 0250 error= 35.271408081 W= 0.01510004 b= 12.015956\n",
      "Epoch: 0300 error= 28.341367722 W= -0.04820286 b= 13.698678\n",
      "Epoch: 0350 error= 22.828701019 W= -0.10466567 b= 15.199575\n",
      "Epoch: 0400 error= 18.443685532 W= -0.1550261 b= 16.53826\n",
      "Epoch: 0450 error= 14.955580711 W= -0.19994538 b= 17.732306\n",
      "Epoch: 0500 error= 12.181049347 W= -0.2400102 b= 18.797312\n",
      "Epoch: 0550 error= 9.974040985 W= -0.27574724 b= 19.747276\n",
      "Epoch: 0600 error= 8.218619347 W= -0.3076221 b= 20.594574\n",
      "Epoch: 0650 error= 6.822391033 W= -0.33605236 b= 21.350311\n",
      "Epoch: 0700 error= 5.711886406 W= -0.36141062 b= 22.024385\n",
      "Epoch: 0750 error= 4.828653812 W= -0.3840288 b= 22.625626\n",
      "Epoch: 0800 error= 4.126229763 W= -0.4042026 b= 23.161884\n",
      "Epoch: 0850 error= 3.567606688 W= -0.42219636 b= 23.640194\n",
      "Epoch: 0900 error= 3.123372793 W= -0.4382453 b= 24.066809\n",
      "Epoch: 0950 error= 2.770079136 W= -0.45256144 b= 24.447363\n",
      "Epoch: 1000 error= 2.489158154 W= -0.46533063 b= 24.786793\n",
      "Optimization Finished!\n",
      "Training error= 2.4891582 W= -0.46533063 b= 24.786793 \n",
      "\n"
     ]
    },
    {
     "data": {
      "image/png": "[encoded data removed]",
      "text/plain": [
       "<Figure size 432x288 with 1 Axes>"
      ]
     },
     "metadata": {
      "image/png": {
       "height": 248,
       "width": 378
      },
      "needs_background": "light"
     },
     "output_type": "display_data"
    },
    {
     "name": "stdout",
     "output_type": "stream",
     "text": [
      "Testing... (Mean square loss Comparison)\n",
      "Testing error= 1.6383076\n",
      "Absolute mean square loss difference: 0.8508506\n"
     ]
    },
    {
     "data": {
      "image/png": "[encoded data removed]",
      "text/plain": [
       "<Figure size 432x288 with 1 Axes>"
      ]
     },
     "metadata": {
      "image/png": {
       "height": 248,
       "width": 368
      },
      "needs_background": "light"
     },
     "output_type": "display_data"
    }
   ],
   "source": [
    "# https://www.youtube.com/watch?v=2BusGJyn77E\n",
    "\n",
    "import tensorflow.compat.v1 as tf\n",
    "tf.disable_v2_behavior() \n",
    "import numpy\n",
    "import pandas as pd\n",
    "import matplotlib.pyplot as plt\n",
    "\n",
    "#Getting the data\n",
    "spreadsheet = 'archive/LR_ML.xlsx'\n",
    "data = pd.read_excel(spreadsheet)\n",
    "\n",
    "months = data['Machine Age (Months)'].values\n",
    "MTBF = data['Mean Time Between Failure (Days)'].values\n",
    "\n",
    "train_X = numpy.asarray(months)\n",
    "train_Y = numpy.asarray(MTBF)\n",
    "\n",
    "#hyperparameters\n",
    "learning_rate = 0.01\n",
    "training_epochs = 1000\n",
    "\n",
    "#parameter\n",
    "display_step = 50 #used for visualization, not by the model\n",
    "\n",
    "n_samples = train_X.shape[0]\n",
    "\n",
    "X = tf.placeholder('float')\n",
    "Y = tf.placeholder('float')\n",
    "\n",
    "rng = numpy.random\n",
    "W = tf.Variable(rng.randn(), name=\"Weight\")\n",
    "b = tf.Variable(rng.randn(), name='bias')\n",
    "\n",
    "pred = tf.add(tf.multiply(X,W),b) # linear model equation: y^ = x*W + b\n",
    "\n",
    "        # summation\n",
    "error = tf.reduce_sum(tf.pow(pred-Y,2)) / (2*n_samples) #Mean sqared error\n",
    "\n",
    "#gradient descent == type of training algorithm\n",
    "optimizer = tf.train.GradientDescentOptimizer(learning_rate).minimize(error) #configures model to use gradient descent algo\n",
    "\n",
    "init = tf.global_variables_initializer() #initialized any tf.variables https://stackoverflow.com/questions/44433438/what-is-the-purpose-of-tf-global-variables-initializer\n",
    "\n",
    "# Start training\n",
    "with tf.Session() as sess: #handles cleanup of tf.Session() resources https://preshing.com/20110920/the-python-with-statement-by-example/\n",
    "\n",
    "    # Run the initializer\n",
    "    sess.run(init) # load variables\n",
    "\n",
    "    # Fit all training data\n",
    "    for epoch in range(training_epochs): # 1 - 1000\n",
    "\n",
    "        #for i = 0 i < train_x.size\n",
    "        #    sess.run(optimizer, feed_dict={X:train_X[i], Y: train_Y[i]}))\n",
    "\n",
    "        #pairwise list, for each element in this list\n",
    "        for (x, y) in zip(train_X, train_Y): #((train_X[0],train_Y[0]),(train_X[1],train_Y[1],...))\n",
    "            sess.run(optimizer, feed_dict={X: x, Y: y}) #feed model our data sets\n",
    "\n",
    "        # Display logs per epoch step        \n",
    "        if (epoch+1) % display_step == 0:\n",
    "            c = sess.run(error, feed_dict={X: train_X, Y:train_Y})\n",
    "            print(\"Epoch:\", '%04d' % (epoch+1), \"error=\", \"{:.9f}\".format(c), \\\n",
    "                \"W=\", sess.run(W), \"b=\", sess.run(b))\n",
    "\n",
    "    print(\"Optimization Finished!\")\n",
    "    training_error = sess.run(error, feed_dict={X: train_X, Y: train_Y})\n",
    "    print(\"Training error=\", training_error, \"W=\", sess.run(W), \"b=\", sess.run(b), '\\n')\n",
    "\n",
    "    # Graphic display\n",
    "    plt.plot(train_X, train_Y, 'ro', label='Original data')\n",
    "    plt.plot(train_X, sess.run(W) * train_X + sess.run(b), label='Fitted line')\n",
    "    plt.legend()\n",
    "    plt.show()\n",
    "\n",
    "    # Testing example, as requested (Issue #2)\n",
    "    test_X = numpy.asarray([2,4,6,8,10])\n",
    "    test_Y = numpy.asarray([25,23,21,19,17])\n",
    "\n",
    "    print(\"Testing... (Mean square loss Comparison)\")\n",
    "    testing_error = sess.run(\n",
    "        tf.reduce_sum(tf.pow(pred - Y, 2)) / (2 * test_X.shape[0]),\n",
    "        feed_dict={X: test_X, Y: test_Y})  # same function as cost above\n",
    "    print(\"Testing error=\", testing_error)\n",
    "    print(\"Absolute mean square loss difference:\", abs(\n",
    "        training_error - testing_error))\n",
    "\n",
    "    plt.plot(test_X, test_Y, 'bo', label='Testing data')\n",
    "    plt.plot(train_X, sess.run(W) * train_X + sess.run(b), label='Fitted line')\n",
    "    plt.legend()\n",
    "    plt.show()\n",
    "\n",
    "    "
   ]
  },
  {
   "cell_type": "markdown",
   "metadata": {
    "cell_id": "00003-c5d9e42b-71c3-4706-ad87-0fc06f631736",
    "deepnote_cell_type": "markdown",
    "tags": []
   },
   "source": [
    "![Picture title](image-20210919-204224.png)"
   ]
  },
  {
   "cell_type": "markdown",
   "metadata": {
    "cell_id": "00003-1e1d7d49-0bcb-479f-b3f3-021dceafbb5c",
    "deepnote_cell_type": "markdown",
    "tags": []
   },
   "source": [
    "![Picture title](image-20210919-202333.png)"
   ]
  },
  {
   "cell_type": "markdown",
   "metadata": {
    "cell_id": "00003-d4d02813-8ec3-4b06-aab0-e465379a557d",
    "deepnote_cell_type": "markdown",
    "tags": []
   },
   "source": [
    "![Picture title](image-20210919-202318.png)"
   ]
  },
  {
   "cell_type": "code",
   "execution_count": null,
   "metadata": {
    "cell_id": "00005-35723876-4246-4b85-95c3-1a47fadc9790",
    "deepnote_cell_type": "code",
    "deepnote_to_be_reexecuted": false,
    "execution_millis": 1696,
    "execution_start": 1632772776808,
    "source_hash": "87cccd73",
    "tags": []
   },
   "outputs": [
    {
     "data": {
      "image/png": "[encoded data removed]",
      "text/plain": [
       "<Figure size 432x288 with 1 Axes>"
      ]
     },
     "metadata": {
      "image/png": {
       "height": 248,
       "width": 368
      },
      "needs_background": "light"
     },
     "output_type": "display_data"
    },
    {
     "name": "stderr",
     "output_type": "stream",
     "text": [
      "2021-09-27 19:59:37.067255: I tensorflow/compiler/jit/xla_gpu_device.cc:99] Not creating XLA devices, tf_xla_enable_xla_devices not set\n",
      "epoch: 0000 c=48.9531 w=2.2644 b=0.2729\n",
      "epoch: 0020 c=7.0068 w=3.0342 b=0.3479\n",
      "epoch: 0040 c=7.0063 w=3.0336 b=0.3571\n",
      "epoch: 0060 c=7.0057 w=3.0330 b=0.3659\n",
      "epoch: 0080 c=7.0053 w=3.0325 b=0.3742\n",
      "epoch: 0100 c=7.0048 w=3.0320 b=0.3821\n",
      "epoch: 0120 c=7.0044 w=3.0315 b=0.3896\n",
      "epoch: 0140 c=7.0041 w=3.0310 b=0.3967\n",
      "epoch: 0160 c=7.0037 w=3.0306 b=0.4035\n",
      "epoch: 0180 c=7.0034 w=3.0302 b=0.4099\n"
     ]
    },
    {
     "data": {
      "image/png": "[encoded data removed]",
      "text/plain": [
       "<Figure size 432x288 with 1 Axes>"
      ]
     },
     "metadata": {
      "image/png": {
       "height": 248,
       "width": 368
      },
      "needs_background": "light"
     },
     "output_type": "display_data"
    }
   ],
   "source": [
    "import tensorflow.compat.v1 as tf\n",
    "tf.disable_v2_behavior() \n",
    "import numpy as np\n",
    "import pandas as pd\n",
    "import matplotlib.pyplot as plt\n",
    "\n",
    "learning_rate =0.01\n",
    "epochs=200\n",
    "n_samples = 30\n",
    "train_x = np.linspace(0,20,n_samples)\n",
    "train_y = 3 * train_x + 4 * np.random.randn(n_samples)\n",
    "\n",
    "plt.plot(train_x, train_y, 'o')\n",
    "plt.plot(train_x, 3 * train_x)\n",
    "plt.show()\n",
    "\n",
    "X = tf.placeholder(tf.float32)\n",
    "Y = tf.placeholder(tf.float32)\n",
    "W = tf.Variable(np.random.randn(),name=\"tIM_GeY\")\n",
    "B = tf.Variable(np.random.randn(),name=\"wHY_RayMod_Slepr\")\n",
    "\n",
    "pred = tf.add(tf.multiply(X,W),B) #X * W + B\n",
    "\n",
    "cost = tf.reduce_sum((pred - Y) ** 2) / (2 * n_samples)\n",
    "\n",
    "optimizer = tf.train.GradientDescentOptimizer(learning_rate).minimize(cost)\n",
    "\n",
    "init = tf.global_variables_initializer()\n",
    "\n",
    "with tf.Session() as sess:\n",
    "    sess.run(init)\n",
    "\n",
    "    for epoch in range(epochs):\n",
    "        for x,y in zip(train_x, train_y):\n",
    "            sess.run(optimizer, feed_dict={X: x, Y: y})\n",
    "\n",
    "        if not epoch%20:\n",
    "            c = sess.run(cost, feed_dict={X: train_x, Y: train_y})\n",
    "            w = sess.run(W)\n",
    "            b = sess.run(B)\n",
    "            print(f'epoch: {epoch:04d} c={c:.4f} w={w:.4f} b={b:.4f}')\n",
    "\n",
    "    weight = sess.run(W)\n",
    "    bias = sess.run(B)\n",
    "    plt.plot(train_x, train_y, 'o')\n",
    "    plt.plot(train_x, weight * train_x + bias)\n",
    "    plt.show()\n",
    "\n"
   ]
  },
  {
   "cell_type": "markdown",
   "metadata": {
    "created_in_deepnote_cell": true,
    "deepnote_cell_type": "markdown",
    "tags": []
   },
   "source": [
    "<a style='text-decoration:none;line-height:16px;display:flex;color:#5B5B62;padding:10px;justify-content:end;' href='https://deepnote.com?utm_source=created-in-deepnote-cell&projectId=1c58af11-5d4f-40f3-a808-e868f2c28485' target=\"_blank\">\n",
    "<img alt='Created in deepnote.com' style='display:inline;max-height:16px;margin:0px;margin-right:7.5px;' src='data:image/svg+xml;base64,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' > </img>\n",
    "Created in <span style='font-weight:600;margin-left:4px;'>Deepnote</span></a>"
   ]
  }
 ],
 "metadata": {
  "deepnote": {
   "is_reactive": false
  },
  "deepnote_execution_queue": [],
  "deepnote_notebook_id": "b9694295-92fc-4a3f-98b3-f31609abf37a",
  "environment": {
   "kernel": "python3",
   "name": "tf2-gpu.2-6.m82",
   "type": "gcloud",
   "uri": "gcr.io/deeplearning-platform-release/tf2-gpu.2-6:m82"
  },
  "kernelspec": {
   "display_name": "Python 3",
   "language": "python",
   "name": "python3"
  },
  "language_info": {
   "codemirror_mode": {
    "name": "ipython",
    "version": 3
   },
   "file_extension": ".py",
   "mimetype": "text/x-python",
   "name": "python",
   "nbconvert_exporter": "python",
   "pygments_lexer": "ipython3",
   "version": "3.7.10"
  }
 },
 "nbformat": 4,
 "nbformat_minor": 4
}
