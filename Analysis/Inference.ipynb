{
 "cells": [
  {
   "cell_type": "code",
   "execution_count": 3,
   "id": "378fd52e",
   "metadata": {
    "cell_id": "00000-cddb6f2f-8474-4ca8-90a9-66a3832ddbbe",
    "deepnote_cell_type": "code",
    "deepnote_to_be_reexecuted": false,
    "execution_millis": 8,
    "execution_start": 1635035607510,
    "source_hash": "b8b92fc9"
   },
   "outputs": [],
   "source": [
    "import numpy as np\n",
    "from tensorflow import keras\n",
    "import pickle\n",
    "from numpy import exp\n",
    "import pandas as pd\n",
    "import os\n",
    "os.environ['TF_CPP_MIN_LOG_LEVEL'] = '3'"
   ]
  },
  {
   "cell_type": "code",
   "execution_count": 7,
   "id": "bab69637-c08e-4974-a3dd-740bb9808019",
   "metadata": {},
   "outputs": [
    {
     "ename": "FileNotFoundError",
     "evalue": "[Errno 2] No such file or directory: 'lk.npy'",
     "output_type": "error",
     "traceback": [
      "\u001b[0;31m---------------------------------------------------------------------------\u001b[0m",
      "\u001b[0;31mFileNotFoundError\u001b[0m                         Traceback (most recent call last)",
      "\u001b[0;32m/tmp/ipykernel_3281/2970921768.py\u001b[0m in \u001b[0;36m<module>\u001b[0;34m\u001b[0m\n\u001b[0;32m----> 1\u001b[0;31m \u001b[0;32mwith\u001b[0m \u001b[0mopen\u001b[0m\u001b[0;34m(\u001b[0m\u001b[0;34m'lk.npy'\u001b[0m\u001b[0;34m,\u001b[0m \u001b[0;34m'rb'\u001b[0m\u001b[0;34m)\u001b[0m \u001b[0;32mas\u001b[0m \u001b[0mf\u001b[0m\u001b[0;34m:\u001b[0m\u001b[0;34m\u001b[0m\u001b[0;34m\u001b[0m\u001b[0m\n\u001b[0m\u001b[1;32m      2\u001b[0m     \u001b[0mtest_x\u001b[0m \u001b[0;34m=\u001b[0m \u001b[0mnp\u001b[0m\u001b[0;34m.\u001b[0m\u001b[0mload\u001b[0m\u001b[0;34m(\u001b[0m\u001b[0mf\u001b[0m\u001b[0;34m)\u001b[0m\u001b[0;34m\u001b[0m\u001b[0;34m\u001b[0m\u001b[0m\n\u001b[1;32m      3\u001b[0m \u001b[0;34m\u001b[0m\u001b[0m\n\u001b[1;32m      4\u001b[0m \u001b[0mtest_x_keras\u001b[0m \u001b[0;34m=\u001b[0m \u001b[0mnp\u001b[0m\u001b[0;34m.\u001b[0m\u001b[0mexpand_dims\u001b[0m\u001b[0;34m(\u001b[0m\u001b[0mtest_x\u001b[0m\u001b[0;34m,\u001b[0m \u001b[0;34m-\u001b[0m\u001b[0;36m1\u001b[0m\u001b[0;34m)\u001b[0m\u001b[0;34m\u001b[0m\u001b[0;34m\u001b[0m\u001b[0m\n\u001b[1;32m      5\u001b[0m \u001b[0;34m\u001b[0m\u001b[0m\n",
      "\u001b[0;31mFileNotFoundError\u001b[0m: [Errno 2] No such file or directory: 'lk.npy'"
     ]
    }
   ],
   "source": [
    "with open('./Lightcurves/lk.npy', 'rb') as f:\n",
    "    test_x = np.load(f)\n",
    "\n",
    "test_x_keras = np.expand_dims(test_x, -1)\n",
    "\n",
    "dir_path = \"../Kaggle/regular/\"\n",
    "    \n",
    "def tobool(prob):\n",
    "    if(prob<.5):\n",
    "        return \"false\"\n",
    "    else:\n",
    "        return \"true\"\n",
    "\n",
    "def output(probabilities):\n",
    "    print(\"Trappist-1: \", tobool(probabilities[0]))\n",
    "    print(\"HAT-P-7b: \", tobool(probabilities[1]))"
   ]
  },
  {
   "cell_type": "code",
   "execution_count": null,
   "id": "52054a3d-9a10-4ce2-b421-c49496bc8801",
   "metadata": {},
   "outputs": [],
   "source": [
    "# It can be used to reconstruct the model identically.\n",
    "reconstructed_model = keras.models.load_model(dir_path + \"keras-models/KerasLSTM\")\n",
    "\n",
    "print(\"(LSTM) Is there an exoplanet?\")\n",
    "output(reconstructed_model.predict(test_x_keras))"
   ]
  },
  {
   "cell_type": "code",
   "execution_count": null,
   "id": "efe6670a-f26e-4836-ac85-01a65dcd10b5",
   "metadata": {},
   "outputs": [],
   "source": [
    "reconstructed_model = keras.models.load_model(dir_path + \"keras-models/KerasGRU\")\n",
    "\n",
    "print(\"(GRU) Is there an exoplanet?\")\n",
    "output(reconstructed_model.predict(test_x_keras))"
   ]
  },
  {
   "cell_type": "code",
   "execution_count": null,
   "id": "ecf399f3-4e04-4aa6-8ee4-80c7a72b8cf6",
   "metadata": {},
   "outputs": [],
   "source": [
    "reconstructed_model = keras.models.load_model(dir_path + \"keras-models/KerasRNN\")\n",
    "\n",
    "print(\"(RNN) Is there an exoplanet?\")\n",
    "output(reconstructed_model.predict(test_x_keras))"
   ]
  },
  {
   "cell_type": "code",
   "execution_count": null,
   "id": "ff5b7f63-e885-4aae-8fd3-29e9751bf04b",
   "metadata": {},
   "outputs": [],
   "source": [
    "#Logistic Layer using a sigmoid function\n",
    "def logistic_layer(y):\n",
    "    y = np.array(y)\n",
    "    y = 1 / (1 + exp(-y)) # sigmoid function\n",
    "    y = y.ravel()\n",
    "    return y"
   ]
  },
  {
   "cell_type": "code",
   "execution_count": null,
   "id": "2c837586-81af-4629-8c93-5a0e4ee561de",
   "metadata": {},
   "outputs": [],
   "source": [
    "def tobool(prob):\n",
    "    if(np.any(prob>.5)):\n",
    "        return \"false\"\n",
    "    else:\n",
    "        return \"true\""
   ]
  },
  {
   "cell_type": "code",
   "execution_count": null,
   "id": "4ea4e625-e097-4433-bb21-8de374263049",
   "metadata": {},
   "outputs": [],
   "source": [
    "with open(dir_path + 'tf-models/multi-lr-dft.npy', 'rb') as f:\n",
    "    W = np.load(f)\n",
    "    b = np.load(f)\n",
    "    \n",
    "predicted_y = W * test_x + b\n",
    "predicted_y = logistic_layer(predicted_y)\n",
    "\n",
    "\n",
    "print(\"(LR-DFT) Is there an exoplanet?\")\n",
    "output(predicted_y)"
   ]
  },
  {
   "cell_type": "code",
   "execution_count": null,
   "id": "f94d27fa-8f64-4c5a-88dd-2d59eba9c43e",
   "metadata": {},
   "outputs": [],
   "source": [
    "with open(dir_path + 'tf-models/multi-lr.npy', 'rb') as f:\n",
    "    W = np.load(f)\n",
    "    b = np.load(f)\n",
    "    \n",
    "predicted_y = W * test_x + b\n",
    "predicted_y = logistic_layer(predicted_y)\n",
    "\n",
    "print(\"(LR) Is there an exoplanet?\")\n",
    "output(predicted_y)"
   ]
  },
  {
   "cell_type": "code",
   "execution_count": null,
   "id": "103c743a-2bf5-4c43-b219-883c93a7b784",
   "metadata": {},
   "outputs": [],
   "source": [
    "with open(dir_path + 'tf-models/decision-tree.pkl', 'rb') as f:\n",
    "    dt = pickle.load(f)\n",
    "\n",
    "print(\"(Decision Tree) Is there an exoplanet?\")\n",
    "output(dt.predict(test_x))"
   ]
  },
  {
   "cell_type": "code",
   "execution_count": null,
   "id": "64a2c85c-689d-456f-a9d9-71e3cb94bbea",
   "metadata": {},
   "outputs": [],
   "source": [
    "with open(dir_path + 'tf-models/random-forest.pkl', 'rb') as f:\n",
    "    rf = pickle.load(f)\n",
    "\n",
    "print(\"(Random Forest) Is there an exoplanet?\")\n",
    "output(dt.predict(test_x))"
   ]
  }
 ],
 "metadata": {
  "deepnote": {
   "is_reactive": true
  },
  "deepnote_execution_queue": [],
  "deepnote_notebook_id": "ebacad77-917e-4852-9401-3d5c19a71f01",
  "environment": {
   "kernel": "python3",
   "name": "tf2-gpu.2-6.m87",
   "type": "gcloud",
   "uri": "gcr.io/deeplearning-platform-release/tf2-gpu.2-6:m87"
  },
  "kernelspec": {
   "display_name": "Python 3",
   "language": "python",
   "name": "python3"
  },
  "language_info": {
   "codemirror_mode": {
    "name": "ipython",
    "version": 3
   },
   "file_extension": ".py",
   "mimetype": "text/x-python",
   "name": "python",
   "nbconvert_exporter": "python",
   "pygments_lexer": "ipython3",
   "version": "3.7.12"
  }
 },
 "nbformat": 4,
 "nbformat_minor": 5
}
