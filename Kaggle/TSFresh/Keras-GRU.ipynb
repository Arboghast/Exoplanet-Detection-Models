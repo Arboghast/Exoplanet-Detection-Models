{
 "cells": [
  {
   "cell_type": "code",
   "execution_count": 1,
   "metadata": {
    "cell_id": "00000-afba7569-182c-446f-9ff9-b34e7667234e",
    "deepnote_cell_type": "code",
    "deepnote_to_be_reexecuted": false,
    "execution_millis": 1,
    "execution_start": 1635037265730,
    "source_hash": "5278eaf6",
    "tags": []
   },
   "outputs": [
    {
     "data": {
      "text/plain": [
       "[PhysicalDevice(name='/physical_device:GPU:0', device_type='GPU')]"
      ]
     },
     "execution_count": 1,
     "metadata": {},
     "output_type": "execute_result"
    }
   ],
   "source": [
    "# https://stackoverflow.com/questions/45741878/using-binary-crossentropy-loss-in-keras-tensorflow-backend\n",
    "# https://www.machinecurve.com/index.php/2019/10/22/how-to-use-binary-categorical-crossentropy-with-keras/\n",
    "\n",
    "import os\n",
    "os.environ['TF_CPP_MIN_LOG_LEVEL'] = '3' \n",
    "\n",
    "import tensorflow as tf\n",
    "from tensorflow import keras\n",
    "from tensorflow.keras.models import Sequential\n",
    "from tensorflow.keras.layers import Dense, GRU, Dropout\n",
    "from tensorflow.keras.losses import BinaryCrossentropy\n",
    "from keras.callbacks import CSVLogger\n",
    "from sklearn.model_selection import train_test_split\n",
    "from sklearn import preprocessing\n",
    "import numpy as np\n",
    "import pandas as pd\n",
    "import matplotlib.pyplot as plt\n",
    "import pickle\n",
    "physical_devices = tf.config.list_physical_devices('GPU') \n",
    "for device in physical_devices:\n",
    "    tf.config.experimental.set_memory_growth(device, True)\n",
    "\n",
    "%load_ext tensorboard\n",
    "import datetime\n",
    "\n",
    "tf.config.experimental.list_physical_devices('GPU')\n",
    "\n",
    "# RNN based Models (RNN & LSTM & GRU) using tensorflow keras"
   ]
  },
  {
   "cell_type": "code",
   "execution_count": 2,
   "metadata": {},
   "outputs": [],
   "source": [
    "!rm -rf ./logs/GRU #dont run this line unless you want to delete the tensorboard logs"
   ]
  },
  {
   "cell_type": "code",
   "execution_count": 3,
   "metadata": {
    "cell_id": "00004-38d59f3b-639f-4670-800c-6442871d0b19",
    "deepnote_cell_type": "code",
    "deepnote_to_be_reexecuted": false,
    "execution_millis": 3,
    "execution_start": 1635033957043,
    "source_hash": "df684276",
    "tags": []
   },
   "outputs": [],
   "source": [
    "def convert_3D(matrix):\n",
    "    return np.expand_dims(matrix, -1)"
   ]
  },
  {
   "cell_type": "code",
   "execution_count": 4,
   "metadata": {
    "cell_id": "00002-2f7c7b75-6991-49b0-8fb1-efa0c10c3753",
    "deepnote_cell_type": "code",
    "deepnote_to_be_reexecuted": false,
    "execution_millis": 3,
    "execution_start": 1635033957053,
    "source_hash": "d6dd0e88",
    "tags": []
   },
   "outputs": [],
   "source": [
    "def labels(filename):\n",
    "    data = np.matrix(pd.read_csv(filename).values)\n",
    "    data_y = data[:, 0]\n",
    "    data_y-=1 #binaryization of the categorical data\n",
    "    return data_y"
   ]
  },
  {
   "cell_type": "code",
   "execution_count": 5,
   "metadata": {
    "cell_id": "00003-61e6535c-8807-4fdf-9db0-2600c2e1ffeb",
    "deepnote_cell_type": "code",
    "deepnote_to_be_reexecuted": false,
    "execution_millis": 7311,
    "execution_start": 1635033957061,
    "source_hash": "cc5c0c7f",
    "tags": []
   },
   "outputs": [
    {
     "name": "stdout",
     "output_type": "stream",
     "text": [
      "(5087, 780, 1) (5087, 1) (570, 780, 1) (570, 1)\n"
     ]
    }
   ],
   "source": [
    "training_data_y = labels(\"../archive/exoTrain.csv\")\n",
    "test_y = labels(\"../archive/exoTest.csv\")\n",
    "\n",
    "training_data_x = pickle.load(open(\"TS-Train.pkl\", \"rb\"))\n",
    "test_x = pickle.load(open(\"TS-Test.pkl\", \"rb\"))\n",
    "\n",
    "training_data_x = training_data_x.dropna(axis=1)\n",
    "test_x = test_x.dropna(axis=1)\n",
    "\n",
    "training_data_x = preprocessing.normalize(training_data_x,norm='max', axis=0)\n",
    "test_x = preprocessing.normalize(test_x,norm='max', axis=0)\n",
    "\n",
    "training_data_x = convert_3D(training_data_x)\n",
    "test_x = convert_3D(test_x)\n",
    "\n",
    "print(training_data_x.shape, training_data_y.shape, test_x.shape, test_y.shape)\n",
    "\n",
    "training_data_x, validation_data_x, training_data_y, validation_data_y = train_test_split(training_data_x, training_data_y, test_size=0.3)"
   ]
  },
  {
   "cell_type": "code",
   "execution_count": 6,
   "metadata": {
    "cell_id": "00007-c0a57ad4-3c35-42c7-8b5c-55879d7020a1",
    "deepnote_cell_type": "code",
    "deepnote_to_be_reexecuted": true,
    "execution_millis": 1218104,
    "execution_start": 1634529075420,
    "source_hash": "b21a705a",
    "tags": []
   },
   "outputs": [
    {
     "name": "stdout",
     "output_type": "stream",
     "text": [
      "Epoch 1/10\n",
      "112/112 [==============================] - 13s 76ms/step - loss: 0.6820 - accuracy: 0.9935 - auc: 0.5383 - precision: 0.0000e+00 - recall: 0.0000e+00 - false_negatives: 23.0000 - false_positives: 0.0000e+00 - true_negatives: 3537.0000 - true_positives: 0.0000e+00 - val_loss: 0.6803 - val_accuracy: 0.9908 - val_auc: 0.4068 - val_precision: 0.0000e+00 - val_recall: 0.0000e+00 - val_false_negatives: 14.0000 - val_false_positives: 0.0000e+00 - val_true_negatives: 1513.0000 - val_true_positives: 0.0000e+00\n",
      "Epoch 2/10\n",
      "112/112 [==============================] - 6s 55ms/step - loss: 0.6787 - accuracy: 0.9935 - auc: 0.4442 - precision: 0.0000e+00 - recall: 0.0000e+00 - false_negatives: 23.0000 - false_positives: 0.0000e+00 - true_negatives: 3537.0000 - true_positives: 0.0000e+00 - val_loss: 0.6771 - val_accuracy: 0.9908 - val_auc: 0.4561 - val_precision: 0.0000e+00 - val_recall: 0.0000e+00 - val_false_negatives: 14.0000 - val_false_positives: 0.0000e+00 - val_true_negatives: 1513.0000 - val_true_positives: 0.0000e+00\n",
      "Epoch 3/10\n",
      "112/112 [==============================] - 6s 55ms/step - loss: 0.6754 - accuracy: 0.9935 - auc: 0.4638 - precision: 0.0000e+00 - recall: 0.0000e+00 - false_negatives: 23.0000 - false_positives: 0.0000e+00 - true_negatives: 3537.0000 - true_positives: 0.0000e+00 - val_loss: 0.6738 - val_accuracy: 0.9908 - val_auc: 0.3744 - val_precision: 0.0000e+00 - val_recall: 0.0000e+00 - val_false_negatives: 14.0000 - val_false_positives: 0.0000e+00 - val_true_negatives: 1513.0000 - val_true_positives: 0.0000e+00\n",
      "Epoch 4/10\n",
      "112/112 [==============================] - 6s 55ms/step - loss: 0.6721 - accuracy: 0.9935 - auc: 0.5205 - precision: 0.0000e+00 - recall: 0.0000e+00 - false_negatives: 23.0000 - false_positives: 0.0000e+00 - true_negatives: 3537.0000 - true_positives: 0.0000e+00 - val_loss: 0.6706 - val_accuracy: 0.9908 - val_auc: 0.4185 - val_precision: 0.0000e+00 - val_recall: 0.0000e+00 - val_false_negatives: 14.0000 - val_false_positives: 0.0000e+00 - val_true_negatives: 1513.0000 - val_true_positives: 0.0000e+00\n",
      "Epoch 5/10\n",
      "112/112 [==============================] - 6s 54ms/step - loss: 0.6688 - accuracy: 0.9935 - auc: 0.4782 - precision: 0.0000e+00 - recall: 0.0000e+00 - false_negatives: 23.0000 - false_positives: 0.0000e+00 - true_negatives: 3537.0000 - true_positives: 0.0000e+00 - val_loss: 0.6673 - val_accuracy: 0.9908 - val_auc: 0.4554 - val_precision: 0.0000e+00 - val_recall: 0.0000e+00 - val_false_negatives: 14.0000 - val_false_positives: 0.0000e+00 - val_true_negatives: 1513.0000 - val_true_positives: 0.0000e+00\n",
      "Epoch 6/10\n",
      "112/112 [==============================] - 6s 55ms/step - loss: 0.6656 - accuracy: 0.9935 - auc: 0.4543 - precision: 0.0000e+00 - recall: 0.0000e+00 - false_negatives: 23.0000 - false_positives: 0.0000e+00 - true_negatives: 3537.0000 - true_positives: 0.0000e+00 - val_loss: 0.6641 - val_accuracy: 0.9908 - val_auc: 0.3572 - val_precision: 0.0000e+00 - val_recall: 0.0000e+00 - val_false_negatives: 14.0000 - val_false_positives: 0.0000e+00 - val_true_negatives: 1513.0000 - val_true_positives: 0.0000e+00\n",
      "Epoch 7/10\n",
      "112/112 [==============================] - 6s 55ms/step - loss: 0.6623 - accuracy: 0.9935 - auc: 0.5111 - precision: 0.0000e+00 - recall: 0.0000e+00 - false_negatives: 23.0000 - false_positives: 0.0000e+00 - true_negatives: 3537.0000 - true_positives: 0.0000e+00 - val_loss: 0.6608 - val_accuracy: 0.9908 - val_auc: 0.3963 - val_precision: 0.0000e+00 - val_recall: 0.0000e+00 - val_false_negatives: 14.0000 - val_false_positives: 0.0000e+00 - val_true_negatives: 1513.0000 - val_true_positives: 0.0000e+00\n",
      "Epoch 8/10\n",
      "112/112 [==============================] - 6s 55ms/step - loss: 0.6590 - accuracy: 0.9935 - auc: 0.4839 - precision: 0.0000e+00 - recall: 0.0000e+00 - false_negatives: 23.0000 - false_positives: 0.0000e+00 - true_negatives: 3537.0000 - true_positives: 0.0000e+00 - val_loss: 0.6576 - val_accuracy: 0.9908 - val_auc: 0.4262 - val_precision: 0.0000e+00 - val_recall: 0.0000e+00 - val_false_negatives: 14.0000 - val_false_positives: 0.0000e+00 - val_true_negatives: 1513.0000 - val_true_positives: 0.0000e+00\n",
      "Epoch 9/10\n",
      "112/112 [==============================] - 6s 55ms/step - loss: 0.6558 - accuracy: 0.9935 - auc: 0.4826 - precision: 0.0000e+00 - recall: 0.0000e+00 - false_negatives: 23.0000 - false_positives: 0.0000e+00 - true_negatives: 3537.0000 - true_positives: 0.0000e+00 - val_loss: 0.6543 - val_accuracy: 0.9908 - val_auc: 0.4083 - val_precision: 0.0000e+00 - val_recall: 0.0000e+00 - val_false_negatives: 14.0000 - val_false_positives: 0.0000e+00 - val_true_negatives: 1513.0000 - val_true_positives: 0.0000e+00\n",
      "Epoch 10/10\n",
      "112/112 [==============================] - 6s 54ms/step - loss: 0.6525 - accuracy: 0.9935 - auc: 0.4794 - precision: 0.0000e+00 - recall: 0.0000e+00 - false_negatives: 23.0000 - false_positives: 0.0000e+00 - true_negatives: 3537.0000 - true_positives: 0.0000e+00 - val_loss: 0.6510 - val_accuracy: 0.9908 - val_auc: 0.3969 - val_precision: 0.0000e+00 - val_recall: 0.0000e+00 - val_false_negatives: 14.0000 - val_false_positives: 0.0000e+00 - val_true_negatives: 1513.0000 - val_true_positives: 0.0000e+00\n"
     ]
    },
    {
     "name": "stderr",
     "output_type": "stream",
     "text": [
      "WARNING:absl:Found untraced functions such as gru_cell_layer_call_fn, gru_cell_layer_call_and_return_conditional_losses, gru_cell_1_layer_call_fn, gru_cell_1_layer_call_and_return_conditional_losses, gru_cell_layer_call_fn while saving (showing 5 of 10). These functions will not be directly callable after loading.\n"
     ]
    },
    {
     "name": "stdout",
     "output_type": "stream",
     "text": [
      "INFO:tensorflow:Assets written to: keras-models/KerasGRU/assets\n"
     ]
    },
    {
     "name": "stderr",
     "output_type": "stream",
     "text": [
      "INFO:tensorflow:Assets written to: keras-models/KerasGRU/assets\n"
     ]
    }
   ],
   "source": [
    "GRUmodel = Sequential([\n",
    "    GRU(64, input_shape=(training_data_x.shape[1:]), return_sequences=True),\n",
    "    #Dropout(0.3),\n",
    "    GRU(64),\n",
    "    #Dropout(0.3),\n",
    "    #GRU(64),\n",
    "    Dense(1, activation='sigmoid')\n",
    "])\n",
    "\n",
    "GRUmodel.compile(\n",
    "    loss=BinaryCrossentropy(),\n",
    "    optimizer=keras.optimizers.Adam(learning_rate=0.000001),\n",
    "    metrics=[\"accuracy\", tf.keras.metrics.AUC(), tf.keras.metrics.Precision(), tf.keras.metrics.Recall(), tf.keras.metrics.FalseNegatives(),\n",
    "             tf.keras.metrics.FalsePositives(), tf.keras.metrics.TrueNegatives(), tf.keras.metrics.TruePositives()]\n",
    ")\n",
    "\n",
    "log_dir = \"logs/GRU/fit/\" + datetime.datetime.now().strftime(\"%Y%m%d-%H%M%S\")\n",
    "tensorboard_callback = tf.keras.callbacks.TensorBoard(log_dir=log_dir)\n",
    "\n",
    "csv_logger = CSVLogger('keras-models/KerasGRU/training.csv',separator=\",\", append=False)\n",
    "\n",
    "GRUmodel.fit(training_data_x, training_data_y, epochs=10, validation_data=(validation_data_x,validation_data_y), callbacks=[tensorboard_callback, csv_logger])\n",
    "\n",
    "model = GRUmodel\n",
    "model.save('keras-models/KerasGRU')"
   ]
  },
  {
   "cell_type": "code",
   "execution_count": 7,
   "metadata": {},
   "outputs": [
    {
     "data": {
      "text/html": [
       "\n",
       "      <iframe id=\"tensorboard-frame-87a6b506d2689ec5\" width=\"100%\" height=\"800\" frameborder=\"0\">\n",
       "      </iframe>\n",
       "      <script>\n",
       "        (function() {\n",
       "          const frame = document.getElementById(\"tensorboard-frame-87a6b506d2689ec5\");\n",
       "          const url = new URL(\"/proxy/6006/\", window.location);\n",
       "          const port = 0;\n",
       "          if (port) {\n",
       "            url.port = port;\n",
       "          }\n",
       "          frame.src = url;\n",
       "        })();\n",
       "      </script>\n",
       "    "
      ],
      "text/plain": [
       "<IPython.core.display.HTML object>"
      ]
     },
     "metadata": {},
     "output_type": "display_data"
    }
   ],
   "source": [
    "%tensorboard --logdir logs/GRU/fit"
   ]
  }
 ],
 "metadata": {
  "deepnote": {
   "is_reactive": false
  },
  "deepnote_execution_queue": [],
  "deepnote_notebook_id": "cc27128a-20f9-46f3-8cb8-b049b97dc4ab",
  "environment": {
   "kernel": "python3",
   "name": "tf2-gpu.2-6.m87",
   "type": "gcloud",
   "uri": "gcr.io/deeplearning-platform-release/tf2-gpu.2-6:m87"
  },
  "kernelspec": {
   "display_name": "Python 3",
   "language": "python",
   "name": "python3"
  },
  "language_info": {
   "codemirror_mode": {
    "name": "ipython",
    "version": 3
   },
   "file_extension": ".py",
   "mimetype": "text/x-python",
   "name": "python",
   "nbconvert_exporter": "python",
   "pygments_lexer": "ipython3",
   "version": "3.7.12"
  }
 },
 "nbformat": 4,
 "nbformat_minor": 4
}
