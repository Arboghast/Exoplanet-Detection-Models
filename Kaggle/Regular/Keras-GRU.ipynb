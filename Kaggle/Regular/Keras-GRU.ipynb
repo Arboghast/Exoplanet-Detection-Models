{
 "cells": [
  {
   "cell_type": "code",
   "execution_count": 1,
   "metadata": {
    "cell_id": "00000-afba7569-182c-446f-9ff9-b34e7667234e",
    "deepnote_cell_type": "code",
    "deepnote_to_be_reexecuted": false,
    "execution_millis": 1,
    "execution_start": 1635037265730,
    "source_hash": "5278eaf6",
    "tags": []
   },
   "outputs": [
    {
     "data": {
      "text/plain": [
       "[PhysicalDevice(name='/physical_device:GPU:0', device_type='GPU')]"
      ]
     },
     "execution_count": 1,
     "metadata": {},
     "output_type": "execute_result"
    }
   ],
   "source": [
    "# https://stackoverflow.com/questions/45741878/using-binary-crossentropy-loss-in-keras-tensorflow-backend\n",
    "# https://www.machinecurve.com/index.php/2019/10/22/how-to-use-binary-categorical-crossentropy-with-keras/\n",
    "\n",
    "import os\n",
    "os.environ['TF_CPP_MIN_LOG_LEVEL'] = '3' \n",
    "\n",
    "import tensorflow as tf\n",
    "from tensorflow import keras\n",
    "from tensorflow.keras.models import Sequential\n",
    "from tensorflow.keras.layers import Dense, GRU, Dropout\n",
    "from tensorflow.keras.losses import BinaryCrossentropy\n",
    "from keras.callbacks import CSVLogger\n",
    "from sklearn.model_selection import train_test_split\n",
    "import numpy as np\n",
    "import pandas as pd\n",
    "import matplotlib.pyplot as plt\n",
    "physical_devices = tf.config.list_physical_devices('GPU') \n",
    "for device in physical_devices:\n",
    "    tf.config.experimental.set_memory_growth(device, True)\n",
    "\n",
    "%load_ext tensorboard\n",
    "import datetime\n",
    "\n",
    "tf.config.experimental.list_physical_devices('GPU')\n",
    "\n",
    "# RNN based Models (RNN & LSTM & GRU) using tensorflow keras"
   ]
  },
  {
   "cell_type": "code",
   "execution_count": 2,
   "metadata": {},
   "outputs": [],
   "source": [
    "!rm -rf ./logs/GRU #dont run this line unless you want to delete the tensorboard logs"
   ]
  },
  {
   "cell_type": "code",
   "execution_count": 3,
   "metadata": {
    "cell_id": "00004-38d59f3b-639f-4670-800c-6442871d0b19",
    "deepnote_cell_type": "code",
    "deepnote_to_be_reexecuted": false,
    "execution_millis": 3,
    "execution_start": 1635033957043,
    "source_hash": "df684276",
    "tags": []
   },
   "outputs": [],
   "source": [
    "def convert_3D(matrix):\n",
    "    return np.expand_dims(matrix, -1)"
   ]
  },
  {
   "cell_type": "code",
   "execution_count": 4,
   "metadata": {
    "cell_id": "00003-61e6535c-8807-4fdf-9db0-2600c2e1ffeb",
    "deepnote_cell_type": "code",
    "deepnote_to_be_reexecuted": false,
    "execution_millis": 7311,
    "execution_start": 1635033957061,
    "source_hash": "cc5c0c7f",
    "tags": []
   },
   "outputs": [],
   "source": [
    "with open(\"../archive/ProcessData.npy\", 'rb') as f:\n",
    "        training_data_x = np.load(f)\n",
    "        test_x = np.load(f)\n",
    "        training_data_y = np.load(f)\n",
    "        test_y = np.load(f)\n",
    "        \n",
    "training_data_x = convert_3D(training_data_x) \n",
    "test_x = convert_3D(test_x)\n",
    "\n",
    "training_data_x, validation_data_x, training_data_y, validation_data_y = train_test_split(training_data_x, training_data_y, test_size=0.3)"
   ]
  },
  {
   "cell_type": "code",
   "execution_count": 5,
   "metadata": {
    "cell_id": "00007-c0a57ad4-3c35-42c7-8b5c-55879d7020a1",
    "deepnote_cell_type": "code",
    "deepnote_to_be_reexecuted": true,
    "execution_millis": 1218104,
    "execution_start": 1634529075420,
    "source_hash": "b21a705a",
    "tags": []
   },
   "outputs": [
    {
     "name": "stdout",
     "output_type": "stream",
     "text": [
      "Epoch 1/10\n",
      "112/112 [==============================] - 30s 215ms/step - loss: 0.6627 - accuracy: 0.8435 - auc: 0.5283 - precision: 0.0057 - recall: 0.0909 - false_negatives: 30.0000 - false_positives: 527.0000 - true_negatives: 3000.0000 - true_positives: 3.0000 - val_loss: 0.6293 - val_accuracy: 0.9044 - val_auc: 0.3270 - val_precision: 0.0000e+00 - val_recall: 0.0000e+00 - val_false_negatives: 4.0000 - val_false_positives: 142.0000 - val_true_negatives: 1381.0000 - val_true_positives: 0.0000e+00\n",
      "Epoch 2/10\n",
      "112/112 [==============================] - 21s 187ms/step - loss: 0.5998 - accuracy: 0.9118 - auc: 0.5155 - precision: 0.0138 - recall: 0.1212 - false_negatives: 29.0000 - false_positives: 285.0000 - true_negatives: 3242.0000 - true_positives: 4.0000 - val_loss: 0.5679 - val_accuracy: 0.9155 - val_auc: 0.3079 - val_precision: 0.0000e+00 - val_recall: 0.0000e+00 - val_false_negatives: 4.0000 - val_false_positives: 125.0000 - val_true_negatives: 1398.0000 - val_true_positives: 0.0000e+00\n",
      "Epoch 3/10\n",
      "112/112 [==============================] - 21s 191ms/step - loss: 0.5403 - accuracy: 0.9180 - auc: 0.5163 - precision: 0.0150 - recall: 0.1212 - false_negatives: 29.0000 - false_positives: 263.0000 - true_negatives: 3264.0000 - true_positives: 4.0000 - val_loss: 0.5085 - val_accuracy: 0.9234 - val_auc: 0.3154 - val_precision: 0.0000e+00 - val_recall: 0.0000e+00 - val_false_negatives: 4.0000 - val_false_positives: 113.0000 - val_true_negatives: 1410.0000 - val_true_positives: 0.0000e+00\n",
      "Epoch 4/10\n",
      "112/112 [==============================] - 22s 193ms/step - loss: 0.4819 - accuracy: 0.9261 - auc: 0.5521 - precision: 0.0168 - recall: 0.1212 - false_negatives: 29.0000 - false_positives: 234.0000 - true_negatives: 3293.0000 - true_positives: 4.0000 - val_loss: 0.4496 - val_accuracy: 0.9306 - val_auc: 0.3128 - val_precision: 0.0000e+00 - val_recall: 0.0000e+00 - val_false_negatives: 4.0000 - val_false_positives: 102.0000 - val_true_negatives: 1421.0000 - val_true_positives: 0.0000e+00\n",
      "Epoch 5/10\n",
      "112/112 [==============================] - 21s 191ms/step - loss: 0.4239 - accuracy: 0.9315 - auc: 0.5587 - precision: 0.0093 - recall: 0.0606 - false_negatives: 31.0000 - false_positives: 213.0000 - true_negatives: 3314.0000 - true_positives: 2.0000 - val_loss: 0.3909 - val_accuracy: 0.9384 - val_auc: 0.3065 - val_precision: 0.0000e+00 - val_recall: 0.0000e+00 - val_false_negatives: 4.0000 - val_false_positives: 90.0000 - val_true_negatives: 1433.0000 - val_true_positives: 0.0000e+00\n",
      "Epoch 6/10\n",
      "112/112 [==============================] - 21s 190ms/step - loss: 0.3667 - accuracy: 0.9357 - auc: 0.5746 - precision: 0.0051 - recall: 0.0303 - false_negatives: 32.0000 - false_positives: 197.0000 - true_negatives: 3330.0000 - true_positives: 1.0000 - val_loss: 0.3335 - val_accuracy: 0.9430 - val_auc: 0.2966 - val_precision: 0.0000e+00 - val_recall: 0.0000e+00 - val_false_negatives: 4.0000 - val_false_positives: 83.0000 - val_true_negatives: 1440.0000 - val_true_positives: 0.0000e+00\n",
      "Epoch 7/10\n",
      "112/112 [==============================] - 21s 187ms/step - loss: 0.3116 - accuracy: 0.9402 - auc: 0.5887 - precision: 0.0055 - recall: 0.0303 - false_negatives: 32.0000 - false_positives: 181.0000 - true_negatives: 3346.0000 - true_positives: 1.0000 - val_loss: 0.2789 - val_accuracy: 0.9456 - val_auc: 0.2988 - val_precision: 0.0000e+00 - val_recall: 0.0000e+00 - val_false_negatives: 4.0000 - val_false_positives: 79.0000 - val_true_negatives: 1444.0000 - val_true_positives: 0.0000e+00\n",
      "Epoch 8/10\n",
      "112/112 [==============================] - 21s 184ms/step - loss: 0.2609 - accuracy: 0.9444 - auc: 0.5773 - precision: 0.0000e+00 - recall: 0.0000e+00 - false_negatives: 33.0000 - false_positives: 165.0000 - true_negatives: 3362.0000 - true_positives: 0.0000e+00 - val_loss: 0.2296 - val_accuracy: 0.9515 - val_auc: 0.2884 - val_precision: 0.0000e+00 - val_recall: 0.0000e+00 - val_false_negatives: 4.0000 - val_false_positives: 70.0000 - val_true_negatives: 1453.0000 - val_true_positives: 0.0000e+00\n",
      "Epoch 9/10\n",
      "112/112 [==============================] - 21s 184ms/step - loss: 0.2159 - accuracy: 0.9494 - auc: 0.5887 - precision: 0.0000e+00 - recall: 0.0000e+00 - false_negatives: 33.0000 - false_positives: 147.0000 - true_negatives: 3380.0000 - true_positives: 0.0000e+00 - val_loss: 0.1865 - val_accuracy: 0.9561 - val_auc: 0.2773 - val_precision: 0.0000e+00 - val_recall: 0.0000e+00 - val_false_negatives: 4.0000 - val_false_positives: 63.0000 - val_true_negatives: 1460.0000 - val_true_positives: 0.0000e+00\n",
      "Epoch 10/10\n",
      "112/112 [==============================] - 21s 184ms/step - loss: 0.1781 - accuracy: 0.9553 - auc: 0.5915 - precision: 0.0000e+00 - recall: 0.0000e+00 - false_negatives: 33.0000 - false_positives: 126.0000 - true_negatives: 3401.0000 - true_positives: 0.0000e+00 - val_loss: 0.1508 - val_accuracy: 0.9581 - val_auc: 0.2821 - val_precision: 0.0000e+00 - val_recall: 0.0000e+00 - val_false_negatives: 4.0000 - val_false_positives: 60.0000 - val_true_negatives: 1463.0000 - val_true_positives: 0.0000e+00\n"
     ]
    },
    {
     "name": "stderr",
     "output_type": "stream",
     "text": [
      "WARNING:absl:Found untraced functions such as gru_cell_layer_call_fn, gru_cell_layer_call_and_return_conditional_losses, gru_cell_1_layer_call_fn, gru_cell_1_layer_call_and_return_conditional_losses, gru_cell_layer_call_fn while saving (showing 5 of 10). These functions will not be directly callable after loading.\n"
     ]
    },
    {
     "name": "stdout",
     "output_type": "stream",
     "text": [
      "INFO:tensorflow:Assets written to: keras-models/KerasGRU/assets\n"
     ]
    },
    {
     "name": "stderr",
     "output_type": "stream",
     "text": [
      "INFO:tensorflow:Assets written to: keras-models/KerasGRU/assets\n"
     ]
    }
   ],
   "source": [
    "GRUmodel = Sequential([\n",
    "    GRU(64, input_shape=(training_data_x.shape[1:]), return_sequences=True),\n",
    "    #Dropout(0.3),\n",
    "    GRU(64),\n",
    "    #Dropout(0.3),\n",
    "    #GRU(64),\n",
    "    Dense(1, activation='sigmoid')\n",
    "])\n",
    "\n",
    "GRUmodel.compile(\n",
    "    loss=BinaryCrossentropy(),\n",
    "    optimizer=keras.optimizers.Adam(learning_rate=0.00001),\n",
    "    metrics=[\"accuracy\", tf.keras.metrics.AUC(), tf.keras.metrics.Precision(), tf.keras.metrics.Recall(), tf.keras.metrics.FalseNegatives(),\n",
    "             tf.keras.metrics.FalsePositives(), tf.keras.metrics.TrueNegatives(), tf.keras.metrics.TruePositives()]\n",
    ")\n",
    "\n",
    "log_dir = \"logs/GRU/fit/\" + datetime.datetime.now().strftime(\"%Y%m%d-%H%M%S\")\n",
    "tensorboard_callback = tf.keras.callbacks.TensorBoard(log_dir=log_dir)\n",
    "\n",
    "csv_logger = CSVLogger('keras-models/KerasGRU/training.csv',separator=\",\", append=False)\n",
    "\n",
    "GRUmodel.fit(training_data_x, training_data_y, epochs=10, validation_data=(validation_data_x,validation_data_y), callbacks=[tensorboard_callback, csv_logger])\n",
    "\n",
    "model = GRUmodel\n",
    "model.save('keras-models/KerasGRU')"
   ]
  },
  {
   "cell_type": "code",
   "execution_count": 6,
   "metadata": {},
   "outputs": [
    {
     "data": {
      "text/html": [
       "\n",
       "      <iframe id=\"tensorboard-frame-de6a2c628f022c02\" width=\"100%\" height=\"800\" frameborder=\"0\">\n",
       "      </iframe>\n",
       "      <script>\n",
       "        (function() {\n",
       "          const frame = document.getElementById(\"tensorboard-frame-de6a2c628f022c02\");\n",
       "          const url = new URL(\"/proxy/6006/\", window.location);\n",
       "          const port = 0;\n",
       "          if (port) {\n",
       "            url.port = port;\n",
       "          }\n",
       "          frame.src = url;\n",
       "        })();\n",
       "      </script>\n",
       "    "
      ],
      "text/plain": [
       "<IPython.core.display.HTML object>"
      ]
     },
     "metadata": {},
     "output_type": "display_data"
    }
   ],
   "source": [
    "%tensorboard --logdir logs/GRU/fit"
   ]
  },
  {
   "cell_type": "code",
   "execution_count": null,
   "metadata": {},
   "outputs": [],
   "source": []
  }
 ],
 "metadata": {
  "deepnote": {
   "is_reactive": false
  },
  "deepnote_execution_queue": [],
  "deepnote_notebook_id": "cc27128a-20f9-46f3-8cb8-b049b97dc4ab",
  "environment": {
   "kernel": "python3",
   "name": "tf2-gpu.2-6.m87",
   "type": "gcloud",
   "uri": "gcr.io/deeplearning-platform-release/tf2-gpu.2-6:m87"
  },
  "kernelspec": {
   "display_name": "Python 3",
   "language": "python",
   "name": "python3"
  },
  "language_info": {
   "codemirror_mode": {
    "name": "ipython",
    "version": 3
   },
   "file_extension": ".py",
   "mimetype": "text/x-python",
   "name": "python",
   "nbconvert_exporter": "python",
   "pygments_lexer": "ipython3",
   "version": "3.7.12"
  }
 },
 "nbformat": 4,
 "nbformat_minor": 4
}
