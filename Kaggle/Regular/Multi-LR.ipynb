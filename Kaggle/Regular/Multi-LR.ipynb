{
 "cells": [
  {
   "cell_type": "code",
   "execution_count": 1,
   "metadata": {
    "cell_id": "00000-472cbcdb-4e9b-46f5-bc9e-f4b4e97c8bd3",
    "deepnote_cell_type": "code",
    "deepnote_to_be_reexecuted": false,
    "execution_millis": 5610,
    "execution_start": 1634168360884,
    "source_hash": "99e17f2b",
    "tags": []
   },
   "outputs": [
    {
     "name": "stdout",
     "output_type": "stream",
     "text": [
      "WARNING:tensorflow:From /opt/conda/lib/python3.7/site-packages/tensorflow/python/compat/v2_compat.py:101: disable_resource_variables (from tensorflow.python.ops.variable_scope) is deprecated and will be removed in a future version.\n",
      "Instructions for updating:\n",
      "non-resource variables are not supported in the long term\n"
     ]
    }
   ],
   "source": [
    "# https://stackoverflow.com/questions/37159070/multiple-linear-regression-model-by-using-tensorflow\n",
    "# https://donaldpinckney.com/books/pytorch/book/ch2-linreg/2018-03-21-multi-variable.html\n",
    "# https://www.youtube.com/watch?v=Q4GNLhRtZNc\n",
    "# https://atmamani.github.io/projects/ml/coursera-gd-multivariate-linear-regression/\n",
    "# https://online.stat.psu.edu/stat462/sites/onlinecourses.science.psu.edu.stat462/files/05mlr/eq_matrix_notation/index.gif\n",
    "\n",
    "# Multivariable Logistic Regression for matricies.\n",
    "# target = flux1 + flux2 +... flux500 + b\n",
    "import tensorflow.compat.v1 as tf\n",
    "tf.disable_v2_behavior() \n",
    "import numpy as np\n",
    "import pandas as pd\n",
    "from numpy import exp"
   ]
  },
  {
   "cell_type": "code",
   "execution_count": 2,
   "metadata": {
    "cell_id": "00002-01b2c7d8-707d-4aa6-b424-ad8ecbbd1f58",
    "deepnote_cell_type": "code",
    "deepnote_to_be_reexecuted": false,
    "execution_millis": 2,
    "execution_start": 1634168366505,
    "source_hash": "93c1b31e",
    "tags": []
   },
   "outputs": [],
   "source": [
    "#retrieve and format data - into labels from the dataset\n",
    "def labels(filename):\n",
    "    data = pd.read_csv(filename)\n",
    "    data_y = data['LABEL']\n",
    "    data_y-= 1\n",
    "    return data_y.transpose()"
   ]
  },
  {
   "cell_type": "code",
   "execution_count": 3,
   "metadata": {
    "cell_id": "00007-f2dc2ae5-f310-4a14-8d71-88384e4f6257",
    "deepnote_cell_type": "code",
    "deepnote_to_be_reexecuted": false,
    "execution_millis": 3,
    "execution_start": 1634168452778,
    "source_hash": "27c812bc",
    "tags": []
   },
   "outputs": [],
   "source": [
    "#Logistic Layer using a sigmoid function\n",
    "def logistic_layer(y):\n",
    "    y = np.array(y)\n",
    "    y = 1 / (1 + exp(-y)) # sigmoid function\n",
    "    y = y.ravel()\n",
    "    return y"
   ]
  },
  {
   "cell_type": "code",
   "execution_count": 4,
   "metadata": {
    "cell_id": "00008-b837a0bd-a370-4dec-80f9-4f68a9cd9f78",
    "deepnote_cell_type": "code",
    "deepnote_to_be_reexecuted": false,
    "execution_millis": 1,
    "execution_start": 1634168452789,
    "source_hash": "b7072dad",
    "tags": []
   },
   "outputs": [],
   "source": [
    "#Calculate an accuracy metric\n",
    "def accuracy(predicted_y, true_y):\n",
    "    true_y = np.array(true_y).ravel()\n",
    "    counter = 0\n",
    "    for i in range(len(true_y)):\n",
    "        p_y = predicted_y[i]\n",
    "        t_y = true_y[i]\n",
    "        if (p_y>.5 and t_y == 1) or (p_y < .5 and t_y == 0):\n",
    "            counter+=1\n",
    "    counter = (counter/ len(true_y)) * 100\n",
    "    return counter"
   ]
  },
  {
   "cell_type": "code",
   "execution_count": 5,
   "metadata": {
    "cell_id": "00003-24aa0dac-d955-4941-8ed2-9ad14c317e71",
    "deepnote_cell_type": "code",
    "deepnote_to_be_reexecuted": false,
    "execution_millis": 5067,
    "execution_start": 1634168366515,
    "source_hash": "dbbaced2",
    "tags": []
   },
   "outputs": [],
   "source": [
    "with open(\"../archive/ProcessData.npy\", 'rb') as f:\n",
    "        training_data_x = np.load(f)\n",
    "        test_x = np.load(f)\n",
    "        training_data_y = np.load(f)\n",
    "        test_y = np.load(f)\n",
    "\n",
    "training_data_x = training_data_x.transpose()\n",
    "training_data_y = training_data_y.transpose()\n",
    "training_data_y = training_data_y.reshape(1,training_data_x.shape[1])\n",
    "\n",
    "#set hyperparameters & variables\n",
    "learning_rate = 0.00003\n",
    "epochs = 300\n",
    "display_step = 5\n",
    "n_samples = training_data_x.shape[1]\n",
    "col_num = training_data_x.shape[0]\n",
    "\n",
    "X = tf.placeholder(tf.float32, [col_num, n_samples])\n",
    "Y = tf.placeholder(tf.float32, [1, n_samples]) #resulting dimenstion of W*X matmul"
   ]
  },
  {
   "cell_type": "code",
   "execution_count": 6,
   "metadata": {
    "cell_id": "00004-9f09321a-12c4-4c03-9d19-642a45a3f3b0",
    "deepnote_cell_type": "code",
    "deepnote_to_be_reexecuted": false,
    "execution_millis": 19,
    "execution_start": 1634168371590,
    "source_hash": "54f103e4",
    "tags": []
   },
   "outputs": [],
   "source": [
    "# We want the weight vector to correspond one to one with every column\n",
    "W = tf.Variable(tf.zeros([1,col_num], dtype=np.float32), name=\"weight\")\n",
    "b = tf.Variable(tf.zeros([1, ], dtype=np.float32), name=\"bias\")\n",
    "\n",
    "#matrix multiplication requires outer dimension of W to be equal to be equal to the inner dimension of X: \n",
    "# (1,col_num) & (col_num, num_samples) - this is why we transpose X\n",
    "pred = tf.matmul(W, X) + b # y′(x,A,b)=Ax+b linear matrix equation\n",
    "\n",
    "error = tf.reduce_sum((pred-Y)**2) / (n_samples * 2) #MSE"
   ]
  },
  {
   "cell_type": "code",
   "execution_count": 7,
   "metadata": {
    "cell_id": "00005-5636fef9-095b-4767-984f-a967c95b5804",
    "deepnote_cell_type": "code",
    "deepnote_to_be_reexecuted": false,
    "execution_millis": 81157,
    "execution_start": 1634168371618,
    "source_hash": "e943c521",
    "tags": []
   },
   "outputs": [
    {
     "name": "stderr",
     "output_type": "stream",
     "text": [
      "2021-12-15 15:14:30.558960: I tensorflow/stream_executor/cuda/cuda_gpu_executor.cc:937] successful NUMA node read from SysFS had negative value (-1), but there must be at least one NUMA node, so returning NUMA node zero\n",
      "2021-12-15 15:14:30.664838: I tensorflow/stream_executor/cuda/cuda_gpu_executor.cc:937] successful NUMA node read from SysFS had negative value (-1), but there must be at least one NUMA node, so returning NUMA node zero\n",
      "2021-12-15 15:14:30.665955: I tensorflow/stream_executor/cuda/cuda_gpu_executor.cc:937] successful NUMA node read from SysFS had negative value (-1), but there must be at least one NUMA node, so returning NUMA node zero\n",
      "2021-12-15 15:14:30.667944: I tensorflow/core/platform/cpu_feature_guard.cc:142] This TensorFlow binary is optimized with oneAPI Deep Neural Network Library (oneDNN) to use the following CPU instructions in performance-critical operations:  AVX2 FMA\n",
      "To enable them in other operations, rebuild TensorFlow with the appropriate compiler flags.\n",
      "2021-12-15 15:14:30.669629: I tensorflow/stream_executor/cuda/cuda_gpu_executor.cc:937] successful NUMA node read from SysFS had negative value (-1), but there must be at least one NUMA node, so returning NUMA node zero\n",
      "2021-12-15 15:14:30.670674: I tensorflow/stream_executor/cuda/cuda_gpu_executor.cc:937] successful NUMA node read from SysFS had negative value (-1), but there must be at least one NUMA node, so returning NUMA node zero\n",
      "2021-12-15 15:14:30.671666: I tensorflow/stream_executor/cuda/cuda_gpu_executor.cc:937] successful NUMA node read from SysFS had negative value (-1), but there must be at least one NUMA node, so returning NUMA node zero\n",
      "2021-12-15 15:14:32.850892: I tensorflow/stream_executor/cuda/cuda_gpu_executor.cc:937] successful NUMA node read from SysFS had negative value (-1), but there must be at least one NUMA node, so returning NUMA node zero\n",
      "2021-12-15 15:14:32.852827: I tensorflow/stream_executor/cuda/cuda_gpu_executor.cc:937] successful NUMA node read from SysFS had negative value (-1), but there must be at least one NUMA node, so returning NUMA node zero\n",
      "2021-12-15 15:14:32.854286: I tensorflow/stream_executor/cuda/cuda_gpu_executor.cc:937] successful NUMA node read from SysFS had negative value (-1), but there must be at least one NUMA node, so returning NUMA node zero\n",
      "2021-12-15 15:14:32.856505: I tensorflow/core/common_runtime/gpu/gpu_device.cc:1510] Created device /job:localhost/replica:0/task:0/device:GPU:0 with 13738 MB memory:  -> device: 0, name: Tesla T4, pci bus id: 0000:00:04.0, compute capability: 7.5\n"
     ]
    },
    {
     "name": "stdout",
     "output_type": "stream",
     "text": [
      "Epoch = 0, Loss = 0.00363672, Weights = [[0. 0. 0. ... 0. 0. 0.]], Bias = [0.]\n",
      "Epoch = 5, Loss = 0.00359231, Weights = [[-1.3702378e-06 -1.3999603e-06 -4.5000883e-07 ...  1.3018910e-06\n",
      "   1.9931163e-06  1.2212731e-06]], Bias = [1.0792004e-06]\n",
      "Epoch = 10, Loss = 0.00355203, Weights = [[-2.7326957e-06 -2.8110917e-06 -9.2793664e-07 ...  2.5559807e-06\n",
      "   3.9599340e-06  2.3711946e-06]], Bias = [2.1302706e-06]\n",
      "Epoch = 15, Loss = 0.00351513, Weights = [[-4.0790042e-06 -4.2266083e-06 -1.4254580e-06 ...  3.7655077e-06\n",
      "   5.9052913e-06  3.4551590e-06]], Bias = [3.1552593e-06]\n",
      "Epoch = 20, Loss = 0.0034811, Weights = [[-5.4043808e-06 -5.6417916e-06 -1.9369311e-06 ...  4.9332689e-06\n",
      "   7.8312160e-06  4.4780213e-06]], Bias = [4.155898e-06]\n",
      "Epoch = 25, Loss = 0.00344957, Weights = [[-6.7061164e-06 -7.0532651e-06 -2.4583621e-06 ...  6.0617062e-06\n",
      "   9.7383963e-06  5.4441462e-06]], Bias = [5.1336947e-06]\n",
      "Epoch = 30, Loss = 0.00342024, Weights = [[-7.9827187e-06 -8.4585336e-06 -2.9868020e-06 ...  7.1529980e-06\n",
      "   1.1626940e-05  6.3574557e-06]], Bias = [6.089996e-06]\n",
      "Epoch = 35, Loss = 0.00339284, Weights = [[-9.2334267e-06 -9.8556984e-06 -3.5199885e-06 ...  8.2091337e-06\n",
      "   1.3496759e-05  7.2214725e-06]], Bias = [7.0260203e-06]\n",
      "Epoch = 40, Loss = 0.00336717, Weights = [[-1.0457929e-05 -1.1243280e-05 -4.0561345e-06 ...  9.2319597e-06\n",
      "   1.5347741e-05  8.0393620e-06]], Bias = [7.942882e-06]\n",
      "Epoch = 45, Loss = 0.00334304, Weights = [[-1.1656199e-05 -1.2620093e-05 -4.5937941e-06 ...  1.0223214e-05\n",
      "   1.7179840e-05  8.8139759e-06]], Bias = [8.8416045e-06]\n",
      "Epoch = 50, Loss = 0.0033203, Weights = [[-1.28283909e-05 -1.39851845e-05 -5.13177929e-06 ...  1.11845384e-05\n",
      "   1.89930834e-05  9.54788629e-06]], Bias = [9.723134e-06]\n",
      "Epoch = 55, Loss = 0.00329882, Weights = [[-1.3974792e-05 -1.5337777e-05 -5.6691051e-06 ...  1.2117493e-05\n",
      "   2.0787582e-05  1.0243425e-05]], Bias = [1.0588346e-05]\n",
      "Epoch = 60, Loss = 0.00327846, Weights = [[-1.5095769e-05 -1.6677235e-05 -6.2049512e-06 ...  1.3023552e-05\n",
      "   2.2563521e-05  1.0902703e-05]], Bias = [1.1438053e-05]\n",
      "Epoch = 65, Loss = 0.00325914, Weights = [[-1.6191754e-05 -1.8003051e-05 -6.7386336e-06 ...  1.3904117e-05\n",
      "   2.4321142e-05  1.1527647e-05]], Bias = [1.227301e-05]\n",
      "Epoch = 70, Loss = 0.00324075, Weights = [[-1.72632244e-05 -1.93148098e-05 -7.26958297e-06 ...  1.47605087e-05\n",
      "   2.60607248e-05  1.21200155e-05]], Bias = [1.3093918e-05]\n",
      "Epoch = 75, Loss = 0.00322323, Weights = [[-1.8310682e-05 -2.0612193e-05 -7.7973291e-06 ...  1.5593974e-05\n",
      "   2.7782578e-05  1.2681421e-05]], Bias = [1.3901428e-05]\n",
      "Epoch = 80, Loss = 0.00320649, Weights = [[-1.9334660e-05 -2.1894952e-05 -8.3214854e-06 ...  1.6405686e-05\n",
      "   2.9487037e-05  1.3213349e-05]], Bias = [1.4696149e-05]\n",
      "Epoch = 85, Loss = 0.00319047, Weights = [[-2.0335696e-05 -2.3162904e-05 -8.8417391e-06 ...  1.7196749e-05\n",
      "   3.1174437e-05  1.3717167e-05]], Bias = [1.5478648e-05]\n",
      "Epoch = 90, Loss = 0.00317513, Weights = [[-2.1314341e-05 -2.4415929e-05 -9.3578410e-06 ...  1.7968197e-05\n",
      "   3.2845128e-05  1.4194141e-05]], Bias = [1.6249453e-05]\n",
      "Epoch = 95, Loss = 0.0031604, Weights = [[-2.2271151e-05 -2.5653953e-05 -9.8695946e-06 ...  1.8720995e-05\n",
      "   3.4499451e-05  1.4645445e-05]], Bias = [1.7009055e-05]\n",
      "Epoch = 100, Loss = 0.00314625, Weights = [[-2.32066795e-05 -2.68769491e-05 -1.03768552e-05 ...  1.94560525e-05\n",
      "   3.61377497e-05  1.50721735e-05]], Bias = [1.775792e-05]\n",
      "Epoch = 105, Loss = 0.00313263, Weights = [[-2.4121478e-05 -2.8084922e-05 -1.0879516e-05 ...  2.0174219e-05\n",
      "   3.7760357e-05  1.5475345e-05]], Bias = [1.8496476e-05]\n",
      "Epoch = 110, Loss = 0.0031195, Weights = [[-2.5016096e-05 -2.9277917e-05 -1.1377507e-05 ...  2.0876283e-05\n",
      "   3.9367595e-05  1.5855914e-05]], Bias = [1.922513e-05]\n",
      "Epoch = 115, Loss = 0.00310684, Weights = [[-2.5891070e-05 -3.0456005e-05 -1.1870788e-05 ...  2.1562988e-05\n",
      "   4.0959774e-05  1.6214770e-05]], Bias = [1.9944262e-05]\n",
      "Epoch = 120, Loss = 0.00309462, Weights = [[-2.6746937e-05 -3.1619285e-05 -1.2359347e-05 ...  2.2235028e-05\n",
      "   4.2537205e-05  1.6552749e-05]], Bias = [2.065423e-05]\n",
      "Epoch = 125, Loss = 0.0030828, Weights = [[-2.7584218e-05 -3.2767872e-05 -1.2843195e-05 ...  2.2893048e-05\n",
      "   4.4100179e-05  1.6870641e-05]], Bias = [2.135537e-05]\n",
      "Epoch = 130, Loss = 0.00307136, Weights = [[-2.8403427e-05 -3.3901892e-05 -1.3322358e-05 ...  2.3537656e-05\n",
      "   4.5648976e-05  1.7169192e-05]], Bias = [2.2047996e-05]\n",
      "Epoch = 135, Loss = 0.00306029, Weights = [[-2.9205064e-05 -3.5021509e-05 -1.3796884e-05 ...  2.4169414e-05\n",
      "   4.7183872e-05  1.7449096e-05]], Bias = [2.2732407e-05]\n",
      "Epoch = 140, Loss = 0.00304955, Weights = [[-2.9989616e-05 -3.6126876e-05 -1.4266829e-05 ...  2.4788862e-05\n",
      "   4.8705126e-05  1.7711020e-05]], Bias = [2.3408882e-05]\n",
      "Epoch = 145, Loss = 0.00303913, Weights = [[-3.0757561e-05 -3.7218175e-05 -1.4732265e-05 ...  2.5396492e-05\n",
      "   5.0212991e-05  1.7955586e-05]], Bias = [2.4077692e-05]\n",
      "Epoch = 150, Loss = 0.00302902, Weights = [[-3.1509364e-05 -3.8295591e-05 -1.5193272e-05 ...  2.5992771e-05\n",
      "   5.1707706e-05  1.8183395e-05]], Bias = [2.4739085e-05]\n",
      "Epoch = 155, Loss = 0.00301919, Weights = [[-3.2245480e-05 -3.9359311e-05 -1.5649937e-05 ...  2.6578138e-05\n",
      "   5.3189513e-05  1.8395009e-05]], Bias = [2.53933e-05]\n",
      "Epoch = 160, Loss = 0.00300964, Weights = [[-3.2966349e-05 -4.0409534e-05 -1.6102354e-05 ...  2.7153006e-05\n",
      "   5.4658631e-05  1.8590965e-05]], Bias = [2.604056e-05]\n",
      "Epoch = 165, Loss = 0.00300035, Weights = [[-3.3672397e-05 -4.1446456e-05 -1.6550623e-05 ...  2.7717764e-05\n",
      "   5.6115270e-05  1.8771776e-05]], Bias = [2.6681086e-05]\n",
      "Epoch = 170, Loss = 0.0029913, Weights = [[-3.4364042e-05 -4.2470285e-05 -1.6994845e-05 ...  2.8272772e-05\n",
      "   5.7559650e-05  1.8937926e-05]], Bias = [2.7315076e-05]\n",
      "Epoch = 175, Loss = 0.00298248, Weights = [[-3.5041685e-05 -4.3481235e-05 -1.7435128e-05 ...  2.8818376e-05\n",
      "   5.8991969e-05  1.9089885e-05]], Bias = [2.7942728e-05]\n",
      "Epoch = 180, Loss = 0.00297389, Weights = [[-3.5705718e-05 -4.4479501e-05 -1.7871575e-05 ...  2.9354900e-05\n",
      "   6.0412422e-05  1.9228093e-05]], Bias = [2.8564225e-05]\n",
      "Epoch = 185, Loss = 0.00296551, Weights = [[-3.6356516e-05 -4.5465305e-05 -1.8304296e-05 ...  2.9882649e-05\n",
      "   6.1821193e-05  1.9352978e-05]], Bias = [2.9179742e-05]\n",
      "Epoch = 190, Loss = 0.00295733, Weights = [[-3.6994454e-05 -4.6438854e-05 -1.8733397e-05 ...  3.0401916e-05\n",
      "   6.3218475e-05  1.9464944e-05]], Bias = [2.9789451e-05]\n",
      "Epoch = 195, Loss = 0.00294935, Weights = [[-3.7619884e-05 -4.7400354e-05 -1.9158990e-05 ...  3.0912968e-05\n",
      "   6.4604443e-05  1.9564382e-05]], Bias = [3.0393507e-05]\n",
      "Epoch = 200, Loss = 0.00294155, Weights = [[-3.8233149e-05 -4.8350019e-05 -1.9581177e-05 ...  3.1416072e-05\n",
      "   6.5979271e-05  1.9651665e-05]], Bias = [3.0992065e-05]\n",
      "Epoch = 205, Loss = 0.00293394, Weights = [[-3.8834591e-05 -4.9288050e-05 -2.0000069e-05 ...  3.1911466e-05\n",
      "   6.7343120e-05  1.9727149e-05]], Bias = [3.1585274e-05]\n",
      "Epoch = 210, Loss = 0.00292649, Weights = [[-3.9424522e-05 -5.0214654e-05 -2.0415766e-05 ...  3.2399388e-05\n",
      "   6.8696158e-05  1.9791183e-05]], Bias = [3.2173273e-05]\n",
      "Epoch = 215, Loss = 0.00291921, Weights = [[-4.0003266e-05 -5.1130039e-05 -2.0828371e-05 ...  3.2880063e-05\n",
      "   7.0038543e-05  1.9844094e-05]], Bias = [3.2756194e-05]\n",
      "Epoch = 220, Loss = 0.00291208, Weights = [[-4.0571125e-05 -5.2034397e-05 -2.1237985e-05 ...  3.3353695e-05\n",
      "   7.1370421e-05  1.9886198e-05]], Bias = [3.3334167e-05]\n",
      "Epoch = 225, Loss = 0.00290511, Weights = [[-4.1128398e-05 -5.2927935e-05 -2.1644708e-05 ...  3.3820488e-05\n",
      "   7.2691946e-05  1.9917803e-05]], Bias = [3.390732e-05]\n",
      "Epoch = 230, Loss = 0.00289828, Weights = [[-4.1675365e-05 -5.3810847e-05 -2.2048638e-05 ...  3.4280631e-05\n",
      "   7.4003270e-05  1.9939202e-05]], Bias = [3.447577e-05]\n",
      "Epoch = 235, Loss = 0.00289159, Weights = [[-4.2212301e-05 -5.4683325e-05 -2.2449864e-05 ...  3.4734308e-05\n",
      "   7.5304546e-05  1.9950678e-05]], Bias = [3.5039622e-05]\n",
      "Epoch = 240, Loss = 0.00288503, Weights = [[-4.2739473e-05 -5.5545555e-05 -2.2848475e-05 ...  3.5181693e-05\n",
      "   7.6595898e-05  1.9952502e-05]], Bias = [3.5599e-05]\n",
      "Epoch = 245, Loss = 0.00287861, Weights = [[-4.3257147e-05 -5.6397730e-05 -2.3244565e-05 ...  3.5622954e-05\n",
      "   7.7877477e-05  1.9944944e-05]], Bias = [3.6154004e-05]\n",
      "Epoch = 250, Loss = 0.00287231, Weights = [[-4.3765565e-05 -5.7240031e-05 -2.3638215e-05 ...  3.6058245e-05\n",
      "   7.9149409e-05  1.9928251e-05]], Bias = [3.6704732e-05]\n",
      "Epoch = 255, Loss = 0.00286613, Weights = [[-4.4264973e-05 -5.8072641e-05 -2.4029507e-05 ...  3.6487731e-05\n",
      "   8.0411824e-05  1.9902671e-05]], Bias = [3.7251288e-05]\n",
      "Epoch = 260, Loss = 0.00286007, Weights = [[-4.4755605e-05 -5.8895734e-05 -2.4418519e-05 ...  3.6911548e-05\n",
      "   8.1664861e-05  1.9868439e-05]], Bias = [3.779376e-05]\n",
      "Epoch = 265, Loss = 0.00285412, Weights = [[-4.5237688e-05 -5.9709480e-05 -2.4805333e-05 ...  3.7329832e-05\n",
      "   8.2908642e-05  1.9825786e-05]], Bias = [3.8332248e-05]\n",
      "Epoch = 270, Loss = 0.00284828, Weights = [[-4.5711440e-05 -6.0514056e-05 -2.5190016e-05 ...  3.7742720e-05\n",
      "   8.4143277e-05  1.9774929e-05]], Bias = [3.8866838e-05]\n",
      "Epoch = 275, Loss = 0.00284255, Weights = [[-4.6177076e-05 -6.1309620e-05 -2.5572646e-05 ...  3.8150349e-05\n",
      "   8.5368905e-05  1.9716084e-05]], Bias = [3.939761e-05]\n",
      "Epoch = 280, Loss = 0.00283691, Weights = [[-4.6634810e-05 -6.2096340e-05 -2.5953288e-05 ...  3.8552840e-05\n",
      "   8.6585642e-05  1.9649457e-05]], Bias = [3.9924653e-05]\n",
      "Epoch = 285, Loss = 0.00283138, Weights = [[-4.7084832e-05 -6.2874373e-05 -2.6332005e-05 ...  3.8950304e-05\n",
      "   8.7793596e-05  1.9575249e-05]], Bias = [4.0448038e-05]\n",
      "Epoch = 290, Loss = 0.00282594, Weights = [[-4.7527337e-05 -6.3643878e-05 -2.6708864e-05 ...  3.9342864e-05\n",
      "   8.8992892e-05  1.9493649e-05]], Bias = [4.096785e-05]\n",
      "Epoch = 295, Loss = 0.0028206, Weights = [[-4.7962523e-05 -6.4405009e-05 -2.7083921e-05 ...  3.9730628e-05\n",
      "   9.0183639e-05  1.9404846e-05]], Bias = [4.1484156e-05]\n",
      "Optimization Finished!\n",
      "Training error= 0.0028153388 Weights= [[-4.8390561e-05 -6.5157918e-05 -2.7457236e-05 ...  4.0113708e-05\n",
      "   9.1365946e-05  1.9309022e-05]] Bias= [4.1997027e-05] \n",
      "\n"
     ]
    }
   ],
   "source": [
    "optimizer = tf.train.GradientDescentOptimizer(learning_rate).minimize(error)\n",
    "\n",
    "session = tf.Session()\n",
    "session.run(tf.global_variables_initializer())\n",
    "\n",
    "loss_arr = []\n",
    "acc_arr = []\n",
    "\n",
    "for t in range(epochs):\n",
    "    \n",
    "    _, current_loss, current_W, current_b = session.run([optimizer, error, W, b], feed_dict={\n",
    "        X: training_data_x,\n",
    "        Y: training_data_y\n",
    "    })\n",
    "\n",
    "    if t % display_step == 0:\n",
    "        print(\"Epoch = %g, Loss = %g, Weights = %s, Bias = %s\" % (t, current_loss, str(current_W), str(current_b)))\n",
    "    \n",
    "    loss_arr.append(current_loss)\n",
    "    #acc_arr.append(accuracy(logistic_layer(current_W * training_data_x + current_b), training_data_y))\n",
    "    acc_arr.append(accuracy(logistic_layer(np.dot(current_W, training_data_x) + current_b), training_data_y))\n",
    "    \n",
    "print(\"Optimization Finished!\")\n",
    "\n",
    "training_error = session.run(error, feed_dict={X: training_data_x, Y: training_data_y})\n",
    "print(\"Training error=\", training_error, \"Weights=\", session.run(W), \"Bias=\", session.run(b), '\\n')"
   ]
  },
  {
   "cell_type": "code",
   "execution_count": 8,
   "metadata": {
    "cell_id": "00006-614e8ce1-d4bc-40d6-b8f7-3e04cbff6586",
    "deepnote_cell_type": "code",
    "deepnote_to_be_reexecuted": false,
    "execution_millis": 1079,
    "execution_start": 1634168452795,
    "source_hash": "a84f9185",
    "tags": []
   },
   "outputs": [
    {
     "name": "stdout",
     "output_type": "stream",
     "text": [
      "Accuracy percentage:  48.771929824561404 %\n"
     ]
    }
   ],
   "source": [
    "test_x = test_x.transpose()\n",
    "test_y = test_y.transpose()\n",
    "test_y = test_y.reshape(1,test_x.shape[1])\n",
    "\n",
    "predicted_y = np.dot(current_W, test_x) + session.run(b)\n",
    "predicted_y = logistic_layer(predicted_y)\n",
    "\n",
    "print(\"Accuracy percentage: \", accuracy(predicted_y, test_y), \"%\")"
   ]
  },
  {
   "cell_type": "code",
   "execution_count": 9,
   "metadata": {},
   "outputs": [],
   "source": [
    "with open('tf-models/multi-lr.npy', 'wb') as f:\n",
    "    np.save(f, session.run(W))\n",
    "    np.save(f, session.run(b))\n",
    "    np.save(f, loss_arr)\n",
    "    np.save(f, acc_arr)\n"
   ]
  },
  {
   "cell_type": "code",
   "execution_count": null,
   "metadata": {},
   "outputs": [],
   "source": []
  }
 ],
 "metadata": {
  "deepnote": {
   "is_reactive": false
  },
  "deepnote_execution_queue": [],
  "deepnote_notebook_id": "9816afbc-27fe-4cd8-82a2-1b252605b243",
  "environment": {
   "kernel": "python3",
   "name": "tf2-gpu.2-6.m87",
   "type": "gcloud",
   "uri": "gcr.io/deeplearning-platform-release/tf2-gpu.2-6:m87"
  },
  "kernelspec": {
   "display_name": "Python 3",
   "language": "python",
   "name": "python3"
  },
  "language_info": {
   "codemirror_mode": {
    "name": "ipython",
    "version": 3
   },
   "file_extension": ".py",
   "mimetype": "text/x-python",
   "name": "python",
   "nbconvert_exporter": "python",
   "pygments_lexer": "ipython3",
   "version": "3.7.12"
  }
 },
 "nbformat": 4,
 "nbformat_minor": 4
}
