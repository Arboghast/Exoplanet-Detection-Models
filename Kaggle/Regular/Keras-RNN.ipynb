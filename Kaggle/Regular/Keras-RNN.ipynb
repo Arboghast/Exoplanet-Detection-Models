{
 "cells": [
  {
   "cell_type": "code",
   "execution_count": 1,
   "metadata": {
    "cell_id": "00000-afba7569-182c-446f-9ff9-b34e7667234e",
    "deepnote_cell_type": "code",
    "deepnote_to_be_reexecuted": false,
    "execution_millis": 1,
    "execution_start": 1635037265730,
    "source_hash": "5278eaf6",
    "tags": []
   },
   "outputs": [],
   "source": [
    "# https://stackoverflow.com/questions/45741878/using-binary-crossentropy-loss-in-keras-tensorflow-backend\n",
    "# https://www.machinecurve.com/index.php/2019/10/22/how-to-use-binary-categorical-crossentropy-with-keras/\n",
    "\n",
    "import os\n",
    "os.environ['TF_CPP_MIN_LOG_LEVEL'] = '3' \n",
    "\n",
    "import tensorflow as tf\n",
    "from tensorflow import keras\n",
    "from tensorflow.keras.models import Sequential\n",
    "from tensorflow.keras.layers import Dense, SimpleRNN\n",
    "from tensorflow.keras.losses import BinaryCrossentropy\n",
    "from sklearn.model_selection import train_test_split\n",
    "from keras.callbacks import CSVLogger\n",
    "import numpy as np\n",
    "import pandas as pd\n",
    "import matplotlib.pyplot as plt\n",
    "\n",
    "%load_ext tensorboard\n",
    "import datetime\n",
    "\n",
    "\n",
    "#tf.config.experimental.list_physical_devices('GPU')\n",
    "\n",
    "# RNN based Models (RNN & LSTM & GRU) using tensorflow keras"
   ]
  },
  {
   "cell_type": "code",
   "execution_count": 2,
   "metadata": {},
   "outputs": [],
   "source": [
    "!rm -rf ./logs/RNN #dont run this line unless you want to delete the tensorboard logs"
   ]
  },
  {
   "cell_type": "code",
   "execution_count": 3,
   "metadata": {
    "cell_id": "00004-38d59f3b-639f-4670-800c-6442871d0b19",
    "deepnote_cell_type": "code",
    "deepnote_to_be_reexecuted": false,
    "execution_millis": 3,
    "execution_start": 1635033957043,
    "source_hash": "df684276",
    "tags": []
   },
   "outputs": [],
   "source": [
    "def convert_3D(matrix):\n",
    "    return np.expand_dims(matrix, -1)"
   ]
  },
  {
   "cell_type": "code",
   "execution_count": 4,
   "metadata": {
    "cell_id": "00003-61e6535c-8807-4fdf-9db0-2600c2e1ffeb",
    "deepnote_cell_type": "code",
    "deepnote_to_be_reexecuted": false,
    "execution_millis": 7311,
    "execution_start": 1635033957061,
    "source_hash": "cc5c0c7f",
    "tags": []
   },
   "outputs": [],
   "source": [
    "with open(\"../archive/ProcessData.npy\", 'rb') as f:\n",
    "        training_data_x = np.load(f)\n",
    "        test_x = np.load(f)\n",
    "        training_data_y = np.load(f)\n",
    "        test_y = np.load(f)\n",
    "        \n",
    "training_data_x = convert_3D(training_data_x) \n",
    "test_x = convert_3D(test_x) \n",
    "\n",
    "training_data_x, validation_data_x, training_data_y, validation_data_y = train_test_split(training_data_x, training_data_y, test_size=0.3)"
   ]
  },
  {
   "cell_type": "code",
   "execution_count": 5,
   "metadata": {
    "cell_id": "00004-1d50b029-4ea7-4cd9-95ae-49b5a3b3177e",
    "deepnote_cell_type": "code",
    "deepnote_to_be_reexecuted": false,
    "execution_millis": 215,
    "execution_start": 1635033964416,
    "source_hash": "ef605618",
    "tags": []
   },
   "outputs": [
    {
     "name": "stdout",
     "output_type": "stream",
     "text": [
      "Epoch 1/3\n",
      "112/112 [==============================] - 492s 4s/step - loss: 1.0288 - accuracy: 0.5233 - auc: 0.5586 - precision: 0.0077 - recall: 0.5000 - false_negatives: 13.0000 - false_positives: 1684.0000 - true_negatives: 1850.0000 - true_positives: 13.0000 - val_loss: 0.9578 - val_accuracy: 0.5809 - val_auc: 0.4708 - val_precision: 0.0063 - val_recall: 0.3636 - val_false_negatives: 7.0000 - val_false_positives: 633.0000 - val_true_negatives: 883.0000 - val_true_positives: 4.0000\n",
      "Epoch 2/3\n",
      "112/112 [==============================] - 464s 4s/step - loss: 0.9331 - accuracy: 0.6132 - auc: 0.5749 - precision: 0.0087 - recall: 0.4615 - false_negatives: 14.0000 - false_positives: 1363.0000 - true_negatives: 2171.0000 - true_positives: 12.0000 - val_loss: 0.8710 - val_accuracy: 0.6601 - val_auc: 0.4627 - val_precision: 0.0058 - val_recall: 0.2727 - val_false_negatives: 8.0000 - val_false_positives: 511.0000 - val_true_negatives: 1005.0000 - val_true_positives: 3.0000\n",
      "Epoch 3/3\n",
      "112/112 [==============================] - 470s 4s/step - loss: 0.8526 - accuracy: 0.6854 - auc: 0.5786 - precision: 0.0099 - recall: 0.4231 - false_negatives: 15.0000 - false_positives: 1105.0000 - true_negatives: 2429.0000 - true_positives: 11.0000 - val_loss: 0.7972 - val_accuracy: 0.7374 - val_auc: 0.4602 - val_precision: 0.0051 - val_recall: 0.1818 - val_false_negatives: 9.0000 - val_false_positives: 392.0000 - val_true_negatives: 1124.0000 - val_true_positives: 2.0000\n",
      "INFO:tensorflow:Assets written to: keras-models/KerasRNN/assets\n"
     ]
    }
   ],
   "source": [
    "RNNmodel = Sequential([\n",
    "    SimpleRNN(32, input_shape=(training_data_x.shape[1:]), activation='relu', return_sequences=True),\n",
    "    SimpleRNN(32, activation='relu'),\n",
    "    Dense(1, activation='sigmoid')\n",
    "])\n",
    "\n",
    "RNNmodel.compile(\n",
    "    loss=BinaryCrossentropy(),\n",
    "    optimizer=keras.optimizers.Adam(learning_rate=0.00001),\n",
    "    metrics=[\"accuracy\", tf.keras.metrics.AUC(), tf.keras.metrics.Precision(), tf.keras.metrics.Recall(), tf.keras.metrics.FalseNegatives(),\n",
    "             tf.keras.metrics.FalsePositives(), tf.keras.metrics.TrueNegatives(), tf.keras.metrics.TruePositives()]\n",
    ")\n",
    "\n",
    "log_dir = \"logs/RNN/fit/\" + datetime.datetime.now().strftime(\"%Y%m%d-%H%M%S\")\n",
    "tensorboard_callback = tf.keras.callbacks.TensorBoard(log_dir=log_dir, histogram_freq=1)\n",
    "\n",
    "csv_logger = CSVLogger('keras-models/KerasRNN/training.csv',separator=\",\", append=False)\n",
    "\n",
    "RNNmodel.fit(training_data_x, training_data_y, epochs=3, validation_data=(validation_data_x,validation_data_y), callbacks=[tensorboard_callback, csv_logger])\n",
    "\n",
    "model = RNNmodel\n",
    "model.save('keras-models/KerasRNN')"
   ]
  },
  {
   "cell_type": "code",
   "execution_count": 6,
   "metadata": {},
   "outputs": [
    {
     "data": {
      "text/html": [
       "\n",
       "      <iframe id=\"tensorboard-frame-c3311f6b9141a55e\" width=\"100%\" height=\"800\" frameborder=\"0\">\n",
       "      </iframe>\n",
       "      <script>\n",
       "        (function() {\n",
       "          const frame = document.getElementById(\"tensorboard-frame-c3311f6b9141a55e\");\n",
       "          const url = new URL(\"/proxy/6008/\", window.location);\n",
       "          const port = 0;\n",
       "          if (port) {\n",
       "            url.port = port;\n",
       "          }\n",
       "          frame.src = url;\n",
       "        })();\n",
       "      </script>\n",
       "    "
      ],
      "text/plain": [
       "<IPython.core.display.HTML object>"
      ]
     },
     "metadata": {},
     "output_type": "display_data"
    }
   ],
   "source": [
    "%tensorboard --logdir logs/RNN/fit"
   ]
  }
 ],
 "metadata": {
  "deepnote": {
   "is_reactive": false
  },
  "deepnote_execution_queue": [],
  "deepnote_notebook_id": "cc27128a-20f9-46f3-8cb8-b049b97dc4ab",
  "environment": {
   "kernel": "python3",
   "name": "tf2-gpu.2-6.m87",
   "type": "gcloud",
   "uri": "gcr.io/deeplearning-platform-release/tf2-gpu.2-6:m87"
  },
  "kernelspec": {
   "display_name": "Python 3",
   "language": "python",
   "name": "python3"
  },
  "language_info": {
   "codemirror_mode": {
    "name": "ipython",
    "version": 3
   },
   "file_extension": ".py",
   "mimetype": "text/x-python",
   "name": "python",
   "nbconvert_exporter": "python",
   "pygments_lexer": "ipython3",
   "version": "3.7.12"
  }
 },
 "nbformat": 4,
 "nbformat_minor": 4
}
