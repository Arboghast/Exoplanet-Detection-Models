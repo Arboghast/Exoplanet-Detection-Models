{
 "cells": [
  {
   "cell_type": "code",
   "execution_count": 1,
   "metadata": {
    "cell_id": "00000-afba7569-182c-446f-9ff9-b34e7667234e",
    "deepnote_cell_type": "code",
    "deepnote_to_be_reexecuted": false,
    "execution_millis": 1,
    "execution_start": 1635037265730,
    "source_hash": "5278eaf6",
    "tags": []
   },
   "outputs": [
    {
     "data": {
      "text/plain": [
       "[PhysicalDevice(name='/physical_device:GPU:0', device_type='GPU')]"
      ]
     },
     "execution_count": 1,
     "metadata": {},
     "output_type": "execute_result"
    }
   ],
   "source": [
    "# https://stackoverflow.com/questions/45741878/using-binary-crossentropy-loss-in-keras-tensorflow-backend\n",
    "# https://www.machinecurve.com/index.php/2019/10/22/how-to-use-binary-categorical-crossentropy-with-keras/\n",
    "\n",
    "import os\n",
    "os.environ['TF_CPP_MIN_LOG_LEVEL'] = '3'\n",
    "\n",
    "import tensorflow as tf\n",
    "from tensorflow import keras\n",
    "from tensorflow.keras.models import Sequential\n",
    "from tensorflow.keras.layers import Dense, Dropout, LSTM\n",
    "from tensorflow.keras.losses import BinaryCrossentropy\n",
    "from sklearn.model_selection import train_test_split\n",
    "from keras.callbacks import CSVLogger\n",
    "import numpy as np\n",
    "import pandas as pd\n",
    "import matplotlib.pyplot as plt\n",
    "physical_devices = tf.config.list_physical_devices('GPU') \n",
    "for device in physical_devices:\n",
    "    tf.config.experimental.set_memory_growth(device, True)\n",
    "\n",
    "%load_ext tensorboard\n",
    "import datetime\n",
    "\n",
    "tf.config.experimental.list_physical_devices('GPU')\n",
    "\n",
    "# RNN based Models (RNN & LSTM & GRU) using tensorflow keras"
   ]
  },
  {
   "cell_type": "code",
   "execution_count": 2,
   "metadata": {},
   "outputs": [],
   "source": [
    "!rm -rf ./logs/LSTM #dont run this line unless you want to delete the tensorboard logs"
   ]
  },
  {
   "cell_type": "code",
   "execution_count": 3,
   "metadata": {
    "cell_id": "00004-38d59f3b-639f-4670-800c-6442871d0b19",
    "deepnote_cell_type": "code",
    "deepnote_to_be_reexecuted": false,
    "execution_millis": 3,
    "execution_start": 1635033957043,
    "source_hash": "df684276",
    "tags": []
   },
   "outputs": [],
   "source": [
    "def convert_3D(matrix):\n",
    "    return np.expand_dims(matrix, -1)"
   ]
  },
  {
   "cell_type": "code",
   "execution_count": 4,
   "metadata": {
    "cell_id": "00003-61e6535c-8807-4fdf-9db0-2600c2e1ffeb",
    "deepnote_cell_type": "code",
    "deepnote_to_be_reexecuted": false,
    "execution_millis": 7311,
    "execution_start": 1635033957061,
    "source_hash": "cc5c0c7f",
    "tags": []
   },
   "outputs": [],
   "source": [
    "with open(\"../archive/ProcessData.npy\", 'rb') as f:\n",
    "        training_data_x = np.load(f)\n",
    "        test_x = np.load(f)\n",
    "        training_data_y = np.load(f)\n",
    "        test_y = np.load(f)\n",
    "        \n",
    "training_data_x = convert_3D(training_data_x) \n",
    "test_x = convert_3D(test_x)\n",
    "\n",
    "training_data_x, validation_data_x, training_data_y, validation_data_y = train_test_split(training_data_x, training_data_y, test_size=0.3)"
   ]
  },
  {
   "cell_type": "code",
   "execution_count": 5,
   "metadata": {
    "cell_id": "00006-f4aee48d-a8a3-4adf-b11c-6d3234ad146b",
    "deepnote_cell_type": "code",
    "deepnote_to_be_reexecuted": false,
    "execution_millis": 1252938,
    "execution_start": 1634585366394,
    "source_hash": "1b176e43",
    "tags": []
   },
   "outputs": [
    {
     "name": "stdout",
     "output_type": "stream",
     "text": [
      "Epoch 1/10\n",
      "112/112 [==============================] - 29s 223ms/step - loss: 0.6946 - accuracy: 0.5112 - auc: 0.5401 - precision: 0.0052 - recall: 0.4737 - false_negatives: 10.0000 - false_positives: 1730.0000 - true_negatives: 1811.0000 - true_positives: 9.0000 - val_loss: 0.6845 - val_accuracy: 0.7983 - val_auc: 0.5230 - val_precision: 0.0167 - val_recall: 0.2778 - val_false_negatives: 13.0000 - val_false_positives: 295.0000 - val_true_negatives: 1214.0000 - val_true_positives: 5.0000\n",
      "Epoch 2/10\n",
      "112/112 [==============================] - 21s 192ms/step - loss: 0.6734 - accuracy: 0.8444 - auc: 0.5703 - precision: 0.0055 - recall: 0.1579 - false_negatives: 16.0000 - false_positives: 538.0000 - true_negatives: 3003.0000 - true_positives: 3.0000 - val_loss: 0.6640 - val_accuracy: 0.8566 - val_auc: 0.5687 - val_precision: 0.0145 - val_recall: 0.1667 - val_false_negatives: 15.0000 - val_false_positives: 204.0000 - val_true_negatives: 1305.0000 - val_true_positives: 3.0000\n",
      "Epoch 3/10\n",
      "112/112 [==============================] - 22s 192ms/step - loss: 0.6522 - accuracy: 0.8831 - auc: 0.5772 - precision: 0.0050 - recall: 0.1053 - false_negatives: 17.0000 - false_positives: 399.0000 - true_negatives: 3142.0000 - true_positives: 2.0000 - val_loss: 0.6432 - val_accuracy: 0.8867 - val_auc: 0.5505 - val_precision: 0.0126 - val_recall: 0.1111 - val_false_negatives: 16.0000 - val_false_positives: 157.0000 - val_true_negatives: 1352.0000 - val_true_positives: 2.0000\n",
      "Epoch 4/10\n",
      "112/112 [==============================] - 21s 192ms/step - loss: 0.6305 - accuracy: 0.9000 - auc: 0.5567 - precision: 0.0059 - recall: 0.1053 - false_negatives: 17.0000 - false_positives: 339.0000 - true_negatives: 3202.0000 - true_positives: 2.0000 - val_loss: 0.6216 - val_accuracy: 0.9005 - val_auc: 0.5712 - val_precision: 0.0145 - val_recall: 0.1111 - val_false_negatives: 16.0000 - val_false_positives: 136.0000 - val_true_negatives: 1373.0000 - val_true_positives: 2.0000\n",
      "Epoch 5/10\n",
      "112/112 [==============================] - 21s 192ms/step - loss: 0.6077 - accuracy: 0.9096 - auc: 0.5783 - precision: 0.0065 - recall: 0.1053 - false_negatives: 17.0000 - false_positives: 305.0000 - true_negatives: 3236.0000 - true_positives: 2.0000 - val_loss: 0.5987 - val_accuracy: 0.9103 - val_auc: 0.5590 - val_precision: 0.0163 - val_recall: 0.1111 - val_false_negatives: 16.0000 - val_false_positives: 121.0000 - val_true_negatives: 1388.0000 - val_true_positives: 2.0000\n",
      "Epoch 6/10\n",
      "112/112 [==============================] - 22s 192ms/step - loss: 0.5836 - accuracy: 0.9180 - auc: 0.5800 - precision: 0.0072 - recall: 0.1053 - false_negatives: 17.0000 - false_positives: 275.0000 - true_negatives: 3266.0000 - true_positives: 2.0000 - val_loss: 0.5742 - val_accuracy: 0.9181 - val_auc: 0.5439 - val_precision: 0.0180 - val_recall: 0.1111 - val_false_negatives: 16.0000 - val_false_positives: 109.0000 - val_true_negatives: 1400.0000 - val_true_positives: 2.0000\n",
      "Epoch 7/10\n",
      "112/112 [==============================] - 21s 192ms/step - loss: 0.5575 - accuracy: 0.9233 - auc: 0.5215 - precision: 0.0078 - recall: 0.1053 - false_negatives: 17.0000 - false_positives: 256.0000 - true_negatives: 3285.0000 - true_positives: 2.0000 - val_loss: 0.5475 - val_accuracy: 0.9214 - val_auc: 0.5529 - val_precision: 0.0096 - val_recall: 0.0556 - val_false_negatives: 17.0000 - val_false_positives: 103.0000 - val_true_negatives: 1406.0000 - val_true_positives: 1.0000\n",
      "Epoch 8/10\n",
      "112/112 [==============================] - 22s 194ms/step - loss: 0.5291 - accuracy: 0.9292 - auc: 0.5818 - precision: 0.0084 - recall: 0.1053 - false_negatives: 17.0000 - false_positives: 235.0000 - true_negatives: 3306.0000 - true_positives: 2.0000 - val_loss: 0.5183 - val_accuracy: 0.9273 - val_auc: 0.5330 - val_precision: 0.0105 - val_recall: 0.0556 - val_false_negatives: 17.0000 - val_false_positives: 94.0000 - val_true_negatives: 1415.0000 - val_true_positives: 1.0000\n",
      "Epoch 9/10\n",
      "112/112 [==============================] - 22s 194ms/step - loss: 0.4977 - accuracy: 0.9334 - auc: 0.5642 - precision: 0.0090 - recall: 0.1053 - false_negatives: 17.0000 - false_positives: 220.0000 - true_negatives: 3321.0000 - true_positives: 2.0000 - val_loss: 0.4856 - val_accuracy: 0.9319 - val_auc: 0.5405 - val_precision: 0.0000e+00 - val_recall: 0.0000e+00 - val_false_negatives: 18.0000 - val_false_positives: 86.0000 - val_true_negatives: 1423.0000 - val_true_positives: 0.0000e+00\n",
      "Epoch 10/10\n",
      "112/112 [==============================] - 22s 193ms/step - loss: 0.4628 - accuracy: 0.9396 - auc: 0.5633 - precision: 0.0100 - recall: 0.1053 - false_negatives: 17.0000 - false_positives: 198.0000 - true_negatives: 3343.0000 - true_positives: 2.0000 - val_loss: 0.4493 - val_accuracy: 0.9378 - val_auc: 0.5318 - val_precision: 0.0000e+00 - val_recall: 0.0000e+00 - val_false_negatives: 18.0000 - val_false_positives: 77.0000 - val_true_negatives: 1432.0000 - val_true_positives: 0.0000e+00\n"
     ]
    },
    {
     "name": "stderr",
     "output_type": "stream",
     "text": [
      "WARNING:absl:Found untraced functions such as lstm_cell_layer_call_and_return_conditional_losses, lstm_cell_layer_call_fn, lstm_cell_1_layer_call_and_return_conditional_losses, lstm_cell_1_layer_call_fn, lstm_cell_layer_call_fn while saving (showing 5 of 10). These functions will not be directly callable after loading.\n"
     ]
    },
    {
     "name": "stdout",
     "output_type": "stream",
     "text": [
      "INFO:tensorflow:Assets written to: keras-models/KerasLSTM/assets\n"
     ]
    },
    {
     "name": "stderr",
     "output_type": "stream",
     "text": [
      "INFO:tensorflow:Assets written to: keras-models/KerasLSTM/assets\n"
     ]
    }
   ],
   "source": [
    "LSTMmodel = Sequential([\n",
    "    LSTM(64, input_shape=(training_data_x.shape[1:]), return_sequences=True),\n",
    "    #Dropout(0.3),\n",
    "    LSTM(64),\n",
    "    #Dropout(0.3),\n",
    "    Dense(1, activation='sigmoid')\n",
    "])\n",
    "\n",
    "LSTMmodel.compile(\n",
    "    loss=BinaryCrossentropy(),\n",
    "    optimizer=keras.optimizers.Adam(learning_rate=0.000003),\n",
    "    metrics=[\"accuracy\", tf.keras.metrics.AUC(), tf.keras.metrics.Precision(), tf.keras.metrics.Recall(), tf.keras.metrics.FalseNegatives(),\n",
    "             tf.keras.metrics.FalsePositives(), tf.keras.metrics.TrueNegatives(), tf.keras.metrics.TruePositives()]\n",
    ")\n",
    "\n",
    "log_dir = \"logs/LSTM/fit/\" + datetime.datetime.now().strftime(\"%Y%m%d-%H%M%S\")\n",
    "tensorboard_callback = tf.keras.callbacks.TensorBoard(log_dir=log_dir, histogram_freq=1)\n",
    "\n",
    "csv_logger = CSVLogger('keras-models/KerasLSTM/training.csv',separator=\",\", append=False)\n",
    "\n",
    "LSTMmodel.fit(training_data_x, training_data_y, epochs=10, validation_data=(validation_data_x,validation_data_y), callbacks=[tensorboard_callback, csv_logger])\n",
    "\n",
    "model = LSTMmodel\n",
    "model.save('keras-models/KerasLSTM')"
   ]
  },
  {
   "cell_type": "code",
   "execution_count": 6,
   "metadata": {},
   "outputs": [
    {
     "data": {
      "text/html": [
       "\n",
       "      <iframe id=\"tensorboard-frame-7060381c5819394f\" width=\"100%\" height=\"800\" frameborder=\"0\">\n",
       "      </iframe>\n",
       "      <script>\n",
       "        (function() {\n",
       "          const frame = document.getElementById(\"tensorboard-frame-7060381c5819394f\");\n",
       "          const url = new URL(\"/proxy/6007/\", window.location);\n",
       "          const port = 0;\n",
       "          if (port) {\n",
       "            url.port = port;\n",
       "          }\n",
       "          frame.src = url;\n",
       "        })();\n",
       "      </script>\n",
       "    "
      ],
      "text/plain": [
       "<IPython.core.display.HTML object>"
      ]
     },
     "metadata": {},
     "output_type": "display_data"
    }
   ],
   "source": [
    "%tensorboard --logdir logs/LSTM/fit"
   ]
  }
 ],
 "metadata": {
  "deepnote": {
   "is_reactive": false
  },
  "deepnote_execution_queue": [],
  "deepnote_notebook_id": "cc27128a-20f9-46f3-8cb8-b049b97dc4ab",
  "environment": {
   "kernel": "python3",
   "name": "tf2-gpu.2-6.m87",
   "type": "gcloud",
   "uri": "gcr.io/deeplearning-platform-release/tf2-gpu.2-6:m87"
  },
  "kernelspec": {
   "display_name": "Python 3",
   "language": "python",
   "name": "python3"
  },
  "language_info": {
   "codemirror_mode": {
    "name": "ipython",
    "version": 3
   },
   "file_extension": ".py",
   "mimetype": "text/x-python",
   "name": "python",
   "nbconvert_exporter": "python",
   "pygments_lexer": "ipython3",
   "version": "3.7.12"
  }
 },
 "nbformat": 4,
 "nbformat_minor": 4
}
