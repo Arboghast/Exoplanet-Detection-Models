{
 "cells": [
  {
   "cell_type": "code",
   "execution_count": 1,
   "metadata": {
    "cell_id": "00000-afba7569-182c-446f-9ff9-b34e7667234e",
    "deepnote_cell_type": "code",
    "deepnote_to_be_reexecuted": false,
    "execution_millis": 1,
    "execution_start": 1635037265730,
    "source_hash": "5278eaf6",
    "tags": []
   },
   "outputs": [
    {
     "data": {
      "text/plain": [
       "[PhysicalDevice(name='/physical_device:GPU:0', device_type='GPU')]"
      ]
     },
     "execution_count": 1,
     "metadata": {},
     "output_type": "execute_result"
    }
   ],
   "source": [
    "# https://stackoverflow.com/questions/45741878/using-binary-crossentropy-loss-in-keras-tensorflow-backend\n",
    "# https://www.machinecurve.com/index.php/2019/10/22/how-to-use-binary-categorical-crossentropy-with-keras/\n",
    "\n",
    "import os\n",
    "os.environ['TF_CPP_MIN_LOG_LEVEL'] = '3'\n",
    "\n",
    "import tensorflow as tf\n",
    "from tensorflow import keras\n",
    "from tensorflow.keras.models import Sequential\n",
    "from tensorflow.keras.layers import Dense, Dropout, LSTM\n",
    "from tensorflow.keras.losses import BinaryCrossentropy\n",
    "from sklearn.model_selection import train_test_split\n",
    "from keras.callbacks import CSVLogger\n",
    "import numpy as np\n",
    "import pandas as pd\n",
    "import matplotlib.pyplot as plt\n",
    "physical_devices = tf.config.list_physical_devices('GPU') \n",
    "for device in physical_devices:\n",
    "    tf.config.experimental.set_memory_growth(device, True)\n",
    "\n",
    "%load_ext tensorboard\n",
    "import datetime\n",
    "\n",
    "tf.config.experimental.list_physical_devices('GPU')\n",
    "\n",
    "# RNN based Models (RNN & LSTM & GRU) using tensorflow keras"
   ]
  },
  {
   "cell_type": "code",
   "execution_count": 2,
   "metadata": {},
   "outputs": [],
   "source": [
    "!rm -rf ./logs/LSTM/ #should not run this line it will remove the tensorboard logs"
   ]
  },
  {
   "cell_type": "code",
   "execution_count": 3,
   "metadata": {
    "cell_id": "00001-da6735cf-a8fa-4195-ad31-b27015128b52",
    "deepnote_cell_type": "code",
    "deepnote_to_be_reexecuted": false,
    "execution_millis": 3,
    "execution_start": 1635033957033,
    "source_hash": "1827c868",
    "tags": []
   },
   "outputs": [],
   "source": [
    "#normalize X values to help model converge\n",
    "def normalize(data):\n",
    "    mean = np.mean(data, axis=0)\n",
    "    std = np.std(data, axis=0)\n",
    "    data = (data - mean) / std\n",
    "    return data"
   ]
  },
  {
   "cell_type": "code",
   "execution_count": 4,
   "metadata": {
    "cell_id": "00004-38d59f3b-639f-4670-800c-6442871d0b19",
    "deepnote_cell_type": "code",
    "deepnote_to_be_reexecuted": false,
    "execution_millis": 3,
    "execution_start": 1635033957043,
    "source_hash": "df684276",
    "tags": []
   },
   "outputs": [],
   "source": [
    "def convert_3D(matrix):\n",
    "    return np.expand_dims(matrix, -1)"
   ]
  },
  {
   "cell_type": "code",
   "execution_count": 5,
   "metadata": {
    "cell_id": "00002-2f7c7b75-6991-49b0-8fb1-efa0c10c3753",
    "deepnote_cell_type": "code",
    "deepnote_to_be_reexecuted": false,
    "execution_millis": 3,
    "execution_start": 1635033957053,
    "source_hash": "d6dd0e88",
    "tags": []
   },
   "outputs": [],
   "source": [
    "#retrieve and format data - into labels and examples from the dataset\n",
    "def features_and_labels(filename_a, filename_b):\n",
    "    with open(filename_b, 'rb') as f:\n",
    "        labels = np.load(f).ravel()\n",
    "    \n",
    "    data = pd.read_pickle(filename_a)\n",
    "    #https://stackoverflow.com/questions/22798934/pandas-long-to-wide-reshape-by-two-variables\n",
    "    data_x = data.pivot(index='id', columns='time', values='FLUX')\n",
    "    data_x = data_x.to_numpy()\n",
    "    data_x = convert_3D(normalize(data_x))\n",
    "    return data_x, labels"
   ]
  },
  {
   "cell_type": "code",
   "execution_count": 6,
   "metadata": {
    "cell_id": "00003-61e6535c-8807-4fdf-9db0-2600c2e1ffeb",
    "deepnote_cell_type": "code",
    "deepnote_to_be_reexecuted": false,
    "execution_millis": 7311,
    "execution_start": 1635033957061,
    "source_hash": "cc5c0c7f",
    "tags": []
   },
   "outputs": [],
   "source": [
    "training_data_x, training_data_y = features_and_labels(\"../Kepler-Train.pkl\", \"../Labels-Train.npy\")\n",
    "testing_data_x, testing_data_y = features_and_labels(\"../Kepler-Test.pkl\", \"../Labels-Test.npy\")\n",
    "validation_data_x, validation_data_y = features_and_labels(\"../Kepler-Val.pkl\", \"../Labels-Val.npy\")"
   ]
  },
  {
   "cell_type": "code",
   "execution_count": 7,
   "metadata": {
    "cell_id": "00006-f4aee48d-a8a3-4adf-b11c-6d3234ad146b",
    "deepnote_cell_type": "code",
    "deepnote_to_be_reexecuted": false,
    "execution_millis": 1252938,
    "execution_start": 1634585366394,
    "source_hash": "1b176e43",
    "tags": []
   },
   "outputs": [
    {
     "name": "stdout",
     "output_type": "stream",
     "text": [
      "Epoch 1/10\n",
      "394/394 [==============================] - 14s 23ms/step - loss: 0.6876 - accuracy: 0.5528 - auc: 0.5130 - precision: 0.1451 - recall: 0.1944 - false_negatives: 2325.0000 - false_positives: 3305.0000 - true_negatives: 6398.0000 - true_positives: 561.0000 - val_loss: 0.6821 - val_accuracy: 0.5978 - val_auc: 0.5387 - val_precision: 0.0696 - val_recall: 0.0609 - val_false_negatives: 339.0000 - val_false_positives: 294.0000 - val_true_negatives: 919.0000 - val_true_positives: 22.0000\n",
      "Epoch 2/10\n",
      "394/394 [==============================] - 7s 18ms/step - loss: 0.6767 - accuracy: 0.6961 - auc: 0.5689 - precision: 0.0374 - recall: 0.0132 - false_negatives: 2848.0000 - false_positives: 978.0000 - true_negatives: 8725.0000 - true_positives: 38.0000 - val_loss: 0.6698 - val_accuracy: 0.7706 - val_auc: 0.6396 - val_precision: 0.0000e+00 - val_recall: 0.0000e+00 - val_false_negatives: 361.0000 - val_false_positives: 0.0000e+00 - val_true_negatives: 1213.0000 - val_true_positives: 0.0000e+00\n",
      "Epoch 3/10\n",
      "394/394 [==============================] - 7s 18ms/step - loss: 0.6625 - accuracy: 0.7708 - auc: 0.6554 - precision: 0.0000e+00 - recall: 0.0000e+00 - false_negatives: 2886.0000 - false_positives: 0.0000e+00 - true_negatives: 9703.0000 - true_positives: 0.0000e+00 - val_loss: 0.6530 - val_accuracy: 0.7706 - val_auc: 0.7322 - val_precision: 0.0000e+00 - val_recall: 0.0000e+00 - val_false_negatives: 361.0000 - val_false_positives: 0.0000e+00 - val_true_negatives: 1213.0000 - val_true_positives: 0.0000e+00\n",
      "Epoch 4/10\n",
      "394/394 [==============================] - 7s 18ms/step - loss: 0.6427 - accuracy: 0.7708 - auc: 0.7237 - precision: 0.0000e+00 - recall: 0.0000e+00 - false_negatives: 2886.0000 - false_positives: 0.0000e+00 - true_negatives: 9703.0000 - true_positives: 0.0000e+00 - val_loss: 0.6291 - val_accuracy: 0.7706 - val_auc: 0.7985 - val_precision: 0.0000e+00 - val_recall: 0.0000e+00 - val_false_negatives: 361.0000 - val_false_positives: 0.0000e+00 - val_true_negatives: 1213.0000 - val_true_positives: 0.0000e+00\n",
      "Epoch 5/10\n",
      "394/394 [==============================] - 7s 18ms/step - loss: 0.6147 - accuracy: 0.7708 - auc: 0.7579 - precision: 0.0000e+00 - recall: 0.0000e+00 - false_negatives: 2886.0000 - false_positives: 0.0000e+00 - true_negatives: 9703.0000 - true_positives: 0.0000e+00 - val_loss: 0.5951 - val_accuracy: 0.7706 - val_auc: 0.8009 - val_precision: 0.0000e+00 - val_recall: 0.0000e+00 - val_false_negatives: 361.0000 - val_false_positives: 0.0000e+00 - val_true_negatives: 1213.0000 - val_true_positives: 0.0000e+00\n",
      "Epoch 6/10\n",
      "394/394 [==============================] - 7s 18ms/step - loss: 0.5762 - accuracy: 0.7708 - auc: 0.7792 - precision: 0.0000e+00 - recall: 0.0000e+00 - false_negatives: 2886.0000 - false_positives: 0.0000e+00 - true_negatives: 9703.0000 - true_positives: 0.0000e+00 - val_loss: 0.5498 - val_accuracy: 0.7706 - val_auc: 0.8098 - val_precision: 0.0000e+00 - val_recall: 0.0000e+00 - val_false_negatives: 361.0000 - val_false_positives: 0.0000e+00 - val_true_negatives: 1213.0000 - val_true_positives: 0.0000e+00\n",
      "Epoch 7/10\n",
      "394/394 [==============================] - 7s 18ms/step - loss: 0.5272 - accuracy: 0.7708 - auc: 0.7904 - precision: 0.0000e+00 - recall: 0.0000e+00 - false_negatives: 2886.0000 - false_positives: 0.0000e+00 - true_negatives: 9703.0000 - true_positives: 0.0000e+00 - val_loss: 0.4966 - val_accuracy: 0.7706 - val_auc: 0.8331 - val_precision: 0.0000e+00 - val_recall: 0.0000e+00 - val_false_negatives: 361.0000 - val_false_positives: 0.0000e+00 - val_true_negatives: 1213.0000 - val_true_positives: 0.0000e+00\n",
      "Epoch 8/10\n",
      "394/394 [==============================] - 7s 18ms/step - loss: 0.4789 - accuracy: 0.7708 - auc: 0.8091 - precision: 0.0000e+00 - recall: 0.0000e+00 - false_negatives: 2886.0000 - false_positives: 0.0000e+00 - true_negatives: 9703.0000 - true_positives: 0.0000e+00 - val_loss: 0.4576 - val_accuracy: 0.7706 - val_auc: 0.8350 - val_precision: 0.0000e+00 - val_recall: 0.0000e+00 - val_false_negatives: 361.0000 - val_false_positives: 0.0000e+00 - val_true_negatives: 1213.0000 - val_true_positives: 0.0000e+00\n",
      "Epoch 9/10\n",
      "394/394 [==============================] - 7s 18ms/step - loss: 0.4502 - accuracy: 0.7708 - auc: 0.8193 - precision: 0.0000e+00 - recall: 0.0000e+00 - false_negatives: 2886.0000 - false_positives: 0.0000e+00 - true_negatives: 9703.0000 - true_positives: 0.0000e+00 - val_loss: 0.4381 - val_accuracy: 0.7706 - val_auc: 0.8198 - val_precision: 0.0000e+00 - val_recall: 0.0000e+00 - val_false_negatives: 361.0000 - val_false_positives: 0.0000e+00 - val_true_negatives: 1213.0000 - val_true_positives: 0.0000e+00\n",
      "Epoch 10/10\n",
      "394/394 [==============================] - 7s 17ms/step - loss: 0.4312 - accuracy: 0.7708 - auc: 0.8221 - precision: 0.0000e+00 - recall: 0.0000e+00 - false_negatives: 2886.0000 - false_positives: 0.0000e+00 - true_negatives: 9703.0000 - true_positives: 0.0000e+00 - val_loss: 0.4209 - val_accuracy: 0.7706 - val_auc: 0.8098 - val_precision: 0.0000e+00 - val_recall: 0.0000e+00 - val_false_negatives: 361.0000 - val_false_positives: 0.0000e+00 - val_true_negatives: 1213.0000 - val_true_positives: 0.0000e+00\n"
     ]
    },
    {
     "name": "stderr",
     "output_type": "stream",
     "text": [
      "WARNING:absl:Found untraced functions such as lstm_cell_layer_call_and_return_conditional_losses, lstm_cell_layer_call_fn, lstm_cell_1_layer_call_and_return_conditional_losses, lstm_cell_1_layer_call_fn, lstm_cell_layer_call_fn while saving (showing 5 of 10). These functions will not be directly callable after loading.\n"
     ]
    },
    {
     "name": "stdout",
     "output_type": "stream",
     "text": [
      "INFO:tensorflow:Assets written to: keras-models/KerasLSTM/assets\n"
     ]
    },
    {
     "name": "stderr",
     "output_type": "stream",
     "text": [
      "INFO:tensorflow:Assets written to: keras-models/KerasLSTM/assets\n"
     ]
    }
   ],
   "source": [
    "LSTMmodel = Sequential([\n",
    "    LSTM(64, input_shape=(training_data_x.shape[1:]), return_sequences=True),\n",
    "    #Dropout(0.3),\n",
    "    LSTM(64),\n",
    "    #Dropout(0.3),\n",
    "    Dense(1, activation='sigmoid')\n",
    "])\n",
    "\n",
    "LSTMmodel.compile(\n",
    "    loss=BinaryCrossentropy(),\n",
    "    optimizer=keras.optimizers.Adam(learning_rate=0.000003),\n",
    "    metrics=[\"accuracy\", tf.keras.metrics.AUC(), tf.keras.metrics.Precision(), tf.keras.metrics.Recall(), tf.keras.metrics.FalseNegatives(),\n",
    "             tf.keras.metrics.FalsePositives(), tf.keras.metrics.TrueNegatives(), tf.keras.metrics.TruePositives()]\n",
    ")\n",
    "\n",
    "log_dir = \"logs/LSTM/fit/\" + datetime.datetime.now().strftime(\"%Y%m%d-%H%M%S\")\n",
    "tensorboard_callback = tf.keras.callbacks.TensorBoard(log_dir=log_dir, histogram_freq=1)\n",
    "\n",
    "csv_logger = CSVLogger('keras-models/KerasLSTM/training.csv',separator=\",\", append=False)\n",
    "\n",
    "LSTMmodel.fit(training_data_x, training_data_y, epochs=10, validation_data=(validation_data_x,validation_data_y), callbacks=[tensorboard_callback, csv_logger])\n",
    "\n",
    "model = LSTMmodel\n",
    "model.save('keras-models/KerasLSTM')"
   ]
  },
  {
   "cell_type": "code",
   "execution_count": 8,
   "metadata": {},
   "outputs": [
    {
     "data": {
      "text/html": [
       "\n",
       "      <iframe id=\"tensorboard-frame-201660774113b1d5\" width=\"100%\" height=\"800\" frameborder=\"0\">\n",
       "      </iframe>\n",
       "      <script>\n",
       "        (function() {\n",
       "          const frame = document.getElementById(\"tensorboard-frame-201660774113b1d5\");\n",
       "          const url = new URL(\"/proxy/6007/\", window.location);\n",
       "          const port = 0;\n",
       "          if (port) {\n",
       "            url.port = port;\n",
       "          }\n",
       "          frame.src = url;\n",
       "        })();\n",
       "      </script>\n",
       "    "
      ],
      "text/plain": [
       "<IPython.core.display.HTML object>"
      ]
     },
     "metadata": {},
     "output_type": "display_data"
    }
   ],
   "source": [
    "%tensorboard --logdir logs/LSTM/fit"
   ]
  }
 ],
 "metadata": {
  "deepnote": {
   "is_reactive": false
  },
  "deepnote_execution_queue": [],
  "deepnote_notebook_id": "cc27128a-20f9-46f3-8cb8-b049b97dc4ab",
  "environment": {
   "kernel": "python3",
   "name": "tf2-gpu.2-6.m87",
   "type": "gcloud",
   "uri": "gcr.io/deeplearning-platform-release/tf2-gpu.2-6:m87"
  },
  "kernelspec": {
   "display_name": "Python 3",
   "language": "python",
   "name": "python3"
  },
  "language_info": {
   "codemirror_mode": {
    "name": "ipython",
    "version": 3
   },
   "file_extension": ".py",
   "mimetype": "text/x-python",
   "name": "python",
   "nbconvert_exporter": "python",
   "pygments_lexer": "ipython3",
   "version": "3.7.12"
  }
 },
 "nbformat": 4,
 "nbformat_minor": 4
}
