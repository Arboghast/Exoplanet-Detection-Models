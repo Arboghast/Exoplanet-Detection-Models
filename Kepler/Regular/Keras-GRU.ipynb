{
 "cells": [
  {
   "cell_type": "code",
   "execution_count": 1,
   "metadata": {
    "cell_id": "00000-afba7569-182c-446f-9ff9-b34e7667234e",
    "deepnote_cell_type": "code",
    "deepnote_to_be_reexecuted": false,
    "execution_millis": 1,
    "execution_start": 1635037265730,
    "source_hash": "5278eaf6",
    "tags": []
   },
   "outputs": [
    {
     "data": {
      "text/plain": [
       "[PhysicalDevice(name='/physical_device:GPU:0', device_type='GPU')]"
      ]
     },
     "execution_count": 1,
     "metadata": {},
     "output_type": "execute_result"
    }
   ],
   "source": [
    "# https://stackoverflow.com/questions/45741878/using-binary-crossentropy-loss-in-keras-tensorflow-backend\n",
    "# https://www.machinecurve.com/index.php/2019/10/22/how-to-use-binary-categorical-crossentropy-with-keras/\n",
    "\n",
    "import os\n",
    "os.environ['TF_CPP_MIN_LOG_LEVEL'] = '3' \n",
    "\n",
    "import tensorflow as tf\n",
    "from tensorflow import keras\n",
    "from tensorflow.keras.models import Sequential\n",
    "from tensorflow.keras.layers import Dense, GRU, Dropout\n",
    "from tensorflow.keras.losses import BinaryCrossentropy\n",
    "from keras.callbacks import CSVLogger\n",
    "from sklearn.model_selection import train_test_split\n",
    "import numpy as np\n",
    "import pandas as pd\n",
    "import matplotlib.pyplot as plt\n",
    "physical_devices = tf.config.list_physical_devices('GPU') \n",
    "for device in physical_devices:\n",
    "    tf.config.experimental.set_memory_growth(device, True)\n",
    "\n",
    "%load_ext tensorboard\n",
    "import datetime\n",
    "\n",
    "\n",
    "tf.config.experimental.list_physical_devices('GPU')\n",
    "\n",
    "# RNN based Models (RNN & LSTM & GRU) using tensorflow keras"
   ]
  },
  {
   "cell_type": "code",
   "execution_count": null,
   "metadata": {},
   "outputs": [],
   "source": [
    "!rm -rf ./logs/GRU/ #should not run this line it will remove the tensorboard logs"
   ]
  },
  {
   "cell_type": "code",
   "execution_count": 2,
   "metadata": {
    "cell_id": "00001-da6735cf-a8fa-4195-ad31-b27015128b52",
    "deepnote_cell_type": "code",
    "deepnote_to_be_reexecuted": false,
    "execution_millis": 3,
    "execution_start": 1635033957033,
    "source_hash": "1827c868",
    "tags": []
   },
   "outputs": [],
   "source": [
    "#normalize X values to help model converge\n",
    "def normalize(data):\n",
    "    mean = np.mean(data, axis=0)\n",
    "    std = np.std(data, axis=0)\n",
    "    data = (data - mean) / std\n",
    "    return data"
   ]
  },
  {
   "cell_type": "code",
   "execution_count": 3,
   "metadata": {
    "cell_id": "00004-38d59f3b-639f-4670-800c-6442871d0b19",
    "deepnote_cell_type": "code",
    "deepnote_to_be_reexecuted": false,
    "execution_millis": 3,
    "execution_start": 1635033957043,
    "source_hash": "df684276",
    "tags": []
   },
   "outputs": [],
   "source": [
    "def convert_3D(matrix):\n",
    "    return np.expand_dims(matrix, -1)"
   ]
  },
  {
   "cell_type": "code",
   "execution_count": 4,
   "metadata": {
    "cell_id": "00002-2f7c7b75-6991-49b0-8fb1-efa0c10c3753",
    "deepnote_cell_type": "code",
    "deepnote_to_be_reexecuted": false,
    "execution_millis": 3,
    "execution_start": 1635033957053,
    "source_hash": "d6dd0e88",
    "tags": []
   },
   "outputs": [],
   "source": [
    "#retrieve and format data - into labels and examples from the dataset\n",
    "def features_and_labels(filename_a, filename_b):\n",
    "    with open(filename_b, 'rb') as f:\n",
    "        labels = np.load(f).ravel()\n",
    "    \n",
    "    data = pd.read_pickle(filename_a)\n",
    "    #https://stackoverflow.com/questions/22798934/pandas-long-to-wide-reshape-by-two-variables\n",
    "    data_x = data.pivot(index='id', columns='time', values='FLUX')\n",
    "    data_x = data_x.to_numpy()\n",
    "    data_x = convert_3D(normalize(data_x))\n",
    "    return data_x, labels"
   ]
  },
  {
   "cell_type": "code",
   "execution_count": 5,
   "metadata": {
    "cell_id": "00003-61e6535c-8807-4fdf-9db0-2600c2e1ffeb",
    "deepnote_cell_type": "code",
    "deepnote_to_be_reexecuted": false,
    "execution_millis": 7311,
    "execution_start": 1635033957061,
    "source_hash": "cc5c0c7f",
    "tags": []
   },
   "outputs": [],
   "source": [
    "training_data_x, training_data_y = features_and_labels(\"../Kepler-Train.pkl\", \"../Labels-Train.npy\")\n",
    "testing_data_x, testing_data_y = features_and_labels(\"../Kepler-Test.pkl\", \"../Labels-Test.npy\")\n",
    "validation_data_x, validation_data_y = features_and_labels(\"../Kepler-Val.pkl\", \"../Labels-Val.npy\")"
   ]
  },
  {
   "cell_type": "code",
   "execution_count": 8,
   "metadata": {
    "cell_id": "00007-c0a57ad4-3c35-42c7-8b5c-55879d7020a1",
    "deepnote_cell_type": "code",
    "deepnote_to_be_reexecuted": true,
    "execution_millis": 1218104,
    "execution_start": 1634529075420,
    "source_hash": "b21a705a",
    "tags": []
   },
   "outputs": [
    {
     "name": "stdout",
     "output_type": "stream",
     "text": [
      "Epoch 1/10\n",
      "394/394 [==============================] - 15s 22ms/step - loss: 0.6802 - accuracy: 0.5822 - auc_1: 0.5021 - precision: 0.1080 - recall: 0.1133 - false_negatives: 2559.0000 - false_positives: 2701.0000 - true_negatives: 7002.0000 - true_positives: 327.0000 - val_loss: 0.6640 - val_accuracy: 0.7370 - val_auc_1: 0.5078 - val_precision: 0.0000e+00 - val_recall: 0.0000e+00 - val_false_negatives: 361.0000 - val_false_positives: 53.0000 - val_true_negatives: 1160.0000 - val_true_positives: 0.0000e+00\n",
      "Epoch 2/10\n",
      "394/394 [==============================] - 7s 16ms/step - loss: 0.6427 - accuracy: 0.7696 - auc_1: 0.5693 - precision: 0.0000e+00 - recall: 0.0000e+00 - false_negatives: 2886.0000 - false_positives: 14.0000 - true_negatives: 9689.0000 - true_positives: 0.0000e+00 - val_loss: 0.6167 - val_accuracy: 0.7706 - val_auc_1: 0.6745 - val_precision: 0.0000e+00 - val_recall: 0.0000e+00 - val_false_negatives: 361.0000 - val_false_positives: 0.0000e+00 - val_true_negatives: 1213.0000 - val_true_positives: 0.0000e+00\n",
      "Epoch 3/10\n",
      "394/394 [==============================] - 6s 16ms/step - loss: 0.5820 - accuracy: 0.7708 - auc_1: 0.6005 - precision: 0.0000e+00 - recall: 0.0000e+00 - false_negatives: 2886.0000 - false_positives: 0.0000e+00 - true_negatives: 9703.0000 - true_positives: 0.0000e+00 - val_loss: 0.5437 - val_accuracy: 0.7706 - val_auc_1: 0.6714 - val_precision: 0.0000e+00 - val_recall: 0.0000e+00 - val_false_negatives: 361.0000 - val_false_positives: 0.0000e+00 - val_true_negatives: 1213.0000 - val_true_positives: 0.0000e+00\n",
      "Epoch 4/10\n",
      "394/394 [==============================] - 6s 16ms/step - loss: 0.5217 - accuracy: 0.7708 - auc_1: 0.6484 - precision: 0.0000e+00 - recall: 0.0000e+00 - false_negatives: 2886.0000 - false_positives: 0.0000e+00 - true_negatives: 9703.0000 - true_positives: 0.0000e+00 - val_loss: 0.5055 - val_accuracy: 0.7706 - val_auc_1: 0.7318 - val_precision: 0.0000e+00 - val_recall: 0.0000e+00 - val_false_negatives: 361.0000 - val_false_positives: 0.0000e+00 - val_true_negatives: 1213.0000 - val_true_positives: 0.0000e+00\n",
      "Epoch 5/10\n",
      "394/394 [==============================] - 6s 16ms/step - loss: 0.4989 - accuracy: 0.7708 - auc_1: 0.7426 - precision: 0.0000e+00 - recall: 0.0000e+00 - false_negatives: 2886.0000 - false_positives: 0.0000e+00 - true_negatives: 9703.0000 - true_positives: 0.0000e+00 - val_loss: 0.4879 - val_accuracy: 0.7706 - val_auc_1: 0.7770 - val_precision: 0.0000e+00 - val_recall: 0.0000e+00 - val_false_negatives: 361.0000 - val_false_positives: 0.0000e+00 - val_true_negatives: 1213.0000 - val_true_positives: 0.0000e+00\n",
      "Epoch 6/10\n",
      "394/394 [==============================] - 6s 16ms/step - loss: 0.4809 - accuracy: 0.7708 - auc_1: 0.7751 - precision: 0.0000e+00 - recall: 0.0000e+00 - false_negatives: 2886.0000 - false_positives: 0.0000e+00 - true_negatives: 9703.0000 - true_positives: 0.0000e+00 - val_loss: 0.4677 - val_accuracy: 0.7706 - val_auc_1: 0.7879 - val_precision: 0.0000e+00 - val_recall: 0.0000e+00 - val_false_negatives: 361.0000 - val_false_positives: 0.0000e+00 - val_true_negatives: 1213.0000 - val_true_positives: 0.0000e+00\n",
      "Epoch 7/10\n",
      "394/394 [==============================] - 6s 16ms/step - loss: 0.4603 - accuracy: 0.7708 - auc_1: 0.7853 - precision: 0.0000e+00 - recall: 0.0000e+00 - false_negatives: 2886.0000 - false_positives: 0.0000e+00 - true_negatives: 9703.0000 - true_positives: 0.0000e+00 - val_loss: 0.4460 - val_accuracy: 0.7706 - val_auc_1: 0.7815 - val_precision: 0.0000e+00 - val_recall: 0.0000e+00 - val_false_negatives: 361.0000 - val_false_positives: 0.0000e+00 - val_true_negatives: 1213.0000 - val_true_positives: 0.0000e+00\n",
      "Epoch 8/10\n",
      "394/394 [==============================] - 6s 16ms/step - loss: 0.4393 - accuracy: 0.7708 - auc_1: 0.7905 - precision: 0.0000e+00 - recall: 0.0000e+00 - false_negatives: 2886.0000 - false_positives: 0.0000e+00 - true_negatives: 9703.0000 - true_positives: 0.0000e+00 - val_loss: 0.4263 - val_accuracy: 0.7706 - val_auc_1: 0.7781 - val_precision: 0.0000e+00 - val_recall: 0.0000e+00 - val_false_negatives: 361.0000 - val_false_positives: 0.0000e+00 - val_true_negatives: 1213.0000 - val_true_positives: 0.0000e+00\n",
      "Epoch 9/10\n",
      "394/394 [==============================] - 6s 16ms/step - loss: 0.4201 - accuracy: 0.7708 - auc_1: 0.7927 - precision: 0.0000e+00 - recall: 0.0000e+00 - false_negatives: 2886.0000 - false_positives: 0.0000e+00 - true_negatives: 9703.0000 - true_positives: 0.0000e+00 - val_loss: 0.4093 - val_accuracy: 0.7706 - val_auc_1: 0.7854 - val_precision: 0.0000e+00 - val_recall: 0.0000e+00 - val_false_negatives: 361.0000 - val_false_positives: 0.0000e+00 - val_true_negatives: 1213.0000 - val_true_positives: 0.0000e+00\n",
      "Epoch 10/10\n",
      "394/394 [==============================] - 6s 16ms/step - loss: 0.4019 - accuracy: 0.7708 - auc_1: 0.8003 - precision: 0.0000e+00 - recall: 0.0000e+00 - false_negatives: 2886.0000 - false_positives: 0.0000e+00 - true_negatives: 9703.0000 - true_positives: 0.0000e+00 - val_loss: 0.3912 - val_accuracy: 0.7706 - val_auc_1: 0.7916 - val_precision: 0.0000e+00 - val_recall: 0.0000e+00 - val_false_negatives: 361.0000 - val_false_positives: 0.0000e+00 - val_true_negatives: 1213.0000 - val_true_positives: 0.0000e+00\n"
     ]
    },
    {
     "name": "stderr",
     "output_type": "stream",
     "text": [
      "WARNING:absl:Found untraced functions such as gru_cell_4_layer_call_fn, gru_cell_4_layer_call_and_return_conditional_losses, gru_cell_5_layer_call_fn, gru_cell_5_layer_call_and_return_conditional_losses, gru_cell_4_layer_call_fn while saving (showing 5 of 10). These functions will not be directly callable after loading.\n"
     ]
    },
    {
     "name": "stdout",
     "output_type": "stream",
     "text": [
      "INFO:tensorflow:Assets written to: keras-models/KerasGRU/assets\n"
     ]
    },
    {
     "name": "stderr",
     "output_type": "stream",
     "text": [
      "INFO:tensorflow:Assets written to: keras-models/KerasGRU/assets\n"
     ]
    }
   ],
   "source": [
    "GRUmodel = Sequential([\n",
    "    GRU(64, input_shape=(training_data_x.shape[1:]), return_sequences=True),\n",
    "    #Dropout(0.3),\n",
    "    GRU(64),\n",
    "    #Dropout(0.3),\n",
    "    #GRU(64),\n",
    "    Dense(1, activation='sigmoid')\n",
    "])\n",
    "\n",
    "GRUmodel.compile(\n",
    "    loss=BinaryCrossentropy(),\n",
    "    optimizer=keras.optimizers.Adam(learning_rate=0.00001),\n",
    "    metrics=[\"accuracy\", tf.keras.metrics.AUC(), tf.keras.metrics.Precision(), tf.keras.metrics.Recall(), tf.keras.metrics.FalseNegatives(),\n",
    "             tf.keras.metrics.FalsePositives(), tf.keras.metrics.TrueNegatives(), tf.keras.metrics.TruePositives()]\n",
    ")\n",
    "\n",
    "log_dir = \"logs/GRU/fit/\" + datetime.datetime.now().strftime(\"%Y%m%d-%H%M%S\")\n",
    "tensorboard_callback = tf.keras.callbacks.TensorBoard(log_dir=log_dir)\n",
    "\n",
    "csv_logger = CSVLogger('keras-models/KerasGRU/training.csv',separator=\",\", append=False)\n",
    "\n",
    "GRUmodel.fit(training_data_x, training_data_y, epochs=10, validation_data=(validation_data_x,validation_data_y), callbacks=[tensorboard_callback, csv_logger])\n",
    "\n",
    "model = GRUmodel\n",
    "model.save('keras-models/KerasGRU')"
   ]
  },
  {
   "cell_type": "code",
   "execution_count": 9,
   "metadata": {},
   "outputs": [
    {
     "data": {
      "text/html": [
       "\n",
       "      <iframe id=\"tensorboard-frame-da5cbbbdbd241630\" width=\"100%\" height=\"800\" frameborder=\"0\">\n",
       "      </iframe>\n",
       "      <script>\n",
       "        (function() {\n",
       "          const frame = document.getElementById(\"tensorboard-frame-da5cbbbdbd241630\");\n",
       "          const url = new URL(\"/proxy/6006/\", window.location);\n",
       "          const port = 0;\n",
       "          if (port) {\n",
       "            url.port = port;\n",
       "          }\n",
       "          frame.src = url;\n",
       "        })();\n",
       "      </script>\n",
       "    "
      ],
      "text/plain": [
       "<IPython.core.display.HTML object>"
      ]
     },
     "metadata": {},
     "output_type": "display_data"
    }
   ],
   "source": [
    "%tensorboard --logdir logs/GRU/fit"
   ]
  },
  {
   "cell_type": "code",
   "execution_count": null,
   "metadata": {},
   "outputs": [],
   "source": []
  }
 ],
 "metadata": {
  "deepnote": {
   "is_reactive": false
  },
  "deepnote_execution_queue": [],
  "deepnote_notebook_id": "cc27128a-20f9-46f3-8cb8-b049b97dc4ab",
  "environment": {
   "kernel": "python3",
   "name": "tf2-gpu.2-6.m87",
   "type": "gcloud",
   "uri": "gcr.io/deeplearning-platform-release/tf2-gpu.2-6:m87"
  },
  "kernelspec": {
   "display_name": "Python 3",
   "language": "python",
   "name": "python3"
  },
  "language_info": {
   "codemirror_mode": {
    "name": "ipython",
    "version": 3
   },
   "file_extension": ".py",
   "mimetype": "text/x-python",
   "name": "python",
   "nbconvert_exporter": "python",
   "pygments_lexer": "ipython3",
   "version": "3.7.12"
  }
 },
 "nbformat": 4,
 "nbformat_minor": 4
}
