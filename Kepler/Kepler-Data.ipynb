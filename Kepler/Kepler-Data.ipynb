{
 "cells": [
  {
   "cell_type": "code",
   "execution_count": 1,
   "id": "a560866d-5bad-4f16-af43-dd80f7181767",
   "metadata": {},
   "outputs": [],
   "source": [
    "import tensorflow as tf\n",
    "import matplotlib.pyplot as plt\n",
    "from pathlib import Path\n",
    "import pandas as pd\n",
    "import numpy as np\n",
    "import os\n",
    "import glob\n",
    "import lightkurve as lk"
   ]
  },
  {
   "cell_type": "code",
   "execution_count": 2,
   "id": "2f46b862-8341-496c-aac3-bdb34fd059f2",
   "metadata": {},
   "outputs": [
    {
     "name": "stdout",
     "output_type": "stream",
     "text": [
      "['TFRecords/train-00004-of-00008', 'TFRecords/train-00002-of-00008', 'TFRecords/train-00006-of-00008', 'TFRecords/train-00007-of-00008', 'TFRecords/train-00003-of-00008', 'TFRecords/train-00005-of-00008', 'TFRecords/train-00001-of-00008', 'TFRecords/train-00000-of-00008']\n"
     ]
    },
    {
     "data": {
      "text/plain": [
       "[PosixPath('TFRecords/train-00004-of-00008'),\n",
       " PosixPath('TFRecords/train-00002-of-00008'),\n",
       " PosixPath('TFRecords/train-00006-of-00008'),\n",
       " PosixPath('TFRecords/train-00007-of-00008'),\n",
       " PosixPath('TFRecords/train-00003-of-00008'),\n",
       " PosixPath('TFRecords/train-00005-of-00008'),\n",
       " PosixPath('TFRecords/train-00001-of-00008'),\n",
       " PosixPath('TFRecords/train-00000-of-00008')]"
      ]
     },
     "execution_count": 2,
     "metadata": {},
     "output_type": "execute_result"
    }
   ],
   "source": [
    "filenames = []\n",
    "\n",
    "print(glob.glob(os.path.join(\"TFRecords/\", \"train*\")))\n",
    "\n",
    "rootdir = \"TFRecords/\"\n",
    "for path in Path(rootdir).glob('train*'):\n",
    "    filenames.append(path)\n",
    "filenames"
   ]
  },
  {
   "cell_type": "code",
   "execution_count": 3,
   "id": "8f12db92-c747-46cc-bae7-d2783207a698",
   "metadata": {},
   "outputs": [
    {
     "data": {
      "text/plain": [
       "'\\nraw_dataset = tf.data.TFRecordDataset(filenames)\\nraw_dataset\\n'"
      ]
     },
     "execution_count": 3,
     "metadata": {},
     "output_type": "execute_result"
    }
   ],
   "source": [
    "\"\"\"\n",
    "raw_dataset = tf.data.TFRecordDataset(filenames)\n",
    "raw_dataset\n",
    "\"\"\""
   ]
  },
  {
   "cell_type": "code",
   "execution_count": 4,
   "id": "5342caa9-eb9e-4423-bbb4-f3504c417176",
   "metadata": {},
   "outputs": [
    {
     "data": {
      "text/plain": [
       "'\\nfor raw_record in raw_dataset:\\n  example = tf.train.Example()\\n  example.ParseFromString(raw_record.numpy())\\n  print(dict(example.features.feature).keys())\\n  print(len(example.features.feature[\\'local_view\\'].float_list.value))\\n  local_view = np.array(ex.features.feature[\"local_view\"].float_list.value)\\n  fig, axes = plt.subplots(1, 2, figsize=(20, 6))\\n  axes[1].plot(local_view, \".\")\\n  plt.show()\\n'"
      ]
     },
     "execution_count": 4,
     "metadata": {},
     "output_type": "execute_result"
    }
   ],
   "source": [
    "\"\"\"\n",
    "for raw_record in raw_dataset:\n",
    "  example = tf.train.Example()\n",
    "  example.ParseFromString(raw_record.numpy())\n",
    "  print(dict(example.features.feature).keys())\n",
    "  print(len(example.features.feature['local_view'].float_list.value))\n",
    "  local_view = np.array(ex.features.feature[\"local_view\"].float_list.value)\n",
    "  fig, axes = plt.subplots(1, 2, figsize=(20, 6))\n",
    "  axes[1].plot(local_view, \".\")\n",
    "  plt.show()\n",
    "\"\"\""
   ]
  },
  {
   "cell_type": "code",
   "execution_count": 5,
   "id": "bac6c3e0-bd2e-44ef-9052-ed0a77383a4c",
   "metadata": {},
   "outputs": [],
   "source": [
    "KEPLER_ID = 11442793  # Kepler-90\n",
    "TFRECORD_DIR = \"TFRecords/\""
   ]
  },
  {
   "cell_type": "code",
   "execution_count": 6,
   "id": "779b6a2c-4983-44bb-9c5b-df1442c1a582",
   "metadata": {},
   "outputs": [],
   "source": [
    "# Helper function to find the tf.Example corresponding to a particular TCE.\n",
    "def find_tce(kepid, tce_plnt_num, filenames):\n",
    "  for filename in filenames:\n",
    "    for record in tf.compat.v1.python_io.tf_record_iterator(filename):\n",
    "      ex = tf.train.Example.FromString(record)\n",
    "      #print(len(ex.features.feature['local_view'].float_list.value))\n",
    "      if (ex.features.feature[\"kepid\"].int64_list.value[0] == kepid and\n",
    "          ex.features.feature[\"tce_plnt_num\"].int64_list.value[0] == tce_plnt_num):\n",
    "        print(\"Found {}_{} in file {}\".format(kepid, tce_plnt_num, filename))\n",
    "        return ex\n",
    "  raise ValueError(\"{}_{} not found in files: {}\".format(kepid, tce_plnt_num, filenames))"
   ]
  },
  {
   "cell_type": "code",
   "execution_count": 7,
   "id": "de205657-6396-4b87-a02e-8e96d9c25a05",
   "metadata": {},
   "outputs": [
    {
     "name": "stdout",
     "output_type": "stream",
     "text": [
      "WARNING:tensorflow:From /tmp/ipykernel_9504/1592380825.py:4: tf_record_iterator (from tensorflow.python.lib.io.tf_record) is deprecated and will be removed in a future version.\n",
      "Instructions for updating:\n",
      "Use eager execution and: \n",
      "`tf.data.TFRecordDataset(path)`\n",
      "Found 11442793_1 in file TFRecords/train-00003-of-00008\n"
     ]
    }
   ],
   "source": [
    "# Find Kepler-90 g.\n",
    "filenames = tf.io.gfile.glob(os.path.join(TFRECORD_DIR, \"*\"))\n",
    "assert filenames, \"No files found in {}\".format(TFRECORD_DIR)\n",
    "ex = find_tce(KEPLER_ID, 1, filenames)"
   ]
  },
  {
   "cell_type": "code",
   "execution_count": 8,
   "id": "f2d797be-d326-4262-9cb5-bf73001cad42",
   "metadata": {},
   "outputs": [
    {
     "data": {
      "image/png": "[encoded data removed]",
      "text/plain": [
       "<Figure size 1440x432 with 2 Axes>"
      ]
     },
     "metadata": {
      "needs_background": "light"
     },
     "output_type": "display_data"
    }
   ],
   "source": [
    "# Plot the global and local views.\n",
    "global_view = np.array(ex.features.feature[\"global_view\"].float_list.value)\n",
    "local_view = np.array(ex.features.feature[\"local_view\"].float_list.value)\n",
    "fig, axes = plt.subplots(1, 2, figsize=(20, 6))\n",
    "axes[0].plot(global_view, \".\")\n",
    "axes[1].plot(local_view, \".\")\n",
    "plt.show()"
   ]
  },
  {
   "cell_type": "code",
   "execution_count": 9,
   "id": "a3003fe3-9a4c-47fc-a7ff-11f113dd0bef",
   "metadata": {},
   "outputs": [
    {
     "name": "stderr",
     "output_type": "stream",
     "text": [
      "2021-12-15 04:48:19.612166: I tensorflow/stream_executor/cuda/cuda_gpu_executor.cc:937] successful NUMA node read from SysFS had negative value (-1), but there must be at least one NUMA node, so returning NUMA node zero\n",
      "2021-12-15 04:48:19.635378: I tensorflow/stream_executor/cuda/cuda_gpu_executor.cc:937] successful NUMA node read from SysFS had negative value (-1), but there must be at least one NUMA node, so returning NUMA node zero\n",
      "2021-12-15 04:48:19.635785: I tensorflow/stream_executor/cuda/cuda_gpu_executor.cc:937] successful NUMA node read from SysFS had negative value (-1), but there must be at least one NUMA node, so returning NUMA node zero\n",
      "2021-12-15 04:48:19.638196: I tensorflow/core/platform/cpu_feature_guard.cc:142] This TensorFlow binary is optimized with oneAPI Deep Neural Network Library (oneDNN) to use the following CPU instructions in performance-critical operations:  AVX2 FMA\n",
      "To enable them in other operations, rebuild TensorFlow with the appropriate compiler flags.\n",
      "2021-12-15 04:48:19.638547: I tensorflow/stream_executor/cuda/cuda_gpu_executor.cc:937] successful NUMA node read from SysFS had negative value (-1), but there must be at least one NUMA node, so returning NUMA node zero\n",
      "2021-12-15 04:48:19.638985: I tensorflow/stream_executor/cuda/cuda_gpu_executor.cc:937] successful NUMA node read from SysFS had negative value (-1), but there must be at least one NUMA node, so returning NUMA node zero\n",
      "2021-12-15 04:48:19.639274: I tensorflow/stream_executor/cuda/cuda_gpu_executor.cc:937] successful NUMA node read from SysFS had negative value (-1), but there must be at least one NUMA node, so returning NUMA node zero\n",
      "2021-12-15 04:48:21.373999: I tensorflow/stream_executor/cuda/cuda_gpu_executor.cc:937] successful NUMA node read from SysFS had negative value (-1), but there must be at least one NUMA node, so returning NUMA node zero\n",
      "2021-12-15 04:48:21.374385: I tensorflow/stream_executor/cuda/cuda_gpu_executor.cc:937] successful NUMA node read from SysFS had negative value (-1), but there must be at least one NUMA node, so returning NUMA node zero\n",
      "2021-12-15 04:48:21.374895: I tensorflow/stream_executor/cuda/cuda_gpu_executor.cc:937] successful NUMA node read from SysFS had negative value (-1), but there must be at least one NUMA node, so returning NUMA node zero\n",
      "2021-12-15 04:48:21.375997: I tensorflow/core/common_runtime/gpu/gpu_device.cc:1510] Created device /job:localhost/replica:0/task:0/device:GPU:0 with 448 MB memory:  -> device: 0, name: Tesla T4, pci bus id: 0000:00:04.0, compute capability: 7.5\n",
      "2021-12-15 04:48:21.586894: I tensorflow/compiler/mlir/mlir_graph_optimization_pass.cc:185] None of the MLIR Optimization Passes are enabled (registered 2)\n"
     ]
    },
    {
     "name": "stdout",
     "output_type": "stream",
     "text": [
      "dict_keys(['kepid', 'tce_prad', 'spline_bkspace', 'tce_plnt_num', 'tce_max_mult_ev', 'local_view', 'global_view', 'tce_period', 'tce_time0bk', 'tce_duration', 'av_pred_class', 'tce_model_snr', 'tce_depth', 'tce_impact', 'av_training_set'])\n"
     ]
    }
   ],
   "source": [
    "#print the feature names\n",
    "raw_dataset = tf.data.TFRecordDataset(filenames)\n",
    "raw_dataset\n",
    "for raw_record in raw_dataset.take(1):\n",
    "  example = tf.train.Example()\n",
    "  example.ParseFromString(raw_record.numpy())\n",
    "  print(dict(example.features.feature).keys())"
   ]
  },
  {
   "cell_type": "code",
   "execution_count": 10,
   "id": "55c72bea-09ee-410c-bc14-a9b04406a21c",
   "metadata": {},
   "outputs": [],
   "source": [
    "#reads TFRecord files and parses them into a long dataframe\n",
    "def process(regex):\n",
    "    filenames = []\n",
    "    rootdir = \"TFRecords/\"\n",
    "    for path in glob.glob(os.path.join(rootdir, regex)):\n",
    "        filenames.append(path)\n",
    "    \n",
    "    # https://exoplanetarchive.ipac.caltech.edu/docs/API_tce_columns.html\n",
    "    def pred_to_bool(pred):\n",
    "        conv = []\n",
    "        for prediction in pred:\n",
    "            prediction = prediction.decode(\"utf-8\") #convert from bytelist to string\n",
    "            if(prediction == \"PC\"):\n",
    "                conv.append(1)\n",
    "            if(prediction == \"AFP\" or prediction == \"NTP\"):\n",
    "                conv.append(0)\n",
    "        return conv\n",
    "\n",
    "    fluxes = []\n",
    "    pred = []\n",
    "    #create a long dataframe that is TSFresh compatable\n",
    "    example_num = 0\n",
    "    for filename in filenames:\n",
    "        for record in tf.compat.v1.python_io.tf_record_iterator(filename):\n",
    "            ex = tf.train.Example.FromString(record)\n",
    "            local_view = np.array(ex.features.feature[\"local_view\"].float_list.value[0:])\n",
    "\n",
    "            #for time in range(len(local_view)):\n",
    "            #    data = data.append({'id': example_num, 'time': time, 'FLUX': local_view[time]}, ignore_index=True)\n",
    "            #10000% performace boost!!!!\n",
    "            for time in range(len(local_view)):\n",
    "                 fluxes.append([example_num, time, local_view[time]])\n",
    "            \n",
    "            lc = lk.LightCurve(time = np.arange(len(local_view)), flux= local_view)\n",
    "            #lc.scatter()\n",
    "            \n",
    "            pred.append(pred_to_bool(ex.features.feature[\"av_pred_class\"].bytes_list.value[0:]))\n",
    "            example_num += 1\n",
    "            if example_num%100 == 0:\n",
    "                print(example_num)\n",
    "    \n",
    "\n",
    "    data = pd.DataFrame(fluxes, columns = [\"id\", \"time\", \"FLUX\"])\n",
    "    return data, pred"
   ]
  },
  {
   "cell_type": "code",
   "execution_count": 11,
   "id": "aea574db-4451-427b-bbeb-eeef28064e20",
   "metadata": {},
   "outputs": [
    {
     "name": "stdout",
     "output_type": "stream",
     "text": [
      "100\n",
      "200\n",
      "300\n",
      "400\n",
      "500\n",
      "600\n",
      "700\n",
      "800\n",
      "900\n",
      "1000\n",
      "1100\n",
      "1200\n",
      "1300\n",
      "1400\n",
      "1500\n",
      "1600\n",
      "1700\n",
      "1800\n",
      "1900\n",
      "2000\n",
      "2100\n",
      "2200\n",
      "2300\n",
      "2400\n",
      "2500\n",
      "2600\n",
      "2700\n",
      "2800\n",
      "2900\n",
      "3000\n",
      "3100\n",
      "3200\n",
      "3300\n",
      "3400\n",
      "3500\n",
      "3600\n",
      "3700\n",
      "3800\n",
      "3900\n",
      "4000\n",
      "4100\n",
      "4200\n",
      "4300\n",
      "4400\n",
      "4500\n",
      "4600\n",
      "4700\n",
      "4800\n",
      "4900\n",
      "5000\n",
      "5100\n",
      "5200\n",
      "5300\n",
      "5400\n",
      "5500\n",
      "5600\n",
      "5700\n",
      "5800\n",
      "5900\n",
      "6000\n",
      "6100\n",
      "6200\n",
      "6300\n",
      "6400\n",
      "6500\n",
      "6600\n",
      "6700\n",
      "6800\n",
      "6900\n",
      "7000\n",
      "7100\n",
      "7200\n",
      "7300\n",
      "7400\n",
      "7500\n",
      "7600\n",
      "7700\n",
      "7800\n",
      "7900\n",
      "8000\n",
      "8100\n",
      "8200\n",
      "8300\n",
      "8400\n",
      "8500\n",
      "8600\n",
      "8700\n",
      "8800\n",
      "8900\n",
      "9000\n",
      "9100\n",
      "9200\n",
      "9300\n",
      "9400\n",
      "9500\n",
      "9600\n",
      "9700\n",
      "9800\n",
      "9900\n",
      "10000\n",
      "10100\n",
      "10200\n",
      "10300\n",
      "10400\n",
      "10500\n",
      "10600\n",
      "10700\n",
      "10800\n",
      "10900\n",
      "11000\n",
      "11100\n",
      "11200\n",
      "11300\n",
      "11400\n",
      "11500\n",
      "11600\n",
      "11700\n",
      "11800\n",
      "11900\n",
      "12000\n",
      "12100\n",
      "12200\n",
      "12300\n",
      "12400\n",
      "12500\n",
      "100\n",
      "200\n",
      "300\n",
      "400\n",
      "500\n",
      "600\n",
      "700\n",
      "800\n",
      "900\n",
      "1000\n",
      "1100\n",
      "1200\n",
      "1300\n",
      "1400\n",
      "1500\n",
      "100\n",
      "200\n",
      "300\n",
      "400\n",
      "500\n",
      "600\n",
      "700\n",
      "800\n",
      "900\n",
      "1000\n",
      "1100\n",
      "1200\n",
      "1300\n",
      "1400\n",
      "1500\n"
     ]
    }
   ],
   "source": [
    "train_data, train_y = process('train*')\n",
    "test_data, test_y = process('test*')\n",
    "val_data, val_y = process('val*')"
   ]
  },
  {
   "cell_type": "code",
   "execution_count": 12,
   "id": "e2d0a446-7c9e-43b9-b7be-206362769a37",
   "metadata": {},
   "outputs": [
    {
     "name": "stdout",
     "output_type": "stream",
     "text": [
      "            id  time      FLUX\n",
      "0            0     0  0.063849\n",
      "1            0     1  0.072552\n",
      "2            0     2  0.071125\n",
      "3            0     3  0.053433\n",
      "4            0     4  0.029606\n",
      "...        ...   ...       ...\n",
      "2530384  12588   196  1.022789\n",
      "2530385  12588   197  0.738470\n",
      "2530386  12588   198  0.440043\n",
      "2530387  12588   199  0.320673\n",
      "2530388  12588   200  0.085187\n",
      "\n",
      "[2530389 rows x 3 columns]           id  time      FLUX\n",
      "0          0     0  0.000000\n",
      "1          0     1 -0.005629\n",
      "2          0     2 -0.018762\n",
      "3          0     3  0.002814\n",
      "4          0     4  0.080675\n",
      "...      ...   ...       ...\n",
      "316369  1573   196  0.485656\n",
      "316370  1573   197  0.594262\n",
      "316371  1573   198  0.639344\n",
      "316372  1573   199  0.774590\n",
      "316373  1573   200  0.846311\n",
      "\n",
      "[316374 rows x 3 columns]           id  time      FLUX\n",
      "0          0     0  0.574089\n",
      "1          0     1  0.728745\n",
      "2          0     2  0.675304\n",
      "3          0     3  0.620243\n",
      "4          0     4  0.377328\n",
      "...      ...   ...       ...\n",
      "316369  1573   196 -0.000332\n",
      "316370  1573   197  0.000038\n",
      "316371  1573   198  0.000492\n",
      "316372  1573   199  0.000113\n",
      "316373  1573   200  0.000029\n",
      "\n",
      "[316374 rows x 3 columns]\n"
     ]
    }
   ],
   "source": [
    "print(train_data, test_data, val_data)"
   ]
  },
  {
   "cell_type": "code",
   "execution_count": 13,
   "id": "c9462a3f-8b16-4e56-8004-44d705a831c7",
   "metadata": {},
   "outputs": [],
   "source": [
    "train_data.to_pickle(\"./Kepler-Train.pkl\")\n",
    "test_data.to_pickle(\"./Kepler-Test.pkl\")\n",
    "val_data.to_pickle(\"./Kepler-Val.pkl\")\n",
    "\n",
    "with open('Labels-Train.npy', 'wb') as f:\n",
    "    np.save(f, np.array(train_y))\n",
    "    \n",
    "with open('Labels-Test.npy', 'wb') as f:\n",
    "    np.save(f, np.array(test_y))\n",
    "    \n",
    "with open('Labels-Val.npy', 'wb') as f:\n",
    "    np.save(f, np.array(val_y))"
   ]
  }
 ],
 "metadata": {
  "environment": {
   "kernel": "python3",
   "name": "tf2-gpu.2-6.m87",
   "type": "gcloud",
   "uri": "gcr.io/deeplearning-platform-release/tf2-gpu.2-6:m87"
  },
  "kernelspec": {
   "display_name": "Python 3",
   "language": "python",
   "name": "python3"
  },
  "language_info": {
   "codemirror_mode": {
    "name": "ipython",
    "version": 3
   },
   "file_extension": ".py",
   "mimetype": "text/x-python",
   "name": "python",
   "nbconvert_exporter": "python",
   "pygments_lexer": "ipython3",
   "version": "3.7.12"
  }
 },
 "nbformat": 4,
 "nbformat_minor": 5
}
