{
 "cells": [
  {
   "cell_type": "code",
   "execution_count": 1,
   "metadata": {
    "cell_id": "00000-afba7569-182c-446f-9ff9-b34e7667234e",
    "deepnote_cell_type": "code",
    "deepnote_to_be_reexecuted": false,
    "execution_millis": 1,
    "execution_start": 1635037265730,
    "source_hash": "5278eaf6",
    "tags": []
   },
   "outputs": [
    {
     "data": {
      "text/plain": [
       "[PhysicalDevice(name='/physical_device:GPU:0', device_type='GPU')]"
      ]
     },
     "execution_count": 1,
     "metadata": {},
     "output_type": "execute_result"
    }
   ],
   "source": [
    "# https://stackoverflow.com/questions/45741878/using-binary-crossentropy-loss-in-keras-tensorflow-backend\n",
    "# https://www.machinecurve.com/index.php/2019/10/22/how-to-use-binary-categorical-crossentropy-with-keras/\n",
    "\n",
    "import os\n",
    "os.environ['TF_CPP_MIN_LOG_LEVEL'] = '3'\n",
    "\n",
    "import tensorflow as tf\n",
    "from tensorflow import keras\n",
    "from tensorflow.keras.models import Sequential\n",
    "from tensorflow.keras.layers import Dense, Dropout, LSTM\n",
    "from tensorflow.keras.losses import BinaryCrossentropy\n",
    "from sklearn.model_selection import train_test_split\n",
    "from keras.callbacks import CSVLogger\n",
    "from sklearn import preprocessing\n",
    "import numpy as np\n",
    "import pandas as pd\n",
    "import matplotlib.pyplot as plt\n",
    "import pickle\n",
    "physical_devices = tf.config.list_physical_devices('GPU') \n",
    "for device in physical_devices:\n",
    "    tf.config.experimental.set_memory_growth(device, True)\n",
    "\n",
    "%load_ext tensorboard\n",
    "import datetime\n",
    "\n",
    "tf.config.experimental.list_physical_devices('GPU')\n",
    "\n",
    "# RNN based Models (RNN & LSTM & GRU) using tensorflow keras"
   ]
  },
  {
   "cell_type": "code",
   "execution_count": 2,
   "metadata": {},
   "outputs": [],
   "source": [
    "!rm -rf ./logs/LSTM #dont run this line unless you want to delete the tensorboard logs"
   ]
  },
  {
   "cell_type": "code",
   "execution_count": 3,
   "metadata": {
    "cell_id": "00004-38d59f3b-639f-4670-800c-6442871d0b19",
    "deepnote_cell_type": "code",
    "deepnote_to_be_reexecuted": false,
    "execution_millis": 3,
    "execution_start": 1635033957043,
    "source_hash": "df684276",
    "tags": []
   },
   "outputs": [],
   "source": [
    "def convert_3D(matrix):\n",
    "    return np.expand_dims(matrix, -1)"
   ]
  },
  {
   "cell_type": "code",
   "execution_count": 4,
   "metadata": {
    "cell_id": "00002-2f7c7b75-6991-49b0-8fb1-efa0c10c3753",
    "deepnote_cell_type": "code",
    "deepnote_to_be_reexecuted": false,
    "execution_millis": 3,
    "execution_start": 1635033957053,
    "source_hash": "d6dd0e88",
    "tags": []
   },
   "outputs": [],
   "source": [
    "def labels(filename):\n",
    "    with open(filename, 'rb') as f:\n",
    "        labels = np.load(f).ravel()\n",
    "    return labels"
   ]
  },
  {
   "cell_type": "code",
   "execution_count": 5,
   "metadata": {
    "cell_id": "00003-61e6535c-8807-4fdf-9db0-2600c2e1ffeb",
    "deepnote_cell_type": "code",
    "deepnote_to_be_reexecuted": false,
    "execution_millis": 7311,
    "execution_start": 1635033957061,
    "source_hash": "cc5c0c7f",
    "tags": []
   },
   "outputs": [],
   "source": [
    "training_data_y = labels(\"../Labels-Train.npy\")\n",
    "test_y = labels(\"../Labels-Test.npy\")\n",
    "\n",
    "training_data_x = pickle.load(open(\"TS-Train.pkl\", \"rb\"))\n",
    "test_x = pickle.load(open(\"TS-Test.pkl\", \"rb\"))\n",
    "\n",
    "training_data_x = training_data_x.dropna(axis=1)\n",
    "test_x = test_x.dropna(axis=1)\n",
    "\n",
    "training_data_x = preprocessing.normalize(training_data_x, norm='max', axis=0)\n",
    "test_x = preprocessing.normalize(test_x, norm='max', axis=0)\n",
    "\n",
    "training_data_x = convert_3D(training_data_x)\n",
    "test_x = convert_3D(test_x)\n",
    "\n",
    "training_data_x, validation_data_x, training_data_y, validation_data_y = train_test_split(training_data_x, training_data_y, test_size=0.3)"
   ]
  },
  {
   "cell_type": "code",
   "execution_count": 6,
   "metadata": {
    "cell_id": "00006-f4aee48d-a8a3-4adf-b11c-6d3234ad146b",
    "deepnote_cell_type": "code",
    "deepnote_to_be_reexecuted": false,
    "execution_millis": 1252938,
    "execution_start": 1634585366394,
    "source_hash": "1b176e43",
    "tags": []
   },
   "outputs": [
    {
     "name": "stdout",
     "output_type": "stream",
     "text": [
      "Epoch 1/10\n",
      "276/276 [==============================] - 21s 61ms/step - loss: 0.6686 - accuracy: 0.7732 - auc: 0.4628 - precision: 0.0000e+00 - recall: 0.0000e+00 - false_negatives: 1999.0000 - false_positives: 0.0000e+00 - true_negatives: 6813.0000 - true_positives: 0.0000e+00 - val_loss: 0.6623 - val_accuracy: 0.7652 - val_auc: 0.4242 - val_precision: 0.0000e+00 - val_recall: 0.0000e+00 - val_false_negatives: 887.0000 - val_false_positives: 0.0000e+00 - val_true_negatives: 2890.0000 - val_true_positives: 0.0000e+00\n",
      "Epoch 2/10\n",
      "276/276 [==============================] - 15s 53ms/step - loss: 0.6539 - accuracy: 0.7732 - auc: 0.4523 - precision: 0.0000e+00 - recall: 0.0000e+00 - false_negatives: 1999.0000 - false_positives: 0.0000e+00 - true_negatives: 6813.0000 - true_positives: 0.0000e+00 - val_loss: 0.6476 - val_accuracy: 0.7652 - val_auc: 0.3949 - val_precision: 0.0000e+00 - val_recall: 0.0000e+00 - val_false_negatives: 887.0000 - val_false_positives: 0.0000e+00 - val_true_negatives: 2890.0000 - val_true_positives: 0.0000e+00\n",
      "Epoch 3/10\n",
      "276/276 [==============================] - 15s 53ms/step - loss: 0.6375 - accuracy: 0.7732 - auc: 0.4565 - precision: 0.0000e+00 - recall: 0.0000e+00 - false_negatives: 1999.0000 - false_positives: 0.0000e+00 - true_negatives: 6813.0000 - true_positives: 0.0000e+00 - val_loss: 0.6305 - val_accuracy: 0.7652 - val_auc: 0.3991 - val_precision: 0.0000e+00 - val_recall: 0.0000e+00 - val_false_negatives: 887.0000 - val_false_positives: 0.0000e+00 - val_true_negatives: 2890.0000 - val_true_positives: 0.0000e+00\n",
      "Epoch 4/10\n",
      "276/276 [==============================] - 15s 54ms/step - loss: 0.6183 - accuracy: 0.7732 - auc: 0.4354 - precision: 0.0000e+00 - recall: 0.0000e+00 - false_negatives: 1999.0000 - false_positives: 0.0000e+00 - true_negatives: 6813.0000 - true_positives: 0.0000e+00 - val_loss: 0.6106 - val_accuracy: 0.7652 - val_auc: 0.3808 - val_precision: 0.0000e+00 - val_recall: 0.0000e+00 - val_false_negatives: 887.0000 - val_false_positives: 0.0000e+00 - val_true_negatives: 2890.0000 - val_true_positives: 0.0000e+00\n",
      "Epoch 5/10\n",
      "276/276 [==============================] - 15s 54ms/step - loss: 0.5957 - accuracy: 0.7732 - auc: 0.4449 - precision: 0.0000e+00 - recall: 0.0000e+00 - false_negatives: 1999.0000 - false_positives: 0.0000e+00 - true_negatives: 6813.0000 - true_positives: 0.0000e+00 - val_loss: 0.5877 - val_accuracy: 0.7652 - val_auc: 0.3681 - val_precision: 0.0000e+00 - val_recall: 0.0000e+00 - val_false_negatives: 887.0000 - val_false_positives: 0.0000e+00 - val_true_negatives: 2890.0000 - val_true_positives: 0.0000e+00\n",
      "Epoch 6/10\n",
      "276/276 [==============================] - 15s 54ms/step - loss: 0.5715 - accuracy: 0.7732 - auc: 0.4385 - precision: 0.0000e+00 - recall: 0.0000e+00 - false_negatives: 1999.0000 - false_positives: 0.0000e+00 - true_negatives: 6813.0000 - true_positives: 0.0000e+00 - val_loss: 0.5661 - val_accuracy: 0.7652 - val_auc: 0.3517 - val_precision: 0.0000e+00 - val_recall: 0.0000e+00 - val_false_negatives: 887.0000 - val_false_positives: 0.0000e+00 - val_true_negatives: 2890.0000 - val_true_positives: 0.0000e+00\n",
      "Epoch 7/10\n",
      "276/276 [==============================] - 15s 55ms/step - loss: 0.5521 - accuracy: 0.7732 - auc: 0.4129 - precision: 0.0000e+00 - recall: 0.0000e+00 - false_negatives: 1999.0000 - false_positives: 0.0000e+00 - true_negatives: 6813.0000 - true_positives: 0.0000e+00 - val_loss: 0.5536 - val_accuracy: 0.7652 - val_auc: 0.3393 - val_precision: 0.0000e+00 - val_recall: 0.0000e+00 - val_false_negatives: 887.0000 - val_false_positives: 0.0000e+00 - val_true_negatives: 2890.0000 - val_true_positives: 0.0000e+00\n",
      "Epoch 8/10\n",
      "276/276 [==============================] - 15s 54ms/step - loss: 0.5435 - accuracy: 0.7732 - auc: 0.3762 - precision: 0.0000e+00 - recall: 0.0000e+00 - false_negatives: 1999.0000 - false_positives: 0.0000e+00 - true_negatives: 6813.0000 - true_positives: 0.0000e+00 - val_loss: 0.5507 - val_accuracy: 0.7652 - val_auc: 0.3337 - val_precision: 0.0000e+00 - val_recall: 0.0000e+00 - val_false_negatives: 887.0000 - val_false_positives: 0.0000e+00 - val_true_negatives: 2890.0000 - val_true_positives: 0.0000e+00\n",
      "Epoch 9/10\n",
      "276/276 [==============================] - 15s 54ms/step - loss: 0.5414 - accuracy: 0.7732 - auc: 0.3489 - precision: 0.0000e+00 - recall: 0.0000e+00 - false_negatives: 1999.0000 - false_positives: 0.0000e+00 - true_negatives: 6813.0000 - true_positives: 0.0000e+00 - val_loss: 0.5505 - val_accuracy: 0.7652 - val_auc: 0.3349 - val_precision: 0.0000e+00 - val_recall: 0.0000e+00 - val_false_negatives: 887.0000 - val_false_positives: 0.0000e+00 - val_true_negatives: 2890.0000 - val_true_positives: 0.0000e+00\n",
      "Epoch 10/10\n",
      "276/276 [==============================] - 15s 54ms/step - loss: 0.5411 - accuracy: 0.7732 - auc: 0.3377 - precision: 0.0000e+00 - recall: 0.0000e+00 - false_negatives: 1999.0000 - false_positives: 0.0000e+00 - true_negatives: 6813.0000 - true_positives: 0.0000e+00 - val_loss: 0.5506 - val_accuracy: 0.7652 - val_auc: 0.3328 - val_precision: 0.0000e+00 - val_recall: 0.0000e+00 - val_false_negatives: 887.0000 - val_false_positives: 0.0000e+00 - val_true_negatives: 2890.0000 - val_true_positives: 0.0000e+00\n"
     ]
    },
    {
     "name": "stderr",
     "output_type": "stream",
     "text": [
      "WARNING:absl:Found untraced functions such as lstm_cell_layer_call_fn, lstm_cell_layer_call_and_return_conditional_losses, lstm_cell_1_layer_call_fn, lstm_cell_1_layer_call_and_return_conditional_losses, lstm_cell_layer_call_fn while saving (showing 5 of 10). These functions will not be directly callable after loading.\n"
     ]
    },
    {
     "name": "stdout",
     "output_type": "stream",
     "text": [
      "INFO:tensorflow:Assets written to: keras-models/KerasLSTM/assets\n"
     ]
    },
    {
     "name": "stderr",
     "output_type": "stream",
     "text": [
      "INFO:tensorflow:Assets written to: keras-models/KerasLSTM/assets\n"
     ]
    }
   ],
   "source": [
    "LSTMmodel = Sequential([\n",
    "    LSTM(64, input_shape=(training_data_x.shape[1:]), return_sequences=True),\n",
    "    #Dropout(0.3),\n",
    "    LSTM(64),\n",
    "    #Dropout(0.3),\n",
    "    Dense(1, activation='sigmoid')\n",
    "])\n",
    "\n",
    "LSTMmodel.compile(\n",
    "    loss=BinaryCrossentropy(),\n",
    "    optimizer=keras.optimizers.Adam(learning_rate=0.000003),\n",
    "    metrics=[\"accuracy\", tf.keras.metrics.AUC(), tf.keras.metrics.Precision(), tf.keras.metrics.Recall(), tf.keras.metrics.FalseNegatives(),\n",
    "             tf.keras.metrics.FalsePositives(), tf.keras.metrics.TrueNegatives(), tf.keras.metrics.TruePositives()]\n",
    ")\n",
    "\n",
    "log_dir = \"logs/LSTM/fit/\" + datetime.datetime.now().strftime(\"%Y%m%d-%H%M%S\")\n",
    "tensorboard_callback = tf.keras.callbacks.TensorBoard(log_dir=log_dir, histogram_freq=1)\n",
    "\n",
    "csv_logger = CSVLogger('keras-models/KerasLSTM/training.csv',separator=\",\", append=False)\n",
    "\n",
    "LSTMmodel.fit(training_data_x, training_data_y, epochs=10, validation_data=(validation_data_x,validation_data_y), callbacks=[tensorboard_callback, csv_logger])\n",
    "\n",
    "model = LSTMmodel\n",
    "model.save('keras-models/KerasLSTM')"
   ]
  },
  {
   "cell_type": "code",
   "execution_count": 7,
   "metadata": {},
   "outputs": [
    {
     "data": {
      "text/html": [
       "\n",
       "      <iframe id=\"tensorboard-frame-33b21223b883efb\" width=\"100%\" height=\"800\" frameborder=\"0\">\n",
       "      </iframe>\n",
       "      <script>\n",
       "        (function() {\n",
       "          const frame = document.getElementById(\"tensorboard-frame-33b21223b883efb\");\n",
       "          const url = new URL(\"/proxy/6006/\", window.location);\n",
       "          const port = 0;\n",
       "          if (port) {\n",
       "            url.port = port;\n",
       "          }\n",
       "          frame.src = url;\n",
       "        })();\n",
       "      </script>\n",
       "    "
      ],
      "text/plain": [
       "<IPython.core.display.HTML object>"
      ]
     },
     "metadata": {},
     "output_type": "display_data"
    }
   ],
   "source": [
    "%tensorboard --logdir logs/LSTM/fit"
   ]
  }
 ],
 "metadata": {
  "deepnote": {
   "is_reactive": false
  },
  "deepnote_execution_queue": [],
  "deepnote_notebook_id": "cc27128a-20f9-46f3-8cb8-b049b97dc4ab",
  "environment": {
   "kernel": "python3",
   "name": "tf2-gpu.2-6.m87",
   "type": "gcloud",
   "uri": "gcr.io/deeplearning-platform-release/tf2-gpu.2-6:m87"
  },
  "kernelspec": {
   "display_name": "Python 3",
   "language": "python",
   "name": "python3"
  },
  "language_info": {
   "codemirror_mode": {
    "name": "ipython",
    "version": 3
   },
   "file_extension": ".py",
   "mimetype": "text/x-python",
   "name": "python",
   "nbconvert_exporter": "python",
   "pygments_lexer": "ipython3",
   "version": "3.7.12"
  }
 },
 "nbformat": 4,
 "nbformat_minor": 4
}
